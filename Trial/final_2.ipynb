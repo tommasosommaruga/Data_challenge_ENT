{
 "cells": [
  {
   "cell_type": "code",
   "execution_count": 1,
   "metadata": {},
   "outputs": [],
   "source": [
    "import pandas as pd\n",
    "import pickle\n",
    "import networkx as nx\n",
    "import numpy as np\n",
    "from sklearn.model_selection import train_test_split\n",
    "from sklearn.ensemble import RandomForestClassifier\n",
    "import itertools\n",
    "from sklearn.metrics import classification_report\n",
    "\n",
    "# Load Data\n",
    "df = pd.read_pickle('Data/preprocessed_df.pkl')\n",
    "\n",
    "df['categories'] = df['categories'].apply(lambda x: len(x) if x else None)\n",
    "data = df.drop(columns=[\"title\", \"abstract\"])\n",
    "\n",
    "data['venue_exists'] = data['venue'].apply(lambda x: 1 if x else 0)\n",
    "\n",
    "# Graph Construction\n",
    "G = nx.DiGraph()\n",
    "for _, row in df.iterrows():\n",
    "    G.add_node(row['index'], title=row['title'], authors=row['authors'], year=row['year'], venue=row['venue'])\n",
    "    for citation in row['citations']:\n",
    "        G.add_edge(row['index'], citation)\n",
    "\n",
    "# Feature Extraction\n",
    "def extract_graph_features(G, node1, node2):\n",
    "    common_neighbors = len(list(nx.common_neighbors(G, node1, node2)))\n",
    "    jaccard_coefficient = list(nx.jaccard_coefficient(G, [(node1, node2)]))[0][2]\n",
    "    return [common_neighbors, jaccard_coefficient]"
   ]
  },
  {
   "cell_type": "code",
   "execution_count": 4,
   "metadata": {},
   "outputs": [
    {
     "ename": "KeyboardInterrupt",
     "evalue": "",
     "output_type": "error",
     "traceback": [
      "\u001b[0;31m---------------------------------------------------------------------------\u001b[0m",
      "\u001b[0;31mKeyboardInterrupt\u001b[0m                         Traceback (most recent call last)",
      "Cell \u001b[0;32mIn[4], line 16\u001b[0m\n\u001b[1;32m     14\u001b[0m \u001b[38;5;28;01mfor\u001b[39;00m edge \u001b[38;5;129;01min\u001b[39;00m edges:\n\u001b[1;32m     15\u001b[0m     node1, node2 \u001b[38;5;241m=\u001b[39m edge\n\u001b[0;32m---> 16\u001b[0m     features\u001b[38;5;241m.\u001b[39mappend(\u001b[43mextract_graph_features\u001b[49m\u001b[43m(\u001b[49m\u001b[43mG\u001b[49m\u001b[43m,\u001b[49m\u001b[43m \u001b[49m\u001b[43mnode1\u001b[49m\u001b[43m,\u001b[49m\u001b[43m \u001b[49m\u001b[43mnode2\u001b[49m\u001b[43m)\u001b[49m)\n\u001b[1;32m     17\u001b[0m     labels\u001b[38;5;241m.\u001b[39mappend(\u001b[38;5;241m1\u001b[39m)  \u001b[38;5;66;03m# Positive example: node1 cites node2\u001b[39;00m\n\u001b[1;32m     19\u001b[0m non_edges \u001b[38;5;241m=\u001b[39m [pair \u001b[38;5;28;01mfor\u001b[39;00m pair \u001b[38;5;129;01min\u001b[39;00m itertools\u001b[38;5;241m.\u001b[39mcombinations(G\u001b[38;5;241m.\u001b[39mnodes(), \u001b[38;5;241m2\u001b[39m) \u001b[38;5;28;01mif\u001b[39;00m \u001b[38;5;129;01mnot\u001b[39;00m G\u001b[38;5;241m.\u001b[39mhas_edge(\u001b[38;5;241m*\u001b[39mpair)]\n",
      "Cell \u001b[0;32mIn[4], line 4\u001b[0m, in \u001b[0;36mextract_graph_features\u001b[0;34m(G, node1, node2)\u001b[0m\n\u001b[1;32m      2\u001b[0m \u001b[38;5;28;01mdef\u001b[39;00m \u001b[38;5;21mextract_graph_features\u001b[39m(G, node1, node2):\n\u001b[1;32m      3\u001b[0m     \u001b[38;5;66;03m# Convert to undirected for common neighbors and Jaccard coefficient\u001b[39;00m\n\u001b[0;32m----> 4\u001b[0m     G_undirected \u001b[38;5;241m=\u001b[39m \u001b[43mG\u001b[49m\u001b[38;5;241;43m.\u001b[39;49m\u001b[43mto_undirected\u001b[49m\u001b[43m(\u001b[49m\u001b[43m)\u001b[49m\n\u001b[1;32m      5\u001b[0m     common_neighbors \u001b[38;5;241m=\u001b[39m \u001b[38;5;28mlen\u001b[39m(\u001b[38;5;28mlist\u001b[39m(nx\u001b[38;5;241m.\u001b[39mcommon_neighbors(G_undirected, node1, node2)))\n\u001b[1;32m      6\u001b[0m     jaccard_coefficient \u001b[38;5;241m=\u001b[39m \u001b[38;5;28mlist\u001b[39m(nx\u001b[38;5;241m.\u001b[39mjaccard_coefficient(G_undirected, [(node1, node2)]))[\u001b[38;5;241m0\u001b[39m][\u001b[38;5;241m2\u001b[39m]\n",
      "File \u001b[0;32m~/D3A/Data_challenge_3/Data_challenge_ENT/.venv/lib/python3.11/site-packages/networkx/classes/digraph.py:1317\u001b[0m, in \u001b[0;36mDiGraph.to_undirected\u001b[0;34m(self, reciprocal, as_view)\u001b[0m\n\u001b[1;32m   1315\u001b[0m G \u001b[38;5;241m=\u001b[39m graph_class()\n\u001b[1;32m   1316\u001b[0m G\u001b[38;5;241m.\u001b[39mgraph\u001b[38;5;241m.\u001b[39mupdate(deepcopy(\u001b[38;5;28mself\u001b[39m\u001b[38;5;241m.\u001b[39mgraph))\n\u001b[0;32m-> 1317\u001b[0m \u001b[43mG\u001b[49m\u001b[38;5;241;43m.\u001b[39;49m\u001b[43madd_nodes_from\u001b[49m\u001b[43m(\u001b[49m\u001b[43m(\u001b[49m\u001b[43mn\u001b[49m\u001b[43m,\u001b[49m\u001b[43m \u001b[49m\u001b[43mdeepcopy\u001b[49m\u001b[43m(\u001b[49m\u001b[43md\u001b[49m\u001b[43m)\u001b[49m\u001b[43m)\u001b[49m\u001b[43m \u001b[49m\u001b[38;5;28;43;01mfor\u001b[39;49;00m\u001b[43m \u001b[49m\u001b[43mn\u001b[49m\u001b[43m,\u001b[49m\u001b[43m \u001b[49m\u001b[43md\u001b[49m\u001b[43m \u001b[49m\u001b[38;5;129;43;01min\u001b[39;49;00m\u001b[43m \u001b[49m\u001b[38;5;28;43mself\u001b[39;49m\u001b[38;5;241;43m.\u001b[39;49m\u001b[43m_node\u001b[49m\u001b[38;5;241;43m.\u001b[39;49m\u001b[43mitems\u001b[49m\u001b[43m(\u001b[49m\u001b[43m)\u001b[49m\u001b[43m)\u001b[49m\n\u001b[1;32m   1318\u001b[0m \u001b[38;5;28;01mif\u001b[39;00m reciprocal \u001b[38;5;129;01mis\u001b[39;00m \u001b[38;5;28;01mTrue\u001b[39;00m:\n\u001b[1;32m   1319\u001b[0m     G\u001b[38;5;241m.\u001b[39madd_edges_from(\n\u001b[1;32m   1320\u001b[0m         (u, v, deepcopy(d))\n\u001b[1;32m   1321\u001b[0m         \u001b[38;5;28;01mfor\u001b[39;00m u, nbrs \u001b[38;5;129;01min\u001b[39;00m \u001b[38;5;28mself\u001b[39m\u001b[38;5;241m.\u001b[39m_adj\u001b[38;5;241m.\u001b[39mitems()\n\u001b[1;32m   1322\u001b[0m         \u001b[38;5;28;01mfor\u001b[39;00m v, d \u001b[38;5;129;01min\u001b[39;00m nbrs\u001b[38;5;241m.\u001b[39mitems()\n\u001b[1;32m   1323\u001b[0m         \u001b[38;5;28;01mif\u001b[39;00m v \u001b[38;5;129;01min\u001b[39;00m \u001b[38;5;28mself\u001b[39m\u001b[38;5;241m.\u001b[39m_pred[u]\n\u001b[1;32m   1324\u001b[0m     )\n",
      "File \u001b[0;32m~/D3A/Data_challenge_3/Data_challenge_ENT/.venv/lib/python3.11/site-packages/networkx/classes/graph.py:646\u001b[0m, in \u001b[0;36mGraph.add_nodes_from\u001b[0;34m(self, nodes_for_adding, **attr)\u001b[0m\n\u001b[1;32m    644\u001b[0m     \u001b[38;5;28;01mif\u001b[39;00m n \u001b[38;5;129;01mis\u001b[39;00m \u001b[38;5;28;01mNone\u001b[39;00m:\n\u001b[1;32m    645\u001b[0m         \u001b[38;5;28;01mraise\u001b[39;00m \u001b[38;5;167;01mValueError\u001b[39;00m(\u001b[38;5;124m\"\u001b[39m\u001b[38;5;124mNone cannot be a node\u001b[39m\u001b[38;5;124m\"\u001b[39m)\n\u001b[0;32m--> 646\u001b[0m     \u001b[38;5;28mself\u001b[39m\u001b[38;5;241m.\u001b[39m_adj[n] \u001b[38;5;241m=\u001b[39m \u001b[38;5;28mself\u001b[39m\u001b[38;5;241m.\u001b[39madjlist_inner_dict_factory()\n\u001b[1;32m    647\u001b[0m     \u001b[38;5;28mself\u001b[39m\u001b[38;5;241m.\u001b[39m_node[n] \u001b[38;5;241m=\u001b[39m \u001b[38;5;28mself\u001b[39m\u001b[38;5;241m.\u001b[39mnode_attr_dict_factory()\n\u001b[1;32m    648\u001b[0m \u001b[38;5;28mself\u001b[39m\u001b[38;5;241m.\u001b[39m_node[n]\u001b[38;5;241m.\u001b[39mupdate(newdict)\n",
      "\u001b[0;31mKeyboardInterrupt\u001b[0m: "
     ]
    }
   ],
   "source": [
    "# Feature Extraction\n",
    "def extract_graph_features(G, node1, node2):\n",
    "    # Convert to undirected for common neighbors and Jaccard coefficient\n",
    "    G_undirected = G.to_undirected()\n",
    "    common_neighbors = len(list(nx.common_neighbors(G_undirected, node1, node2)))\n",
    "    jaccard_coefficient = list(nx.jaccard_coefficient(G_undirected, [(node1, node2)]))[0][2]\n",
    "    return [common_neighbors, jaccard_coefficient]\n",
    "\n",
    "# Prepare Training Data\n",
    "edges = list(G.edges())\n",
    "features = []\n",
    "labels = []\n",
    "\n",
    "for edge in edges:\n",
    "    node1, node2 = edge\n",
    "    features.append(extract_graph_features(G, node1, node2))\n",
    "    labels.append(1)  # Positive example: node1 cites node2\n",
    "\n",
    "non_edges = [pair for pair in itertools.combinations(G.nodes(), 2) if not G.has_edge(*pair)]\n",
    "for pair in non_edges:\n",
    "    features.append(extract_graph_features(G, pair[0], pair[1]))\n",
    "    labels.append(0)  # Negative example: node1 does not cite node2\n",
    "\n",
    "X = np.array(features)\n",
    "y = np.array(labels)\n",
    "\n",
    "# Model Training\n",
    "X_train, X_test, y_train, y_test = train_test_split(X, y, test_size=0.3, random_state=42)\n",
    "clf = RandomForestClassifier()\n",
    "clf.fit(X_train, y_train)\n",
    "\n",
    "# Evaluation\n",
    "y_pred = clf.predict(X_test)\n",
    "print(classification_report(y_test, y_pred))\n"
   ]
  }
 ],
 "metadata": {
  "kernelspec": {
   "display_name": ".venv",
   "language": "python",
   "name": "python3"
  },
  "language_info": {
   "codemirror_mode": {
    "name": "ipython",
    "version": 3
   },
   "file_extension": ".py",
   "mimetype": "text/x-python",
   "name": "python",
   "nbconvert_exporter": "python",
   "pygments_lexer": "ipython3",
   "version": "3.11.1"
  }
 },
 "nbformat": 4,
 "nbformat_minor": 2
}
