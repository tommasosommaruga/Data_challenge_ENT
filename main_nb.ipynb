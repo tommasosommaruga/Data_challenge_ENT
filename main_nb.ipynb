{
 "cells": [
  {
   "cell_type": "code",
   "execution_count": 8,
   "metadata": {},
   "outputs": [],
   "source": [
    "import pickle\n",
    "import os\n",
    "import sys\n",
    "import re\n",
    "import string\n",
    "import numpy as np\n",
    "import pandas as pd\n",
    "import matplotlib.pyplot as plt"
   ]
  },
  {
   "cell_type": "code",
   "execution_count": null,
   "metadata": {},
   "outputs": [],
   "source": [
    "with open('Data/papers.txt', 'r') as f:\n",
    "    papers = f.readlines()"
   ]
  },
  {
   "cell_type": "code",
   "execution_count": 15,
   "metadata": {},
   "outputs": [
    {
     "name": "stdout",
     "output_type": "stream",
     "text": [
      "629814\n",
      "629814\n",
      "#*Automated Deduction in Geometry: 5th International Workshop, ADG 2004, Gainesville, FL, USA, September 16-18, 2004, Revised Papers (Lecture Notes in Computer ... / Lecture Notes in Artificial Intelligence)\n",
      "#@Hoon Hong,Dongming Wang\n",
      "#t2006\n",
      "#c\n",
      "#index0\n",
      "\n"
     ]
    }
   ],
   "source": [
    "papers = []\n",
    "with open('Data/papers.txt', 'r') as f:\n",
    "    paper = []\n",
    "    for line in f:\n",
    "        if line == '\\n':\n",
    "            papers.append(''.join(paper))\n",
    "            paper = []\n",
    "        else:\n",
    "            paper.append(line)\n",
    "print(len(papers))\n",
    "print(papers[0])"
   ]
  },
  {
   "cell_type": "code",
   "execution_count": null,
   "metadata": {},
   "outputs": [],
   "source": [
    "# clean the text data"
   ]
  },
  {
   "cell_type": "code",
   "execution_count": null,
   "metadata": {},
   "outputs": [
    {
     "data": {
      "text/plain": [
       "count    629814.000000\n",
       "mean        593.528289\n",
       "std         686.023582\n",
       "min          31.000000\n",
       "25%         145.000000\n",
       "50%         239.000000\n",
       "75%         994.000000\n",
       "max       32206.000000\n",
       "Name: length, dtype: float64"
      ]
     },
     "execution_count": 10,
     "metadata": {},
     "output_type": "execute_result"
    }
   ],
   "source": [
    "data = pd.DataFrame(papers, columns=['paper'])\n",
    "data['length'] = data['paper'].apply(len)\n",
    "data['length'].describe()\n"
   ]
  },
  {
   "cell_type": "code",
   "execution_count": 11,
   "metadata": {},
   "outputs": [
    {
     "data": {
      "text/html": [
       "<div>\n",
       "<style scoped>\n",
       "    .dataframe tbody tr th:only-of-type {\n",
       "        vertical-align: middle;\n",
       "    }\n",
       "\n",
       "    .dataframe tbody tr th {\n",
       "        vertical-align: top;\n",
       "    }\n",
       "\n",
       "    .dataframe thead th {\n",
       "        text-align: right;\n",
       "    }\n",
       "</style>\n",
       "<table border=\"1\" class=\"dataframe\">\n",
       "  <thead>\n",
       "    <tr style=\"text-align: right;\">\n",
       "      <th></th>\n",
       "      <th>paper</th>\n",
       "      <th>length</th>\n",
       "    </tr>\n",
       "  </thead>\n",
       "  <tbody>\n",
       "    <tr>\n",
       "      <th>0</th>\n",
       "      <td>629814\\n#*Automated Deduction in Geometry: 5th...</td>\n",
       "      <td>259</td>\n",
       "    </tr>\n",
       "    <tr>\n",
       "      <th>1</th>\n",
       "      <td>#*A+ Certification Core Hardware (Text &amp; Lab M...</td>\n",
       "      <td>91</td>\n",
       "    </tr>\n",
       "    <tr>\n",
       "      <th>2</th>\n",
       "      <td>#*Performance engineering in industry: current...</td>\n",
       "      <td>503</td>\n",
       "    </tr>\n",
       "    <tr>\n",
       "      <th>3</th>\n",
       "      <td>#*Dude, You Can Do It! How to Build a Sweeet P...</td>\n",
       "      <td>1489</td>\n",
       "    </tr>\n",
       "    <tr>\n",
       "      <th>4</th>\n",
       "      <td>#*What Every Programmer Needs to Know about Se...</td>\n",
       "      <td>135</td>\n",
       "    </tr>\n",
       "    <tr>\n",
       "      <th>...</th>\n",
       "      <td>...</td>\n",
       "      <td>...</td>\n",
       "    </tr>\n",
       "    <tr>\n",
       "      <th>629809</th>\n",
       "      <td>#*Mining A\\n#@\\n#t2008\\n#cProceedings of the V...</td>\n",
       "      <td>70</td>\n",
       "    </tr>\n",
       "    <tr>\n",
       "      <th>629810</th>\n",
       "      <td>#*Review article\\n#@\\n#t2008\\n#cCommunications...</td>\n",
       "      <td>68</td>\n",
       "    </tr>\n",
       "    <tr>\n",
       "      <th>629811</th>\n",
       "      <td>#*Multimodal system evaluation using modality ...</td>\n",
       "      <td>1198</td>\n",
       "    </tr>\n",
       "    <tr>\n",
       "      <th>629812</th>\n",
       "      <td>#*Computer System Architecture\\n#@V. K. Jain\\n...</td>\n",
       "      <td>67</td>\n",
       "    </tr>\n",
       "    <tr>\n",
       "      <th>629813</th>\n",
       "      <td>#*Oppositional target domain estimation using ...</td>\n",
       "      <td>1070</td>\n",
       "    </tr>\n",
       "  </tbody>\n",
       "</table>\n",
       "<p>629814 rows × 2 columns</p>\n",
       "</div>"
      ],
      "text/plain": [
       "                                                    paper  length\n",
       "0       629814\\n#*Automated Deduction in Geometry: 5th...     259\n",
       "1       #*A+ Certification Core Hardware (Text & Lab M...      91\n",
       "2       #*Performance engineering in industry: current...     503\n",
       "3       #*Dude, You Can Do It! How to Build a Sweeet P...    1489\n",
       "4       #*What Every Programmer Needs to Know about Se...     135\n",
       "...                                                   ...     ...\n",
       "629809  #*Mining A\\n#@\\n#t2008\\n#cProceedings of the V...      70\n",
       "629810  #*Review article\\n#@\\n#t2008\\n#cCommunications...      68\n",
       "629811  #*Multimodal system evaluation using modality ...    1198\n",
       "629812  #*Computer System Architecture\\n#@V. K. Jain\\n...      67\n",
       "629813  #*Oppositional target domain estimation using ...    1070\n",
       "\n",
       "[629814 rows x 2 columns]"
      ]
     },
     "execution_count": 11,
     "metadata": {},
     "output_type": "execute_result"
    }
   ],
   "source": [
    "data"
   ]
  },
  {
   "cell_type": "code",
   "execution_count": 6,
   "metadata": {},
   "outputs": [
    {
     "name": "stdout",
     "output_type": "stream",
     "text": [
      "629814\n",
      "629814\n",
      "#*Automated Deduction in Geometry: 5th International Workshop, ADG 2004, Gainesville, FL, USA, September 16-18, 2004, Revised Papers (Lecture Notes in Computer ... / Lecture Notes in Artificial Intelligence)\n",
      "#@Hoon Hong,Dongming Wang\n",
      "#t2006\n",
      "#c\n",
      "#index0\n",
      "\n",
      "<class 'str'>\n"
     ]
    }
   ],
   "source": [
    "# Print the number of papers\n",
    "print(len(papers))\n",
    "\n",
    "# Print the first paper\n",
    "\n",
    "print(papers[0])\n",
    "\n",
    "# Print the data type of the first paper\n",
    "print(type(papers[0]))\n",
    "\n",
    "# extract eahc individual paper from the text file \n",
    "# and store it in a list\n",
    "\n"
   ]
  }
 ],
 "metadata": {
  "kernelspec": {
   "display_name": "Python 3",
   "language": "python",
   "name": "python3"
  },
  "language_info": {
   "codemirror_mode": {
    "name": "ipython",
    "version": 3
   },
   "file_extension": ".py",
   "mimetype": "text/x-python",
   "name": "python",
   "nbconvert_exporter": "python",
   "pygments_lexer": "ipython3",
   "version": "3.11.1"
  }
 },
 "nbformat": 4,
 "nbformat_minor": 2
}
