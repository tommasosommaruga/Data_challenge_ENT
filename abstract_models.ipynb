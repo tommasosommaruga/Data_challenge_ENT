{
  "cells": [
    {
      "cell_type": "markdown",
      "metadata": {
        "id": "zFCsU76qKTj7"
      },
      "source": [
        "# DATA CHALLENGE FINAL PROJECT (ABSTRACT ANALYSIS)"
      ]
    },
    {
      "cell_type": "markdown",
      "metadata": {
        "id": "vE8ryFBytZ3x"
      },
      "source": [
        "# Importing libraries and exploring DF"
      ]
    },
    {
      "cell_type": "code",
      "execution_count": 5,
      "metadata": {
        "id": "p4wkCNPTsb1P"
      },
      "outputs": [],
      "source": [
        "import networkx as nx\n",
        "import pandas as pd\n",
        "import random\n",
        "from sklearn.feature_extraction.text import CountVectorizer\n",
        "from sklearn.ensemble import RandomForestClassifier\n",
        "from sklearn.metrics import classification_report, roc_auc_score\n",
        "import matplotlib.pyplot as plt\n",
        "import numpy as np\n"
      ]
    },
    {
      "cell_type": "code",
      "execution_count": 7,
      "metadata": {
        "colab": {
          "base_uri": "https://localhost:8080/"
        },
        "id": "l0H5lcBbghlV",
        "outputId": "25977de3-2bb0-4e28-beaf-3afd04a71fc9"
      },
      "outputs": [
        {
          "data": {
            "text/plain": [
              "Index(['title', 'authors', 'year', 'venue', 'index', 'citations', 'abstract'], dtype='object')"
            ]
          },
          "execution_count": 7,
          "metadata": {},
          "output_type": "execute_result"
        }
      ],
      "source": [
        "df_1 = pd.read_csv('Data/df1.csv')\n",
        "df_1.columns"
      ]
    },
    {
      "cell_type": "code",
      "execution_count": 8,
      "metadata": {
        "colab": {
          "base_uri": "https://localhost:8080/",
          "height": 293
        },
        "id": "rqtereWhE0PY",
        "outputId": "d2feac88-42a6-4ae0-cbb6-6b8fdcf5a454"
      },
      "outputs": [
        {
          "data": {
            "application/vnd.google.colaboratory.intrinsic+json": {
              "type": "dataframe",
              "variable_name": "df"
            },
            "text/html": [
              "\n",
              "  <div id=\"df-15b7d051-e6c1-44c4-9d1c-169b85986264\" class=\"colab-df-container\">\n",
              "    <div>\n",
              "<style scoped>\n",
              "    .dataframe tbody tr th:only-of-type {\n",
              "        vertical-align: middle;\n",
              "    }\n",
              "\n",
              "    .dataframe tbody tr th {\n",
              "        vertical-align: top;\n",
              "    }\n",
              "\n",
              "    .dataframe thead th {\n",
              "        text-align: right;\n",
              "    }\n",
              "</style>\n",
              "<table border=\"1\" class=\"dataframe\">\n",
              "  <thead>\n",
              "    <tr style=\"text-align: right;\">\n",
              "      <th></th>\n",
              "      <th>title</th>\n",
              "      <th>authors</th>\n",
              "      <th>year</th>\n",
              "      <th>venue</th>\n",
              "      <th>index</th>\n",
              "      <th>citations</th>\n",
              "      <th>abstract</th>\n",
              "      <th>cleaned_abstract</th>\n",
              "      <th>dominant_topic</th>\n",
              "    </tr>\n",
              "  </thead>\n",
              "  <tbody>\n",
              "    <tr>\n",
              "      <th>0</th>\n",
              "      <td>Automated Deduction in Geometry: 5th Internati...</td>\n",
              "      <td>Hoon Hong,Dongming Wang</td>\n",
              "      <td>2006</td>\n",
              "      <td>NaN</td>\n",
              "      <td>0</td>\n",
              "      <td>NaN</td>\n",
              "      <td>NaN</td>\n",
              "      <td>NaN</td>\n",
              "      <td>0</td>\n",
              "    </tr>\n",
              "    <tr>\n",
              "      <th>1</th>\n",
              "      <td>A+ Certification Core Hardware (Text &amp; Lab Man...</td>\n",
              "      <td>Charles J. Brooks</td>\n",
              "      <td>2003</td>\n",
              "      <td>NaN</td>\n",
              "      <td>1</td>\n",
              "      <td>NaN</td>\n",
              "      <td>NaN</td>\n",
              "      <td>NaN</td>\n",
              "      <td>0</td>\n",
              "    </tr>\n",
              "    <tr>\n",
              "      <th>2</th>\n",
              "      <td>Performance engineering in industry: current p...</td>\n",
              "      <td>Ahmed E. Hassan,Parminder Flora</td>\n",
              "      <td>2007</td>\n",
              "      <td>Proceedings of the 6th international workshop ...</td>\n",
              "      <td>2</td>\n",
              "      <td>NaN</td>\n",
              "      <td>This panel session discusses performance engin...</td>\n",
              "      <td>panel session discusses performance engineerin...</td>\n",
              "      <td>3</td>\n",
              "    </tr>\n",
              "    <tr>\n",
              "      <th>3</th>\n",
              "      <td>Dude, You Can Do It! How to Build a Sweeet PC</td>\n",
              "      <td>Darrel Creacy,Carlito Vicencio</td>\n",
              "      <td>2005</td>\n",
              "      <td>NaN</td>\n",
              "      <td>3</td>\n",
              "      <td>NaN</td>\n",
              "      <td>Whether you're frustrated with current PC offe...</td>\n",
              "      <td>whether frustrated current pc offering inflate...</td>\n",
              "      <td>2</td>\n",
              "    </tr>\n",
              "    <tr>\n",
              "      <th>4</th>\n",
              "      <td>What Every Programmer Needs to Know about Secu...</td>\n",
              "      <td>Neil Daswani,Anita Kesavan</td>\n",
              "      <td>2006</td>\n",
              "      <td>NaN</td>\n",
              "      <td>4</td>\n",
              "      <td>NaN</td>\n",
              "      <td>NaN</td>\n",
              "      <td>NaN</td>\n",
              "      <td>0</td>\n",
              "    </tr>\n",
              "  </tbody>\n",
              "</table>\n",
              "</div>\n",
              "    <div class=\"colab-df-buttons\">\n",
              "\n",
              "  <div class=\"colab-df-container\">\n",
              "    <button class=\"colab-df-convert\" onclick=\"convertToInteractive('df-15b7d051-e6c1-44c4-9d1c-169b85986264')\"\n",
              "            title=\"Convert this dataframe to an interactive table.\"\n",
              "            style=\"display:none;\">\n",
              "\n",
              "  <svg xmlns=\"http://www.w3.org/2000/svg\" height=\"24px\" viewBox=\"0 -960 960 960\">\n",
              "    <path d=\"M120-120v-720h720v720H120Zm60-500h600v-160H180v160Zm220 220h160v-160H400v160Zm0 220h160v-160H400v160ZM180-400h160v-160H180v160Zm440 0h160v-160H620v160ZM180-180h160v-160H180v160Zm440 0h160v-160H620v160Z\"/>\n",
              "  </svg>\n",
              "    </button>\n",
              "\n",
              "  <style>\n",
              "    .colab-df-container {\n",
              "      display:flex;\n",
              "      gap: 12px;\n",
              "    }\n",
              "\n",
              "    .colab-df-convert {\n",
              "      background-color: #E8F0FE;\n",
              "      border: none;\n",
              "      border-radius: 50%;\n",
              "      cursor: pointer;\n",
              "      display: none;\n",
              "      fill: #1967D2;\n",
              "      height: 32px;\n",
              "      padding: 0 0 0 0;\n",
              "      width: 32px;\n",
              "    }\n",
              "\n",
              "    .colab-df-convert:hover {\n",
              "      background-color: #E2EBFA;\n",
              "      box-shadow: 0px 1px 2px rgba(60, 64, 67, 0.3), 0px 1px 3px 1px rgba(60, 64, 67, 0.15);\n",
              "      fill: #174EA6;\n",
              "    }\n",
              "\n",
              "    .colab-df-buttons div {\n",
              "      margin-bottom: 4px;\n",
              "    }\n",
              "\n",
              "    [theme=dark] .colab-df-convert {\n",
              "      background-color: #3B4455;\n",
              "      fill: #D2E3FC;\n",
              "    }\n",
              "\n",
              "    [theme=dark] .colab-df-convert:hover {\n",
              "      background-color: #434B5C;\n",
              "      box-shadow: 0px 1px 3px 1px rgba(0, 0, 0, 0.15);\n",
              "      filter: drop-shadow(0px 1px 2px rgba(0, 0, 0, 0.3));\n",
              "      fill: #FFFFFF;\n",
              "    }\n",
              "  </style>\n",
              "\n",
              "    <script>\n",
              "      const buttonEl =\n",
              "        document.querySelector('#df-15b7d051-e6c1-44c4-9d1c-169b85986264 button.colab-df-convert');\n",
              "      buttonEl.style.display =\n",
              "        google.colab.kernel.accessAllowed ? 'block' : 'none';\n",
              "\n",
              "      async function convertToInteractive(key) {\n",
              "        const element = document.querySelector('#df-15b7d051-e6c1-44c4-9d1c-169b85986264');\n",
              "        const dataTable =\n",
              "          await google.colab.kernel.invokeFunction('convertToInteractive',\n",
              "                                                    [key], {});\n",
              "        if (!dataTable) return;\n",
              "\n",
              "        const docLinkHtml = 'Like what you see? Visit the ' +\n",
              "          '<a target=\"_blank\" href=https://colab.research.google.com/notebooks/data_table.ipynb>data table notebook</a>'\n",
              "          + ' to learn more about interactive tables.';\n",
              "        element.innerHTML = '';\n",
              "        dataTable['output_type'] = 'display_data';\n",
              "        await google.colab.output.renderOutput(dataTable, element);\n",
              "        const docLink = document.createElement('div');\n",
              "        docLink.innerHTML = docLinkHtml;\n",
              "        element.appendChild(docLink);\n",
              "      }\n",
              "    </script>\n",
              "  </div>\n",
              "\n",
              "\n",
              "<div id=\"df-5a85ea74-c9b6-451e-a17f-9eae624bfc6f\">\n",
              "  <button class=\"colab-df-quickchart\" onclick=\"quickchart('df-5a85ea74-c9b6-451e-a17f-9eae624bfc6f')\"\n",
              "            title=\"Suggest charts\"\n",
              "            style=\"display:none;\">\n",
              "\n",
              "<svg xmlns=\"http://www.w3.org/2000/svg\" height=\"24px\"viewBox=\"0 0 24 24\"\n",
              "     width=\"24px\">\n",
              "    <g>\n",
              "        <path d=\"M19 3H5c-1.1 0-2 .9-2 2v14c0 1.1.9 2 2 2h14c1.1 0 2-.9 2-2V5c0-1.1-.9-2-2-2zM9 17H7v-7h2v7zm4 0h-2V7h2v10zm4 0h-2v-4h2v4z\"/>\n",
              "    </g>\n",
              "</svg>\n",
              "  </button>\n",
              "\n",
              "<style>\n",
              "  .colab-df-quickchart {\n",
              "      --bg-color: #E8F0FE;\n",
              "      --fill-color: #1967D2;\n",
              "      --hover-bg-color: #E2EBFA;\n",
              "      --hover-fill-color: #174EA6;\n",
              "      --disabled-fill-color: #AAA;\n",
              "      --disabled-bg-color: #DDD;\n",
              "  }\n",
              "\n",
              "  [theme=dark] .colab-df-quickchart {\n",
              "      --bg-color: #3B4455;\n",
              "      --fill-color: #D2E3FC;\n",
              "      --hover-bg-color: #434B5C;\n",
              "      --hover-fill-color: #FFFFFF;\n",
              "      --disabled-bg-color: #3B4455;\n",
              "      --disabled-fill-color: #666;\n",
              "  }\n",
              "\n",
              "  .colab-df-quickchart {\n",
              "    background-color: var(--bg-color);\n",
              "    border: none;\n",
              "    border-radius: 50%;\n",
              "    cursor: pointer;\n",
              "    display: none;\n",
              "    fill: var(--fill-color);\n",
              "    height: 32px;\n",
              "    padding: 0;\n",
              "    width: 32px;\n",
              "  }\n",
              "\n",
              "  .colab-df-quickchart:hover {\n",
              "    background-color: var(--hover-bg-color);\n",
              "    box-shadow: 0 1px 2px rgba(60, 64, 67, 0.3), 0 1px 3px 1px rgba(60, 64, 67, 0.15);\n",
              "    fill: var(--button-hover-fill-color);\n",
              "  }\n",
              "\n",
              "  .colab-df-quickchart-complete:disabled,\n",
              "  .colab-df-quickchart-complete:disabled:hover {\n",
              "    background-color: var(--disabled-bg-color);\n",
              "    fill: var(--disabled-fill-color);\n",
              "    box-shadow: none;\n",
              "  }\n",
              "\n",
              "  .colab-df-spinner {\n",
              "    border: 2px solid var(--fill-color);\n",
              "    border-color: transparent;\n",
              "    border-bottom-color: var(--fill-color);\n",
              "    animation:\n",
              "      spin 1s steps(1) infinite;\n",
              "  }\n",
              "\n",
              "  @keyframes spin {\n",
              "    0% {\n",
              "      border-color: transparent;\n",
              "      border-bottom-color: var(--fill-color);\n",
              "      border-left-color: var(--fill-color);\n",
              "    }\n",
              "    20% {\n",
              "      border-color: transparent;\n",
              "      border-left-color: var(--fill-color);\n",
              "      border-top-color: var(--fill-color);\n",
              "    }\n",
              "    30% {\n",
              "      border-color: transparent;\n",
              "      border-left-color: var(--fill-color);\n",
              "      border-top-color: var(--fill-color);\n",
              "      border-right-color: var(--fill-color);\n",
              "    }\n",
              "    40% {\n",
              "      border-color: transparent;\n",
              "      border-right-color: var(--fill-color);\n",
              "      border-top-color: var(--fill-color);\n",
              "    }\n",
              "    60% {\n",
              "      border-color: transparent;\n",
              "      border-right-color: var(--fill-color);\n",
              "    }\n",
              "    80% {\n",
              "      border-color: transparent;\n",
              "      border-right-color: var(--fill-color);\n",
              "      border-bottom-color: var(--fill-color);\n",
              "    }\n",
              "    90% {\n",
              "      border-color: transparent;\n",
              "      border-bottom-color: var(--fill-color);\n",
              "    }\n",
              "  }\n",
              "</style>\n",
              "\n",
              "  <script>\n",
              "    async function quickchart(key) {\n",
              "      const quickchartButtonEl =\n",
              "        document.querySelector('#' + key + ' button');\n",
              "      quickchartButtonEl.disabled = true;  // To prevent multiple clicks.\n",
              "      quickchartButtonEl.classList.add('colab-df-spinner');\n",
              "      try {\n",
              "        const charts = await google.colab.kernel.invokeFunction(\n",
              "            'suggestCharts', [key], {});\n",
              "      } catch (error) {\n",
              "        console.error('Error during call to suggestCharts:', error);\n",
              "      }\n",
              "      quickchartButtonEl.classList.remove('colab-df-spinner');\n",
              "      quickchartButtonEl.classList.add('colab-df-quickchart-complete');\n",
              "    }\n",
              "    (() => {\n",
              "      let quickchartButtonEl =\n",
              "        document.querySelector('#df-5a85ea74-c9b6-451e-a17f-9eae624bfc6f button');\n",
              "      quickchartButtonEl.style.display =\n",
              "        google.colab.kernel.accessAllowed ? 'block' : 'none';\n",
              "    })();\n",
              "  </script>\n",
              "</div>\n",
              "\n",
              "    </div>\n",
              "  </div>\n"
            ],
            "text/plain": [
              "                                               title  \\\n",
              "0  Automated Deduction in Geometry: 5th Internati...   \n",
              "1  A+ Certification Core Hardware (Text & Lab Man...   \n",
              "2  Performance engineering in industry: current p...   \n",
              "3      Dude, You Can Do It! How to Build a Sweeet PC   \n",
              "4  What Every Programmer Needs to Know about Secu...   \n",
              "\n",
              "                           authors  year  \\\n",
              "0          Hoon Hong,Dongming Wang  2006   \n",
              "1                Charles J. Brooks  2003   \n",
              "2  Ahmed E. Hassan,Parminder Flora  2007   \n",
              "3   Darrel Creacy,Carlito Vicencio  2005   \n",
              "4       Neil Daswani,Anita Kesavan  2006   \n",
              "\n",
              "                                               venue  index citations  \\\n",
              "0                                                NaN      0       NaN   \n",
              "1                                                NaN      1       NaN   \n",
              "2  Proceedings of the 6th international workshop ...      2       NaN   \n",
              "3                                                NaN      3       NaN   \n",
              "4                                                NaN      4       NaN   \n",
              "\n",
              "                                            abstract  \\\n",
              "0                                                NaN   \n",
              "1                                                NaN   \n",
              "2  This panel session discusses performance engin...   \n",
              "3  Whether you're frustrated with current PC offe...   \n",
              "4                                                NaN   \n",
              "\n",
              "                                    cleaned_abstract  dominant_topic  \n",
              "0                                                NaN               0  \n",
              "1                                                NaN               0  \n",
              "2  panel session discusses performance engineerin...               3  \n",
              "3  whether frustrated current pc offering inflate...               2  \n",
              "4                                                NaN               0  "
            ]
          },
          "execution_count": 8,
          "metadata": {},
          "output_type": "execute_result"
        }
      ],
      "source": [
        "df = pd.read_csv('Data/df.csv')\n",
        "df.head()"
      ]
    },
    {
      "cell_type": "code",
      "execution_count": 9,
      "metadata": {
        "colab": {
          "base_uri": "https://localhost:8080/"
        },
        "id": "hC5St3-5hrkD",
        "outputId": "7844ee4d-c3b7-430c-8c32-5168496ddba9"
      },
      "outputs": [
        {
          "name": "stdout",
          "output_type": "stream",
          "text": [
            "Do indices match? True\n"
          ]
        }
      ],
      "source": [
        "# Check if indices match\n",
        "print(\"Do indices match?\", df.index.equals(df_1.index))\n"
      ]
    },
    {
      "cell_type": "code",
      "execution_count": 10,
      "metadata": {
        "id": "p5ea3Mk6hicv"
      },
      "outputs": [],
      "source": [
        "# Merge df with df_1 using the index\n",
        "df['citations'] = df_1['citations']\n",
        "\n"
      ]
    },
    {
      "cell_type": "code",
      "execution_count": 11,
      "metadata": {
        "id": "jKAB60EK_mvo"
      },
      "outputs": [],
      "source": [
        "df['citations'] = df['citations'].apply(\n",
        "    lambda x: list(map(int, x.split(';'))) if isinstance(x, str) and x.strip() else []\n",
        ")\n"
      ]
    },
    {
      "cell_type": "code",
      "execution_count": 12,
      "metadata": {
        "colab": {
          "base_uri": "https://localhost:8080/",
          "height": 397
        },
        "id": "Ox_N5dgUf5W6",
        "outputId": "7c4d970b-bf63-42d3-bcc2-93bee970824e"
      },
      "outputs": [
        {
          "data": {
            "text/html": [
              "<div>\n",
              "<style scoped>\n",
              "    .dataframe tbody tr th:only-of-type {\n",
              "        vertical-align: middle;\n",
              "    }\n",
              "\n",
              "    .dataframe tbody tr th {\n",
              "        vertical-align: top;\n",
              "    }\n",
              "\n",
              "    .dataframe thead th {\n",
              "        text-align: right;\n",
              "    }\n",
              "</style>\n",
              "<table border=\"1\" class=\"dataframe\">\n",
              "  <thead>\n",
              "    <tr style=\"text-align: right;\">\n",
              "      <th></th>\n",
              "      <th>citations</th>\n",
              "    </tr>\n",
              "  </thead>\n",
              "  <tbody>\n",
              "    <tr>\n",
              "      <th>0</th>\n",
              "      <td>[]</td>\n",
              "    </tr>\n",
              "    <tr>\n",
              "      <th>1</th>\n",
              "      <td>[]</td>\n",
              "    </tr>\n",
              "    <tr>\n",
              "      <th>2</th>\n",
              "      <td>[]</td>\n",
              "    </tr>\n",
              "    <tr>\n",
              "      <th>3</th>\n",
              "      <td>[]</td>\n",
              "    </tr>\n",
              "    <tr>\n",
              "      <th>4</th>\n",
              "      <td>[]</td>\n",
              "    </tr>\n",
              "    <tr>\n",
              "      <th>5</th>\n",
              "      <td>[436405]</td>\n",
              "    </tr>\n",
              "    <tr>\n",
              "      <th>6</th>\n",
              "      <td>[]</td>\n",
              "    </tr>\n",
              "    <tr>\n",
              "      <th>7</th>\n",
              "      <td>[]</td>\n",
              "    </tr>\n",
              "    <tr>\n",
              "      <th>8</th>\n",
              "      <td>[]</td>\n",
              "    </tr>\n",
              "    <tr>\n",
              "      <th>9</th>\n",
              "      <td>[]</td>\n",
              "    </tr>\n",
              "  </tbody>\n",
              "</table>\n",
              "</div><br><label><b>dtype:</b> object</label>"
            ],
            "text/plain": [
              "0          []\n",
              "1          []\n",
              "2          []\n",
              "3          []\n",
              "4          []\n",
              "5    [436405]\n",
              "6          []\n",
              "7          []\n",
              "8          []\n",
              "9          []\n",
              "Name: citations, dtype: object"
            ]
          },
          "execution_count": 12,
          "metadata": {},
          "output_type": "execute_result"
        }
      ],
      "source": [
        "df['citations'].head(10)"
      ]
    },
    {
      "cell_type": "code",
      "execution_count": 13,
      "metadata": {
        "colab": {
          "base_uri": "https://localhost:8080/"
        },
        "id": "EEV0pxRaeQVZ",
        "outputId": "3f543e7a-776a-4202-b93b-7b08d19be8b9"
      },
      "outputs": [
        {
          "name": "stdout",
          "output_type": "stream",
          "text": [
            "<class 'pandas.core.frame.DataFrame'>\n",
            "RangeIndex: 629814 entries, 0 to 629813\n",
            "Data columns (total 9 columns):\n",
            " #   Column            Non-Null Count   Dtype \n",
            "---  ------            --------------   ----- \n",
            " 0   title             629814 non-null  object\n",
            " 1   authors           603898 non-null  object\n",
            " 2   year              629814 non-null  int64 \n",
            " 3   venue             531220 non-null  object\n",
            " 4   index             629814 non-null  int64 \n",
            " 5   citations         629814 non-null  object\n",
            " 6   abstract          281080 non-null  object\n",
            " 7   cleaned_abstract  281051 non-null  object\n",
            " 8   dominant_topic    629814 non-null  int64 \n",
            "dtypes: int64(3), object(6)\n",
            "memory usage: 43.2+ MB\n"
          ]
        }
      ],
      "source": [
        "df.info()"
      ]
    },
    {
      "cell_type": "markdown",
      "metadata": {
        "id": "SGKnrIH1A4tr"
      },
      "source": [
        "## Create the Graph from DataFrame"
      ]
    },
    {
      "cell_type": "code",
      "execution_count": 14,
      "metadata": {
        "colab": {
          "base_uri": "https://localhost:8080/"
        },
        "id": "YSuZ0Cp3_R8Q",
        "outputId": "d4927a14-9b78-41b0-f864-1945a3483223"
      },
      "outputs": [
        {
          "name": "stdout",
          "output_type": "stream",
          "text": [
            "Original Graph:\n",
            "Number of nodes: 217335\n",
            "Number of edges: 632751\n"
          ]
        }
      ],
      "source": [
        "# Create a directed graph\n",
        "G = nx.DiGraph()\n",
        "\n",
        "# Add edges from citations\n",
        "for paper_id, row in df.iterrows():\n",
        "    if 'citations' in df.columns and isinstance(row['citations'], list):  # Ensure citations exist\n",
        "        for cited_paper in row['citations']:\n",
        "            if not pd.isna(cited_paper):\n",
        "                G.add_edge(paper_id, cited_paper)\n",
        "\n",
        "# Debug: Check the graph\n",
        "print(\"Original Graph:\")\n",
        "print(\"Number of nodes:\", len(G.nodes()))\n",
        "print(\"Number of edges:\", len(G.edges()))\n"
      ]
    },
    {
      "cell_type": "markdown",
      "metadata": {
        "id": "ZmJwDaLwA_Vm"
      },
      "source": [
        "##  Split Nodes into Train and Test"
      ]
    },
    {
      "cell_type": "code",
      "execution_count": 15,
      "metadata": {
        "colab": {
          "base_uri": "https://localhost:8080/"
        },
        "id": "tCPpeh28A78s",
        "outputId": "4a2f0b3e-1b19-475d-b06f-78e4856851a5"
      },
      "outputs": [
        {
          "name": "stdout",
          "output_type": "stream",
          "text": [
            "Train nodes count: 173868\n",
            "Test nodes count: 43467\n"
          ]
        }
      ],
      "source": [
        "# Shuffle and split nodes\n",
        "all_nodes = list(G.nodes())\n",
        "random.seed(42)\n",
        "random.shuffle(all_nodes)\n",
        "\n",
        "split_index = int(0.8 * len(all_nodes))\n",
        "train_nodes = set(all_nodes[:split_index])\n",
        "test_nodes = set(all_nodes[split_index:])\n",
        "\n",
        "# Debug: Check node counts\n",
        "print(\"Train nodes count:\", len(train_nodes))\n",
        "print(\"Test nodes count:\", len(test_nodes))\n"
      ]
    },
    {
      "cell_type": "markdown",
      "metadata": {
        "id": "3ulG5I8SBRcN"
      },
      "source": [
        "## Split Edges into Train and Test"
      ]
    },
    {
      "cell_type": "code",
      "execution_count": 16,
      "metadata": {
        "colab": {
          "base_uri": "https://localhost:8080/"
        },
        "id": "tDC1qWRBBTAO",
        "outputId": "9f67982d-0213-47d2-acab-36f165b0725f"
      },
      "outputs": [
        {
          "name": "stdout",
          "output_type": "stream",
          "text": [
            "Train Graph:\n",
            "Nodes: 162097 Edges: 404969\n",
            "Test Graph:\n",
            "Nodes: 22670 Edges: 25400\n"
          ]
        }
      ],
      "source": [
        "# Filter edges for train and test graphs\n",
        "train_edges = [(u, v) for u, v in G.edges() if u in train_nodes and v in train_nodes]\n",
        "test_edges = [(u, v) for u, v in G.edges() if u in test_nodes and v in test_nodes]\n",
        "\n",
        "# Create train and test graphs\n",
        "G_train = nx.DiGraph()\n",
        "G_train.add_edges_from(train_edges)\n",
        "\n",
        "G_test = nx.DiGraph()\n",
        "G_test.add_edges_from(test_edges)\n",
        "\n",
        "# Debug: Check train and test graphs\n",
        "print(\"Train Graph:\")\n",
        "print(\"Nodes:\", len(G_train.nodes()), \"Edges:\", len(G_train.edges()))\n",
        "print(\"Test Graph:\")\n",
        "print(\"Nodes:\", len(G_test.nodes()), \"Edges:\", len(G_test.edges()))\n"
      ]
    },
    {
      "cell_type": "markdown",
      "metadata": {
        "id": "1axvf05sBYO2"
      },
      "source": [
        "## Generate Negative Samples"
      ]
    },
    {
      "cell_type": "code",
      "execution_count": 17,
      "metadata": {
        "id": "n2Wi1_MfBTPK"
      },
      "outputs": [],
      "source": [
        "# Function to generate negative samples\n",
        "def generate_negative_samples(G, num_samples):\n",
        "    nodes = list(G.nodes())\n",
        "    negative_samples = set()\n",
        "\n",
        "    while len(negative_samples) < num_samples:\n",
        "        u, v = random.choice(nodes), random.choice(nodes)\n",
        "        if u != v and not G.has_edge(u, v):\n",
        "            negative_samples.add((u, v))\n",
        "    return list(negative_samples)\n",
        "\n",
        "# Generate negative samples\n",
        "train_negative_samples = generate_negative_samples(G_train, len(train_edges))\n",
        "test_negative_samples = generate_negative_samples(G_test, len(test_edges))\n",
        "\n",
        "# Combine positive and negative samples\n",
        "train_samples_combined = train_edges + train_negative_samples\n",
        "test_samples_combined = test_edges + test_negative_samples\n",
        "\n",
        "# Assign labels\n",
        "train_labels = [1] * len(train_edges) + [0] * len(train_negative_samples)\n",
        "test_labels = [1] * len(test_edges) + [0] * len(test_negative_samples)\n"
      ]
    },
    {
      "cell_type": "markdown",
      "metadata": {
        "id": "4MZ22XnkBcVo"
      },
      "source": [
        "## Create DataFrames for Train and Test\n"
      ]
    },
    {
      "cell_type": "code",
      "execution_count": 18,
      "metadata": {
        "id": "kAXBt2alBZ5J"
      },
      "outputs": [],
      "source": [
        "# Create labeled DataFrames\n",
        "train_df_combined = pd.DataFrame(train_samples_combined, columns=['paper_A', 'paper_B'])\n",
        "train_df_combined['label'] = train_labels\n",
        "\n",
        "test_df_combined = pd.DataFrame(test_samples_combined, columns=['paper_A', 'paper_B'])\n",
        "test_df_combined['label'] = test_labels\n"
      ]
    },
    {
      "cell_type": "markdown",
      "metadata": {
        "id": "-qH1lObrBguG"
      },
      "source": [
        "## Add Features"
      ]
    },
    {
      "cell_type": "code",
      "execution_count": 19,
      "metadata": {
        "id": "LlP6Ml7ZBePq"
      },
      "outputs": [],
      "source": [
        "# Example: Add shared keywords\n",
        "vectorizer = CountVectorizer(stop_words='english', binary=True)\n",
        "abstract_matrix = vectorizer.fit_transform(df['abstract'].fillna(''))\n",
        "\n",
        "def compute_shared_keywords(paper_A, paper_B, matrix):\n",
        "    set_A = set(matrix[paper_A].nonzero()[1])\n",
        "    set_B = set(matrix[paper_B].nonzero()[1])\n",
        "    return len(set_A.intersection(set_B))\n",
        "\n",
        "train_df_combined['shared_keywords'] = [\n",
        "    compute_shared_keywords(row['paper_A'], row['paper_B'], abstract_matrix)\n",
        "    for _, row in train_df_combined.iterrows()\n",
        "]\n",
        "\n",
        "test_df_combined['shared_keywords'] = [\n",
        "    compute_shared_keywords(row['paper_A'], row['paper_B'], abstract_matrix)\n",
        "    for _, row in test_df_combined.iterrows()\n",
        "]\n",
        "\n",
        "\n"
      ]
    },
    {
      "cell_type": "markdown",
      "metadata": {
        "id": "PJCH9HMfB3MY"
      },
      "source": [
        "### Map Dominant Topics"
      ]
    },
    {
      "cell_type": "markdown",
      "metadata": {
        "id": "7aLXFOz_NRvm"
      },
      "source": [
        "The primary topic assigned to paper_A and paper_B based on topic modeling (e.g., LDA)."
      ]
    },
    {
      "cell_type": "code",
      "execution_count": 20,
      "metadata": {
        "colab": {
          "base_uri": "https://localhost:8080/"
        },
        "id": "V_CtdhzYBj84",
        "outputId": "070e3525-e1ea-4758-cc89-c206bae16668"
      },
      "outputs": [
        {
          "name": "stdout",
          "output_type": "stream",
          "text": [
            "Train DataFrame with Dominant Topics:\n",
            "   paper_A  paper_B  dominant_topic_A  dominant_topic_B\n",
            "0        5   436405                 1                 1\n",
            "1   436405    94584                 1                 0\n",
            "2   436405   282290                 1                 0\n",
            "3   436405   564235                 1                 0\n",
            "4   436405   594837                 1                 0\n",
            "\n",
            "Test DataFrame with Dominant Topics:\n",
            "   paper_A  paper_B  dominant_topic_A  dominant_topic_B\n",
            "0       17   294124                 0                 0\n",
            "1   378077    74805                 0                 0\n",
            "2      225   120985                 0                 0\n",
            "3   120985   280345                 0                 0\n",
            "4   120985   441542                 0                 0\n"
          ]
        }
      ],
      "source": [
        "# Map dominant topics from df to train_df_combined and test_df_combined\n",
        "train_df_combined['dominant_topic_A'] = train_df_combined['paper_A'].map(df['dominant_topic'])\n",
        "train_df_combined['dominant_topic_B'] = train_df_combined['paper_B'].map(df['dominant_topic'])\n",
        "\n",
        "test_df_combined['dominant_topic_A'] = test_df_combined['paper_A'].map(df['dominant_topic'])\n",
        "test_df_combined['dominant_topic_B'] = test_df_combined['paper_B'].map(df['dominant_topic'])\n",
        "\n",
        "# Verify the updated DataFrames\n",
        "print(\"Train DataFrame with Dominant Topics:\")\n",
        "print(train_df_combined[['paper_A', 'paper_B', 'dominant_topic_A', 'dominant_topic_B']].head())\n",
        "\n",
        "print(\"\\nTest DataFrame with Dominant Topics:\")\n",
        "print(test_df_combined[['paper_A', 'paper_B', 'dominant_topic_A', 'dominant_topic_B']].head())\n"
      ]
    },
    {
      "cell_type": "markdown",
      "metadata": {
        "id": "jqsIsDAdNWTg"
      },
      "source": [
        "### Temporal influence\n",
        "Helps identify temporal relationships (e.g., newer papers citing older ones)."
      ]
    },
    {
      "cell_type": "code",
      "execution_count": 23,
      "metadata": {
        "id": "23x6BdEIFWBH"
      },
      "outputs": [],
      "source": [
        "# Map publication years for train_df_combined\n",
        "train_df_combined['year_A'] = train_df_combined['paper_A'].map(df['year'])\n",
        "train_df_combined['year_B'] = train_df_combined['paper_B'].map(df['year'])\n",
        "\n",
        "# Map publication years for test_df_combined\n",
        "test_df_combined['year_A'] = test_df_combined['paper_A'].map(df['year'])\n",
        "test_df_combined['year_B'] = test_df_combined['paper_B'].map(df['year'])\n",
        "\n",
        "# Add binary feature for temporal influence\n",
        "train_df_combined['temporal_influence'] = (train_df_combined['year_A'] < train_df_combined['year_B']).astype(int)\n",
        "test_df_combined['temporal_influence'] = (test_df_combined['year_A'] < test_df_combined['year_B']).astype(int)\n"
      ]
    },
    {
      "cell_type": "markdown",
      "metadata": {
        "id": "BP6aGCueN4Po"
      },
      "source": [
        "### Shared venue\n",
        "Binary feature indicating whether paper_A and paper_B were published in the same venue."
      ]
    },
    {
      "cell_type": "code",
      "execution_count": 24,
      "metadata": {
        "id": "6M8dvKPAF9JL"
      },
      "outputs": [],
      "source": [
        "# Map venues for papers\n",
        "train_df_combined['venue_A'] = train_df_combined['paper_A'].map(df['venue'])\n",
        "train_df_combined['venue_B'] = train_df_combined['paper_B'].map(df['venue'])\n",
        "\n",
        "test_df_combined['venue_A'] = test_df_combined['paper_A'].map(df['venue'])\n",
        "test_df_combined['venue_B'] = test_df_combined['paper_B'].map(df['venue'])\n",
        "\n",
        "# Add binary feature for shared venue\n",
        "train_df_combined['shared_venue'] = (train_df_combined['venue_A'] == train_df_combined['venue_B']).astype(int)\n",
        "test_df_combined['shared_venue'] = (test_df_combined['venue_A'] == test_df_combined['venue_B']).astype(int)\n"
      ]
    },
    {
      "cell_type": "markdown",
      "metadata": {
        "id": "38ovrhppN-R1"
      },
      "source": [
        "### The degree centrality\n",
        "\n",
        "The degree centrality of paper_A and paper_B in the graph, representing how connected each paper is."
      ]
    },
    {
      "cell_type": "code",
      "execution_count": 27,
      "metadata": {
        "id": "2o1rxzxUGDan"
      },
      "outputs": [],
      "source": [
        "# Compute degree centrality for G_train and G_test\n",
        "degree_centrality_train = nx.degree_centrality(G_train)\n",
        "degree_centrality_test = nx.degree_centrality(G_test)\n",
        "\n",
        "# Map degree centrality for train_df_combined\n",
        "train_df_combined['degree_centrality_A'] = train_df_combined['paper_A'].map(degree_centrality_train)\n",
        "train_df_combined['degree_centrality_B'] = train_df_combined['paper_B'].map(degree_centrality_train)\n",
        "\n",
        "# Map degree centrality for test_df_combined\n",
        "test_df_combined['degree_centrality_A'] = test_df_combined['paper_A'].map(degree_centrality_test)\n",
        "test_df_combined['degree_centrality_B'] = test_df_combined['paper_B'].map(degree_centrality_test)\n",
        "\n",
        "# Compute product of degree centralities\n",
        "train_df_combined['degree_centrality_product'] = train_df_combined['degree_centrality_A'] * train_df_combined['degree_centrality_B']\n",
        "test_df_combined['degree_centrality_product'] = test_df_combined['degree_centrality_A'] * test_df_combined['degree_centrality_B']\n"
      ]
    },
    {
      "cell_type": "markdown",
      "metadata": {
        "id": "PG9_VCKnOOeV"
      },
      "source": [
        "### Reciprocal_citation\n",
        "Binary feature indicating whether paper_A cites paper_B and vice versa"
      ]
    },
    {
      "cell_type": "code",
      "execution_count": 28,
      "metadata": {
        "id": "wNxNCm4SGSN2"
      },
      "outputs": [],
      "source": [
        "# Function to compute reciprocal citation\n",
        "def compute_reciprocal_citation(G, df_pairs):\n",
        "    return [\n",
        "        int(G.has_edge(row['paper_A'], row['paper_B']) and G.has_edge(row['paper_B'], row['paper_A']))\n",
        "        for _, row in df_pairs.iterrows()\n",
        "    ]\n",
        "# Compute reciprocal citation for train graph\n",
        "train_df_combined['reciprocal_citation'] = compute_reciprocal_citation(G_train, train_df_combined)\n",
        "\n",
        "# Compute reciprocal citation for test graph\n",
        "test_df_combined['reciprocal_citation'] = compute_reciprocal_citation(G_test, test_df_combined)\n"
      ]
    },
    {
      "cell_type": "markdown",
      "metadata": {
        "id": "a8d3tAdWHQHV"
      },
      "source": [
        "### Author collaboration_history\n",
        "\n",
        "Binary feature indicating whether any authors of paper_A have collaborated with authors of paper_B."
      ]
    },
    {
      "cell_type": "code",
      "execution_count": 29,
      "metadata": {
        "colab": {
          "base_uri": "https://localhost:8080/"
        },
        "id": "phwPgV9oHRJb",
        "outputId": "685e0f57-eae3-43e5-8a95-591a482a871e"
      },
      "outputs": [
        {
          "name": "stdout",
          "output_type": "stream",
          "text": [
            "Sample processed authors column:\n",
            "0            [Hoon Hong, Dongming Wang]\n",
            "1                   [Charles J. Brooks]\n",
            "2    [Ahmed E. Hassan, Parminder Flora]\n",
            "3     [Darrel Creacy, Carlito Vicencio]\n",
            "4         [Neil Daswani, Anita Kesavan]\n",
            "Name: authors, dtype: object\n",
            "Collaboration Graph:\n",
            "Number of nodes: 505016\n",
            "Number of edges: 1137011\n"
          ]
        }
      ],
      "source": [
        "# Preprocess authors column\n",
        "df['authors'] = df['authors'].fillna('').apply(lambda x: x.split(',') if x else [])\n",
        "\n",
        "# Debug: Check the processed authors column\n",
        "print(\"Sample processed authors column:\")\n",
        "print(df['authors'].head())\n",
        "\n",
        "# Map authors for train_df_combined\n",
        "train_df_combined['authors_A'] = train_df_combined['paper_A'].map(df['authors'])\n",
        "train_df_combined['authors_B'] = train_df_combined['paper_B'].map(df['authors'])\n",
        "\n",
        "# Map authors for test_df_combined\n",
        "test_df_combined['authors_A'] = test_df_combined['paper_A'].map(df['authors'])\n",
        "test_df_combined['authors_B'] = test_df_combined['paper_B'].map(df['authors'])\n",
        "\n",
        "# Build the collaboration graph\n",
        "collaboration_graph = nx.Graph()\n",
        "\n",
        "for authors in df['authors']:\n",
        "    if authors:  # Skip empty author lists\n",
        "        collaboration_graph.add_edges_from([(a1, a2) for a1 in authors for a2 in authors if a1 != a2])\n",
        "\n",
        "# Debug: Check the collaboration graph\n",
        "print(\"Collaboration Graph:\")\n",
        "print(\"Number of nodes:\", collaboration_graph.number_of_nodes())\n",
        "print(\"Number of edges:\", collaboration_graph.number_of_edges())\n",
        "\n",
        "\n"
      ]
    },
    {
      "cell_type": "code",
      "execution_count": 30,
      "metadata": {
        "id": "-dukNZXNHZRA"
      },
      "outputs": [],
      "source": [
        "# Function to check collaboration history\n",
        "def check_collaboration(authors_A, authors_B):\n",
        "    if not authors_A or not authors_B:  # Handle empty author lists\n",
        "        return 0\n",
        "    for author_A in authors_A:\n",
        "        for author_B in authors_B:\n",
        "            if collaboration_graph.has_edge(author_A, author_B):\n",
        "                return 1\n",
        "    return 0\n",
        "\n",
        "# Compute collaboration history for train_df_combined\n",
        "train_df_combined['collaboration_history'] = [\n",
        "    check_collaboration(authors_A, authors_B)\n",
        "    for authors_A, authors_B in zip(train_df_combined['authors_A'], train_df_combined['authors_B'])\n",
        "]\n",
        "\n",
        "# Compute collaboration history for test_df_combined\n",
        "test_df_combined['collaboration_history'] = [\n",
        "    check_collaboration(authors_A, authors_B)\n",
        "    for authors_A, authors_B in zip(test_df_combined['authors_A'], test_df_combined['authors_B'])\n",
        "]\n"
      ]
    },
    {
      "cell_type": "code",
      "execution_count": 31,
      "metadata": {
        "id": "3E7bHwmCISZh"
      },
      "outputs": [],
      "source": [
        "# Shuffle the training and testing data\n",
        "train_df_combined = train_df_combined.sample(frac=1, random_state=42).reset_index(drop=True)\n",
        "test_df_combined = test_df_combined.sample(frac=1, random_state=42).reset_index(drop=True)\n"
      ]
    },
    {
      "cell_type": "code",
      "execution_count": 32,
      "metadata": {
        "colab": {
          "base_uri": "https://localhost:8080/"
        },
        "id": "NpkjM0l5IYpP",
        "outputId": "c766df0c-e49f-4c6d-d236-fb6e6016eb66"
      },
      "outputs": [
        {
          "data": {
            "text/plain": [
              "Index(['paper_A', 'paper_B', 'label', 'shared_keywords', 'dominant_topic_A',\n",
              "       'dominant_topic_B', 'year_A', 'year_B', 'venue_A', 'venue_B',\n",
              "       'shared_venue', 'degree_centrality_A', 'degree_centrality_B',\n",
              "       'degree_centrality_product', 'reciprocal_citation', 'authors_A',\n",
              "       'authors_B', 'collaboration_history'],\n",
              "      dtype='object')"
            ]
          },
          "execution_count": 32,
          "metadata": {},
          "output_type": "execute_result"
        }
      ],
      "source": [
        "train_df_combined.columns"
      ]
    },
    {
      "cell_type": "code",
      "execution_count": null,
      "metadata": {
        "id": "ii4mbrWnITpe"
      },
      "outputs": [],
      "source": [
        "# Define features\n",
        "features = [\n",
        "    'shared_keywords', 'graph_distance', 'temporal_influence',\n",
        "    'shared_venue', 'degree_centrality_product', 'pagerank_sum',\n",
        "    'reciprocal_citation', 'collaboration_history', 'temporal_influence'\n",
        "]\n",
        "\n",
        "X_train = train_df_combined[features]\n",
        "y_train = train_df_combined['label']\n",
        "X_test = test_df_combined[features]\n",
        "y_test = test_df_combined['label']\n",
        "\n",
        "# Train the model\n",
        "model = RandomForestClassifier(random_state=42)\n",
        "model.fit(X_train, y_train)\n",
        "\n",
        "# Evaluate the model\n",
        "y_pred = model.predict(X_test)\n",
        "y_proba = model.predict_proba(X_test)[:, 1]\n",
        "\n",
        "print(\"Classification Report:\")\n",
        "print(classification_report(y_test, y_pred))\n",
        "print(\"AUC-ROC Score:\", roc_auc_score(y_test, y_proba))\n"
      ]
    },
    {
      "cell_type": "code",
      "execution_count": 33,
      "metadata": {
        "id": "GpKKAmjVIxAo"
      },
      "outputs": [],
      "source": [
        "# Define features and target\n",
        "features = [\n",
        "    'shared_keywords', 'dominant_topic_A', 'dominant_topic_B',\n",
        "    'year_A', 'year_B', 'shared_venue', 'degree_centrality_A',\n",
        "    'degree_centrality_B', 'degree_centrality_product',\n",
        "    'reciprocal_citation', 'collaboration_history', 'temporal_influence'\n",
        "]\n",
        "\n",
        "X_train = train_df_combined[features]\n",
        "y_train = train_df_combined['label']\n",
        "\n",
        "X_test = test_df_combined[features]\n",
        "y_test = test_df_combined['label']\n"
      ]
    },
    {
      "cell_type": "code",
      "execution_count": 34,
      "metadata": {
        "colab": {
          "base_uri": "https://localhost:8080/",
          "height": 80
        },
        "id": "zLC4MasMIxQl",
        "outputId": "3dbf8d30-f4f1-490c-b406-fcbf6da1d63e"
      },
      "outputs": [
        {
          "data": {
            "text/html": [
              "<style>#sk-container-id-1 {\n",
              "  /* Definition of color scheme common for light and dark mode */\n",
              "  --sklearn-color-text: #000;\n",
              "  --sklearn-color-text-muted: #666;\n",
              "  --sklearn-color-line: gray;\n",
              "  /* Definition of color scheme for unfitted estimators */\n",
              "  --sklearn-color-unfitted-level-0: #fff5e6;\n",
              "  --sklearn-color-unfitted-level-1: #f6e4d2;\n",
              "  --sklearn-color-unfitted-level-2: #ffe0b3;\n",
              "  --sklearn-color-unfitted-level-3: chocolate;\n",
              "  /* Definition of color scheme for fitted estimators */\n",
              "  --sklearn-color-fitted-level-0: #f0f8ff;\n",
              "  --sklearn-color-fitted-level-1: #d4ebff;\n",
              "  --sklearn-color-fitted-level-2: #b3dbfd;\n",
              "  --sklearn-color-fitted-level-3: cornflowerblue;\n",
              "\n",
              "  /* Specific color for light theme */\n",
              "  --sklearn-color-text-on-default-background: var(--sg-text-color, var(--theme-code-foreground, var(--jp-content-font-color1, black)));\n",
              "  --sklearn-color-background: var(--sg-background-color, var(--theme-background, var(--jp-layout-color0, white)));\n",
              "  --sklearn-color-border-box: var(--sg-text-color, var(--theme-code-foreground, var(--jp-content-font-color1, black)));\n",
              "  --sklearn-color-icon: #696969;\n",
              "\n",
              "  @media (prefers-color-scheme: dark) {\n",
              "    /* Redefinition of color scheme for dark theme */\n",
              "    --sklearn-color-text-on-default-background: var(--sg-text-color, var(--theme-code-foreground, var(--jp-content-font-color1, white)));\n",
              "    --sklearn-color-background: var(--sg-background-color, var(--theme-background, var(--jp-layout-color0, #111)));\n",
              "    --sklearn-color-border-box: var(--sg-text-color, var(--theme-code-foreground, var(--jp-content-font-color1, white)));\n",
              "    --sklearn-color-icon: #878787;\n",
              "  }\n",
              "}\n",
              "\n",
              "#sk-container-id-1 {\n",
              "  color: var(--sklearn-color-text);\n",
              "}\n",
              "\n",
              "#sk-container-id-1 pre {\n",
              "  padding: 0;\n",
              "}\n",
              "\n",
              "#sk-container-id-1 input.sk-hidden--visually {\n",
              "  border: 0;\n",
              "  clip: rect(1px 1px 1px 1px);\n",
              "  clip: rect(1px, 1px, 1px, 1px);\n",
              "  height: 1px;\n",
              "  margin: -1px;\n",
              "  overflow: hidden;\n",
              "  padding: 0;\n",
              "  position: absolute;\n",
              "  width: 1px;\n",
              "}\n",
              "\n",
              "#sk-container-id-1 div.sk-dashed-wrapped {\n",
              "  border: 1px dashed var(--sklearn-color-line);\n",
              "  margin: 0 0.4em 0.5em 0.4em;\n",
              "  box-sizing: border-box;\n",
              "  padding-bottom: 0.4em;\n",
              "  background-color: var(--sklearn-color-background);\n",
              "}\n",
              "\n",
              "#sk-container-id-1 div.sk-container {\n",
              "  /* jupyter's `normalize.less` sets `[hidden] { display: none; }`\n",
              "     but bootstrap.min.css set `[hidden] { display: none !important; }`\n",
              "     so we also need the `!important` here to be able to override the\n",
              "     default hidden behavior on the sphinx rendered scikit-learn.org.\n",
              "     See: https://github.com/scikit-learn/scikit-learn/issues/21755 */\n",
              "  display: inline-block !important;\n",
              "  position: relative;\n",
              "}\n",
              "\n",
              "#sk-container-id-1 div.sk-text-repr-fallback {\n",
              "  display: none;\n",
              "}\n",
              "\n",
              "div.sk-parallel-item,\n",
              "div.sk-serial,\n",
              "div.sk-item {\n",
              "  /* draw centered vertical line to link estimators */\n",
              "  background-image: linear-gradient(var(--sklearn-color-text-on-default-background), var(--sklearn-color-text-on-default-background));\n",
              "  background-size: 2px 100%;\n",
              "  background-repeat: no-repeat;\n",
              "  background-position: center center;\n",
              "}\n",
              "\n",
              "/* Parallel-specific style estimator block */\n",
              "\n",
              "#sk-container-id-1 div.sk-parallel-item::after {\n",
              "  content: \"\";\n",
              "  width: 100%;\n",
              "  border-bottom: 2px solid var(--sklearn-color-text-on-default-background);\n",
              "  flex-grow: 1;\n",
              "}\n",
              "\n",
              "#sk-container-id-1 div.sk-parallel {\n",
              "  display: flex;\n",
              "  align-items: stretch;\n",
              "  justify-content: center;\n",
              "  background-color: var(--sklearn-color-background);\n",
              "  position: relative;\n",
              "}\n",
              "\n",
              "#sk-container-id-1 div.sk-parallel-item {\n",
              "  display: flex;\n",
              "  flex-direction: column;\n",
              "}\n",
              "\n",
              "#sk-container-id-1 div.sk-parallel-item:first-child::after {\n",
              "  align-self: flex-end;\n",
              "  width: 50%;\n",
              "}\n",
              "\n",
              "#sk-container-id-1 div.sk-parallel-item:last-child::after {\n",
              "  align-self: flex-start;\n",
              "  width: 50%;\n",
              "}\n",
              "\n",
              "#sk-container-id-1 div.sk-parallel-item:only-child::after {\n",
              "  width: 0;\n",
              "}\n",
              "\n",
              "/* Serial-specific style estimator block */\n",
              "\n",
              "#sk-container-id-1 div.sk-serial {\n",
              "  display: flex;\n",
              "  flex-direction: column;\n",
              "  align-items: center;\n",
              "  background-color: var(--sklearn-color-background);\n",
              "  padding-right: 1em;\n",
              "  padding-left: 1em;\n",
              "}\n",
              "\n",
              "\n",
              "/* Toggleable style: style used for estimator/Pipeline/ColumnTransformer box that is\n",
              "clickable and can be expanded/collapsed.\n",
              "- Pipeline and ColumnTransformer use this feature and define the default style\n",
              "- Estimators will overwrite some part of the style using the `sk-estimator` class\n",
              "*/\n",
              "\n",
              "/* Pipeline and ColumnTransformer style (default) */\n",
              "\n",
              "#sk-container-id-1 div.sk-toggleable {\n",
              "  /* Default theme specific background. It is overwritten whether we have a\n",
              "  specific estimator or a Pipeline/ColumnTransformer */\n",
              "  background-color: var(--sklearn-color-background);\n",
              "}\n",
              "\n",
              "/* Toggleable label */\n",
              "#sk-container-id-1 label.sk-toggleable__label {\n",
              "  cursor: pointer;\n",
              "  display: flex;\n",
              "  width: 100%;\n",
              "  margin-bottom: 0;\n",
              "  padding: 0.5em;\n",
              "  box-sizing: border-box;\n",
              "  text-align: center;\n",
              "  align-items: start;\n",
              "  justify-content: space-between;\n",
              "  gap: 0.5em;\n",
              "}\n",
              "\n",
              "#sk-container-id-1 label.sk-toggleable__label .caption {\n",
              "  font-size: 0.6rem;\n",
              "  font-weight: lighter;\n",
              "  color: var(--sklearn-color-text-muted);\n",
              "}\n",
              "\n",
              "#sk-container-id-1 label.sk-toggleable__label-arrow:before {\n",
              "  /* Arrow on the left of the label */\n",
              "  content: \"▸\";\n",
              "  float: left;\n",
              "  margin-right: 0.25em;\n",
              "  color: var(--sklearn-color-icon);\n",
              "}\n",
              "\n",
              "#sk-container-id-1 label.sk-toggleable__label-arrow:hover:before {\n",
              "  color: var(--sklearn-color-text);\n",
              "}\n",
              "\n",
              "/* Toggleable content - dropdown */\n",
              "\n",
              "#sk-container-id-1 div.sk-toggleable__content {\n",
              "  max-height: 0;\n",
              "  max-width: 0;\n",
              "  overflow: hidden;\n",
              "  text-align: left;\n",
              "  /* unfitted */\n",
              "  background-color: var(--sklearn-color-unfitted-level-0);\n",
              "}\n",
              "\n",
              "#sk-container-id-1 div.sk-toggleable__content.fitted {\n",
              "  /* fitted */\n",
              "  background-color: var(--sklearn-color-fitted-level-0);\n",
              "}\n",
              "\n",
              "#sk-container-id-1 div.sk-toggleable__content pre {\n",
              "  margin: 0.2em;\n",
              "  border-radius: 0.25em;\n",
              "  color: var(--sklearn-color-text);\n",
              "  /* unfitted */\n",
              "  background-color: var(--sklearn-color-unfitted-level-0);\n",
              "}\n",
              "\n",
              "#sk-container-id-1 div.sk-toggleable__content.fitted pre {\n",
              "  /* unfitted */\n",
              "  background-color: var(--sklearn-color-fitted-level-0);\n",
              "}\n",
              "\n",
              "#sk-container-id-1 input.sk-toggleable__control:checked~div.sk-toggleable__content {\n",
              "  /* Expand drop-down */\n",
              "  max-height: 200px;\n",
              "  max-width: 100%;\n",
              "  overflow: auto;\n",
              "}\n",
              "\n",
              "#sk-container-id-1 input.sk-toggleable__control:checked~label.sk-toggleable__label-arrow:before {\n",
              "  content: \"▾\";\n",
              "}\n",
              "\n",
              "/* Pipeline/ColumnTransformer-specific style */\n",
              "\n",
              "#sk-container-id-1 div.sk-label input.sk-toggleable__control:checked~label.sk-toggleable__label {\n",
              "  color: var(--sklearn-color-text);\n",
              "  background-color: var(--sklearn-color-unfitted-level-2);\n",
              "}\n",
              "\n",
              "#sk-container-id-1 div.sk-label.fitted input.sk-toggleable__control:checked~label.sk-toggleable__label {\n",
              "  background-color: var(--sklearn-color-fitted-level-2);\n",
              "}\n",
              "\n",
              "/* Estimator-specific style */\n",
              "\n",
              "/* Colorize estimator box */\n",
              "#sk-container-id-1 div.sk-estimator input.sk-toggleable__control:checked~label.sk-toggleable__label {\n",
              "  /* unfitted */\n",
              "  background-color: var(--sklearn-color-unfitted-level-2);\n",
              "}\n",
              "\n",
              "#sk-container-id-1 div.sk-estimator.fitted input.sk-toggleable__control:checked~label.sk-toggleable__label {\n",
              "  /* fitted */\n",
              "  background-color: var(--sklearn-color-fitted-level-2);\n",
              "}\n",
              "\n",
              "#sk-container-id-1 div.sk-label label.sk-toggleable__label,\n",
              "#sk-container-id-1 div.sk-label label {\n",
              "  /* The background is the default theme color */\n",
              "  color: var(--sklearn-color-text-on-default-background);\n",
              "}\n",
              "\n",
              "/* On hover, darken the color of the background */\n",
              "#sk-container-id-1 div.sk-label:hover label.sk-toggleable__label {\n",
              "  color: var(--sklearn-color-text);\n",
              "  background-color: var(--sklearn-color-unfitted-level-2);\n",
              "}\n",
              "\n",
              "/* Label box, darken color on hover, fitted */\n",
              "#sk-container-id-1 div.sk-label.fitted:hover label.sk-toggleable__label.fitted {\n",
              "  color: var(--sklearn-color-text);\n",
              "  background-color: var(--sklearn-color-fitted-level-2);\n",
              "}\n",
              "\n",
              "/* Estimator label */\n",
              "\n",
              "#sk-container-id-1 div.sk-label label {\n",
              "  font-family: monospace;\n",
              "  font-weight: bold;\n",
              "  display: inline-block;\n",
              "  line-height: 1.2em;\n",
              "}\n",
              "\n",
              "#sk-container-id-1 div.sk-label-container {\n",
              "  text-align: center;\n",
              "}\n",
              "\n",
              "/* Estimator-specific */\n",
              "#sk-container-id-1 div.sk-estimator {\n",
              "  font-family: monospace;\n",
              "  border: 1px dotted var(--sklearn-color-border-box);\n",
              "  border-radius: 0.25em;\n",
              "  box-sizing: border-box;\n",
              "  margin-bottom: 0.5em;\n",
              "  /* unfitted */\n",
              "  background-color: var(--sklearn-color-unfitted-level-0);\n",
              "}\n",
              "\n",
              "#sk-container-id-1 div.sk-estimator.fitted {\n",
              "  /* fitted */\n",
              "  background-color: var(--sklearn-color-fitted-level-0);\n",
              "}\n",
              "\n",
              "/* on hover */\n",
              "#sk-container-id-1 div.sk-estimator:hover {\n",
              "  /* unfitted */\n",
              "  background-color: var(--sklearn-color-unfitted-level-2);\n",
              "}\n",
              "\n",
              "#sk-container-id-1 div.sk-estimator.fitted:hover {\n",
              "  /* fitted */\n",
              "  background-color: var(--sklearn-color-fitted-level-2);\n",
              "}\n",
              "\n",
              "/* Specification for estimator info (e.g. \"i\" and \"?\") */\n",
              "\n",
              "/* Common style for \"i\" and \"?\" */\n",
              "\n",
              ".sk-estimator-doc-link,\n",
              "a:link.sk-estimator-doc-link,\n",
              "a:visited.sk-estimator-doc-link {\n",
              "  float: right;\n",
              "  font-size: smaller;\n",
              "  line-height: 1em;\n",
              "  font-family: monospace;\n",
              "  background-color: var(--sklearn-color-background);\n",
              "  border-radius: 1em;\n",
              "  height: 1em;\n",
              "  width: 1em;\n",
              "  text-decoration: none !important;\n",
              "  margin-left: 0.5em;\n",
              "  text-align: center;\n",
              "  /* unfitted */\n",
              "  border: var(--sklearn-color-unfitted-level-1) 1pt solid;\n",
              "  color: var(--sklearn-color-unfitted-level-1);\n",
              "}\n",
              "\n",
              ".sk-estimator-doc-link.fitted,\n",
              "a:link.sk-estimator-doc-link.fitted,\n",
              "a:visited.sk-estimator-doc-link.fitted {\n",
              "  /* fitted */\n",
              "  border: var(--sklearn-color-fitted-level-1) 1pt solid;\n",
              "  color: var(--sklearn-color-fitted-level-1);\n",
              "}\n",
              "\n",
              "/* On hover */\n",
              "div.sk-estimator:hover .sk-estimator-doc-link:hover,\n",
              ".sk-estimator-doc-link:hover,\n",
              "div.sk-label-container:hover .sk-estimator-doc-link:hover,\n",
              ".sk-estimator-doc-link:hover {\n",
              "  /* unfitted */\n",
              "  background-color: var(--sklearn-color-unfitted-level-3);\n",
              "  color: var(--sklearn-color-background);\n",
              "  text-decoration: none;\n",
              "}\n",
              "\n",
              "div.sk-estimator.fitted:hover .sk-estimator-doc-link.fitted:hover,\n",
              ".sk-estimator-doc-link.fitted:hover,\n",
              "div.sk-label-container:hover .sk-estimator-doc-link.fitted:hover,\n",
              ".sk-estimator-doc-link.fitted:hover {\n",
              "  /* fitted */\n",
              "  background-color: var(--sklearn-color-fitted-level-3);\n",
              "  color: var(--sklearn-color-background);\n",
              "  text-decoration: none;\n",
              "}\n",
              "\n",
              "/* Span, style for the box shown on hovering the info icon */\n",
              ".sk-estimator-doc-link span {\n",
              "  display: none;\n",
              "  z-index: 9999;\n",
              "  position: relative;\n",
              "  font-weight: normal;\n",
              "  right: .2ex;\n",
              "  padding: .5ex;\n",
              "  margin: .5ex;\n",
              "  width: min-content;\n",
              "  min-width: 20ex;\n",
              "  max-width: 50ex;\n",
              "  color: var(--sklearn-color-text);\n",
              "  box-shadow: 2pt 2pt 4pt #999;\n",
              "  /* unfitted */\n",
              "  background: var(--sklearn-color-unfitted-level-0);\n",
              "  border: .5pt solid var(--sklearn-color-unfitted-level-3);\n",
              "}\n",
              "\n",
              ".sk-estimator-doc-link.fitted span {\n",
              "  /* fitted */\n",
              "  background: var(--sklearn-color-fitted-level-0);\n",
              "  border: var(--sklearn-color-fitted-level-3);\n",
              "}\n",
              "\n",
              ".sk-estimator-doc-link:hover span {\n",
              "  display: block;\n",
              "}\n",
              "\n",
              "/* \"?\"-specific style due to the `<a>` HTML tag */\n",
              "\n",
              "#sk-container-id-1 a.estimator_doc_link {\n",
              "  float: right;\n",
              "  font-size: 1rem;\n",
              "  line-height: 1em;\n",
              "  font-family: monospace;\n",
              "  background-color: var(--sklearn-color-background);\n",
              "  border-radius: 1rem;\n",
              "  height: 1rem;\n",
              "  width: 1rem;\n",
              "  text-decoration: none;\n",
              "  /* unfitted */\n",
              "  color: var(--sklearn-color-unfitted-level-1);\n",
              "  border: var(--sklearn-color-unfitted-level-1) 1pt solid;\n",
              "}\n",
              "\n",
              "#sk-container-id-1 a.estimator_doc_link.fitted {\n",
              "  /* fitted */\n",
              "  border: var(--sklearn-color-fitted-level-1) 1pt solid;\n",
              "  color: var(--sklearn-color-fitted-level-1);\n",
              "}\n",
              "\n",
              "/* On hover */\n",
              "#sk-container-id-1 a.estimator_doc_link:hover {\n",
              "  /* unfitted */\n",
              "  background-color: var(--sklearn-color-unfitted-level-3);\n",
              "  color: var(--sklearn-color-background);\n",
              "  text-decoration: none;\n",
              "}\n",
              "\n",
              "#sk-container-id-1 a.estimator_doc_link.fitted:hover {\n",
              "  /* fitted */\n",
              "  background-color: var(--sklearn-color-fitted-level-3);\n",
              "}\n",
              "</style><div id=\"sk-container-id-1\" class=\"sk-top-container\"><div class=\"sk-text-repr-fallback\"><pre>RandomForestClassifier(random_state=42)</pre><b>In a Jupyter environment, please rerun this cell to show the HTML representation or trust the notebook. <br />On GitHub, the HTML representation is unable to render, please try loading this page with nbviewer.org.</b></div><div class=\"sk-container\" hidden><div class=\"sk-item\"><div class=\"sk-estimator fitted sk-toggleable\"><input class=\"sk-toggleable__control sk-hidden--visually\" id=\"sk-estimator-id-1\" type=\"checkbox\" checked><label for=\"sk-estimator-id-1\" class=\"sk-toggleable__label fitted sk-toggleable__label-arrow\"><div><div>RandomForestClassifier</div></div><div><a class=\"sk-estimator-doc-link fitted\" rel=\"noreferrer\" target=\"_blank\" href=\"https://scikit-learn.org/1.6/modules/generated/sklearn.ensemble.RandomForestClassifier.html\">?<span>Documentation for RandomForestClassifier</span></a><span class=\"sk-estimator-doc-link fitted\">i<span>Fitted</span></span></div></label><div class=\"sk-toggleable__content fitted\"><pre>RandomForestClassifier(random_state=42)</pre></div> </div></div></div></div>"
            ],
            "text/plain": [
              "RandomForestClassifier(random_state=42)"
            ]
          },
          "execution_count": 34,
          "metadata": {},
          "output_type": "execute_result"
        }
      ],
      "source": [
        "from sklearn.ensemble import RandomForestClassifier\n",
        "from sklearn.metrics import classification_report, roc_auc_score\n",
        "\n",
        "# Initialize the model\n",
        "model = RandomForestClassifier(random_state=42)\n",
        "\n",
        "# Train the model\n",
        "model.fit(X_train, y_train)\n"
      ]
    },
    {
      "cell_type": "code",
      "execution_count": 35,
      "metadata": {
        "colab": {
          "base_uri": "https://localhost:8080/"
        },
        "id": "WgaNFL0eIzDe",
        "outputId": "67165e70-2f1b-4a48-eece-9d3857e0a40d"
      },
      "outputs": [
        {
          "name": "stdout",
          "output_type": "stream",
          "text": [
            "Classification Report:\n",
            "              precision    recall  f1-score   support\n",
            "\n",
            "           0       0.98      0.55      0.70     25400\n",
            "           1       0.69      0.99      0.81     25400\n",
            "\n",
            "    accuracy                           0.77     50800\n",
            "   macro avg       0.83      0.77      0.76     50800\n",
            "weighted avg       0.83      0.77      0.76     50800\n",
            "\n",
            "AUC-ROC Score: 0.9131784402318806\n"
          ]
        }
      ],
      "source": [
        "# Make predictions\n",
        "y_pred = model.predict(X_test)\n",
        "y_proba = model.predict_proba(X_test)[:, 1]  # Probabilities for positive class\n",
        "\n",
        "# Print classification report\n",
        "print(\"Classification Report:\")\n",
        "print(classification_report(y_test, y_pred))\n",
        "\n",
        "# Compute AUC-ROC\n",
        "print(\"AUC-ROC Score:\", roc_auc_score(y_test, y_proba))\n"
      ]
    },
    {
      "cell_type": "code",
      "execution_count": 36,
      "metadata": {
        "colab": {
          "base_uri": "https://localhost:8080/",
          "height": 569
        },
        "id": "nX-3KapvJBAF",
        "outputId": "4c9b0784-4330-42d2-ce9a-2f771cbd20cf"
      },
      "outputs": [
        {
          "data": {
            "image/png": "[encoded data removed]",
            "text/plain": [
              "<Figure size 800x600 with 1 Axes>"
            ]
          },
          "metadata": {},
          "output_type": "display_data"
        }
      ],
      "source": [
        "from sklearn.metrics import roc_curve, auc\n",
        "import matplotlib.pyplot as plt\n",
        "# Compute ROC curve and AUC score\n",
        "fpr, tpr, thresholds = roc_curve(y_test, y_proba)  # False Positive Rate, True Positive Rate\n",
        "roc_auc = auc(fpr, tpr)  # Compute AUC score\n",
        "# Plot the ROC curve\n",
        "plt.figure(figsize=(8, 6))\n",
        "plt.plot(fpr, tpr, color='blue', lw=2, label=f\"ROC Curve (AUC = {roc_auc:.2f})\")\n",
        "plt.plot([0, 1], [0, 1], color='gray', linestyle='--', lw=2)  # Diagonal line\n",
        "plt.xlabel(\"False Positive Rate\", fontsize=12)\n",
        "plt.ylabel(\"True Positive Rate\", fontsize=12)\n",
        "plt.title(\"Receiver Operating Characteristic (ROC) Curve\", fontsize=14)\n",
        "plt.legend(loc=\"lower right\")\n",
        "plt.grid(alpha=0.3)\n",
        "plt.show()\n"
      ]
    },
    {
      "cell_type": "code",
      "execution_count": 38,
      "metadata": {
        "colab": {
          "base_uri": "https://localhost:8080/"
        },
        "id": "rYAr0z12KAis",
        "outputId": "962446df-243a-45a9-8cb6-4aeae4bae526"
      },
      "outputs": [
        {
          "name": "stdout",
          "output_type": "stream",
          "text": [
            "Gradient Boosting Classification Report:\n",
            "              precision    recall  f1-score   support\n",
            "\n",
            "           0       0.99      0.43      0.60     25400\n",
            "           1       0.64      1.00      0.78     25400\n",
            "\n",
            "    accuracy                           0.71     50800\n",
            "   macro avg       0.81      0.71      0.69     50800\n",
            "weighted avg       0.81      0.71      0.69     50800\n",
            "\n",
            "AUC-ROC Score: 0.9235994908239815\n"
          ]
        }
      ],
      "source": [
        "from sklearn.ensemble import GradientBoostingClassifier\n",
        "\n",
        "# Initialize and train the model\n",
        "gb_model = GradientBoostingClassifier(random_state=42)\n",
        "gb_model.fit(X_train, y_train)\n",
        "\n",
        "# Predict and evaluate\n",
        "y_pred_gb = gb_model.predict(X_test)\n",
        "y_proba_gb = gb_model.predict_proba(X_test)[:, 1]\n",
        "\n",
        "print(\"Gradient Boosting Classification Report:\")\n",
        "print(classification_report(y_test, y_pred_gb))\n",
        "print(\"AUC-ROC Score:\", roc_auc_score(y_test, y_proba_gb))\n"
      ]
    },
    {
      "cell_type": "code",
      "execution_count": 39,
      "metadata": {
        "colab": {
          "base_uri": "https://localhost:8080/"
        },
        "id": "yUPJjSOZOlag",
        "outputId": "4a4a205d-aa36-4d4e-ee0d-65bf47dc6d80"
      },
      "outputs": [
        {
          "name": "stdout",
          "output_type": "stream",
          "text": [
            "Gradient Boosting Classification Report:\n",
            "              precision    recall  f1-score   support\n",
            "\n",
            "           0       0.99      0.43      0.60     25400\n",
            "           1       0.64      1.00      0.78     25400\n",
            "\n",
            "    accuracy                           0.71     50800\n",
            "   macro avg       0.81      0.71      0.69     50800\n",
            "weighted avg       0.81      0.71      0.69     50800\n",
            "\n",
            "AUC-ROC Score: 0.9235994908239815\n"
          ]
        }
      ],
      "source": [
        "from sklearn.ensemble import GradientBoostingClassifier\n",
        "\n",
        "# Initialize and train the model\n",
        "gb_model = GradientBoostingClassifier(random_state=42)\n",
        "gb_model.fit(X_train, y_train)\n",
        "\n",
        "# Predict and evaluate\n",
        "y_pred_gb = gb_model.predict(X_test)\n",
        "y_proba_gb = gb_model.predict_proba(X_test)[:, 1]\n",
        "\n",
        "print(\"Gradient Boosting Classification Report:\")\n",
        "print(classification_report(y_test, y_pred_gb))\n",
        "print(\"AUC-ROC Score:\", roc_auc_score(y_test, y_proba_gb))\n"
      ]
    },
    {
      "cell_type": "code",
      "execution_count": 40,
      "metadata": {
        "colab": {
          "base_uri": "https://localhost:8080/"
        },
        "id": "KgoBi50AP7rn",
        "outputId": "ec6a3ab5-c686-4b7b-9c9d-ef6396de94e5"
      },
      "outputs": [
        {
          "name": "stderr",
          "output_type": "stream",
          "text": [
            "/usr/local/lib/python3.10/dist-packages/sklearn/linear_model/_logistic.py:465: ConvergenceWarning: lbfgs failed to converge (status=1):\n",
            "STOP: TOTAL NO. of ITERATIONS REACHED LIMIT.\n",
            "\n",
            "Increase the number of iterations (max_iter) or scale the data as shown in:\n",
            "    https://scikit-learn.org/stable/modules/preprocessing.html\n",
            "Please also refer to the documentation for alternative solver options:\n",
            "    https://scikit-learn.org/stable/modules/linear_model.html#logistic-regression\n",
            "  n_iter_i = _check_optimize_result(\n"
          ]
        },
        {
          "name": "stdout",
          "output_type": "stream",
          "text": [
            "Classification Report for Logistic Regression:\n",
            "              precision    recall  f1-score   support\n",
            "\n",
            "           0       0.70      0.75      0.72     25400\n",
            "           1       0.73      0.67      0.70     25400\n",
            "\n",
            "    accuracy                           0.71     50800\n",
            "   macro avg       0.71      0.71      0.71     50800\n",
            "weighted avg       0.71      0.71      0.71     50800\n",
            "\n",
            "\n",
            "\n",
            "Classification Report for Random Forest:\n",
            "              precision    recall  f1-score   support\n",
            "\n",
            "           0       0.98      0.55      0.70     25400\n",
            "           1       0.69      0.99      0.81     25400\n",
            "\n",
            "    accuracy                           0.77     50800\n",
            "   macro avg       0.83      0.77      0.76     50800\n",
            "weighted avg       0.83      0.77      0.76     50800\n",
            "\n",
            "\n",
            "\n",
            "Classification Report for Gradient Boosting:\n",
            "              precision    recall  f1-score   support\n",
            "\n",
            "           0       0.99      0.43      0.60     25400\n",
            "           1       0.64      1.00      0.78     25400\n",
            "\n",
            "    accuracy                           0.71     50800\n",
            "   macro avg       0.81      0.71      0.69     50800\n",
            "weighted avg       0.81      0.71      0.69     50800\n",
            "\n",
            "\n",
            "\n"
          ]
        },
        {
          "name": "stderr",
          "output_type": "stream",
          "text": [
            "/usr/local/lib/python3.10/dist-packages/xgboost/core.py:158: UserWarning: [14:18:11] WARNING: /workspace/src/learner.cc:740: \n",
            "Parameters: { \"use_label_encoder\" } are not used.\n",
            "\n",
            "  warnings.warn(smsg, UserWarning)\n"
          ]
        },
        {
          "name": "stdout",
          "output_type": "stream",
          "text": [
            "Classification Report for XGBoost:\n",
            "              precision    recall  f1-score   support\n",
            "\n",
            "           0       0.99      0.56      0.72     25400\n",
            "           1       0.69      0.99      0.82     25400\n",
            "\n",
            "    accuracy                           0.78     50800\n",
            "   macro avg       0.84      0.78      0.77     50800\n",
            "weighted avg       0.84      0.78      0.77     50800\n",
            "\n",
            "\n",
            "\n",
            "Classification Report for Linear Regression (Ridge):\n",
            "              precision    recall  f1-score   support\n",
            "\n",
            "           0       0.57      0.97      0.72     25400\n",
            "           1       0.89      0.27      0.42     25400\n",
            "\n",
            "    accuracy                           0.62     50800\n",
            "   macro avg       0.73      0.62      0.57     50800\n",
            "weighted avg       0.73      0.62      0.57     50800\n",
            "\n",
            "\n",
            "\n",
            "Performance Metrics:\n",
            "                       Model   AUC-ROC\n",
            "0        Logistic Regression  0.815406\n",
            "1              Random Forest  0.913178\n",
            "2          Gradient Boosting  0.923599\n",
            "3                    XGBoost  0.940134\n",
            "4  Linear Regression (Ridge)  0.820404\n"
          ]
        }
      ],
      "source": [
        "from sklearn.linear_model import LogisticRegression, RidgeClassifier\n",
        "from sklearn.ensemble import RandomForestClassifier, GradientBoostingClassifier\n",
        "from xgboost import XGBClassifier\n",
        "from sklearn.metrics import roc_curve, auc, roc_auc_score, classification_report\n",
        "import matplotlib.pyplot as plt\n",
        "import pandas as pd\n",
        "\n",
        "# Models to train\n",
        "models = {\n",
        "    'Logistic Regression': LogisticRegression(max_iter=1000, random_state=42),\n",
        "    'Random Forest': RandomForestClassifier(random_state=42),\n",
        "    'Gradient Boosting': GradientBoostingClassifier(random_state=42),\n",
        "    'XGBoost': XGBClassifier(random_state=42, use_label_encoder=False, eval_metric='logloss'),\n",
        "    'Linear Regression (Ridge)': RidgeClassifier()\n",
        "}\n",
        "\n",
        "# Store AUC scores and ROC data\n",
        "auc_scores = {}\n",
        "roc_data = {}\n",
        "\n",
        "# Train each model and collect results\n",
        "for model_name, model in models.items():\n",
        "    # Train the model\n",
        "    model.fit(X_train, y_train)\n",
        "\n",
        "    # Predict probabilities or decision function\n",
        "    if model_name == 'Linear Regression (Ridge)':\n",
        "        y_proba = model.decision_function(X_test)\n",
        "    else:\n",
        "        y_proba = model.predict_proba(X_test)[:, 1]\n",
        "\n",
        "    # Compute AUC and ROC curve\n",
        "    fpr, tpr, _ = roc_curve(y_test, y_proba)\n",
        "    roc_auc = roc_auc_score(y_test, y_proba)\n",
        "\n",
        "    # Save results\n",
        "    auc_scores[model_name] = roc_auc\n",
        "    roc_data[model_name] = (fpr, tpr)\n",
        "\n",
        "    # Print classification report\n",
        "    print(f\"Classification Report for {model_name}:\")\n",
        "    print(classification_report(y_test, (y_proba > 0.5).astype(int)))\n",
        "    print(\"\\n\")\n",
        "\n",
        "# Create a DataFrame for performance comparison\n",
        "performance_df = pd.DataFrame({\n",
        "    'Model': list(auc_scores.keys()),\n",
        "    'AUC-ROC': list(auc_scores.values())\n",
        "})\n",
        "\n",
        "# Display the performance table\n",
        "print(\"Performance Metrics:\")\n",
        "print(performance_df)\n"
      ]
    },
    {
      "cell_type": "code",
      "execution_count": 41,
      "metadata": {
        "colab": {
          "base_uri": "https://localhost:8080/",
          "height": 723
        },
        "id": "enn6HmzzSIhH",
        "outputId": "310860bf-75f1-4587-b312-8e9987399601"
      },
      "outputs": [
        {
          "data": {
            "image/png": "[encoded data removed]",
            "text/plain": [
              "<Figure size 1000x800 with 1 Axes>"
            ]
          },
          "metadata": {},
          "output_type": "display_data"
        }
      ],
      "source": [
        "# Plot ROC curves\n",
        "plt.figure(figsize=(10, 8))\n",
        "for model_name, (fpr, tpr) in roc_data.items():\n",
        "    plt.plot(fpr, tpr, label=f\"{model_name} (AUC = {auc_scores[model_name]:.2f})\")\n",
        "\n",
        "# Add baseline and labels\n",
        "plt.plot([0, 1], [0, 1], color='gray', linestyle='--', lw=2, label=\"Random Guessing\")\n",
        "plt.title(\"ROC Curves for All Models\", fontsize=14)\n",
        "plt.xlabel(\"False Positive Rate\", fontsize=12)\n",
        "plt.ylabel(\"True Positive Rate\", fontsize=12)\n",
        "plt.legend(loc=\"lower right\")\n",
        "plt.grid(alpha=0.3)\n",
        "plt.show()\n"
      ]
    },
    {
      "cell_type": "code",
      "execution_count": null,
      "metadata": {
        "id": "9dbd4xRWSI_3"
      },
      "outputs": [],
      "source": []
    }
  ],
  "metadata": {
    "colab": {
      "provenance": [],
      "toc_visible": true
    },
    "kernelspec": {
      "display_name": "Python 3",
      "name": "python3"
    },
    "language_info": {
      "name": "python"
    }
  },
  "nbformat": 4,
  "nbformat_minor": 0
}
