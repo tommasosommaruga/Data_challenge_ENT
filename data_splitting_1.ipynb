{
 "cells": [
  {
   "cell_type": "markdown",
   "metadata": {},
   "source": [
    "# Data challenge 3 second project"
   ]
  },
  {
   "cell_type": "code",
   "execution_count": 155,
   "metadata": {},
   "outputs": [],
   "source": [
    "import pickle\n",
    "import os\n",
    "import sys\n",
    "import re\n",
    "import string\n",
    "import numpy as np\n",
    "import pandas as pd\n",
    "import matplotlib.pyplot as plt"
   ]
  },
  {
   "cell_type": "markdown",
   "metadata": {},
   "source": [
    "### 1.Data Preparation "
   ]
  },
  {
   "cell_type": "markdown",
   "metadata": {},
   "source": [
    "This section includes loading and preprocessing the dataset, load the papers data and extract the features from the txt file"
   ]
  },
  {
   "cell_type": "code",
   "execution_count": 156,
   "metadata": {},
   "outputs": [],
   "source": [
    "import pandas as pd\n",
    "\n",
    "# Function to parse the papers.txt file and create a DataFrame\n",
    "def parse_papers(file_path):\n",
    "    # Read the content of the file\n",
    "    with open(file_path, \"r\", encoding='utf-8') as file:\n",
    "        data = file.read()\n",
    "    \n",
    "    # Split the data by paper blocks (separated by two newlines or '#*')\n",
    "    paper_blocks = data.strip().split(\"\\n\\n\")\n",
    "\n",
    "    papers = []\n",
    "    for block in paper_blocks:\n",
    "        paper_data = {}\n",
    "        lines = block.split(\"\\n\")\n",
    "        \n",
    "        for line in lines:\n",
    "            # Title: line starts with '#*'\n",
    "            if line.startswith(\"#*\"):\n",
    "                paper_data[\"title\"] = line[2:].strip()\n",
    "            # Authors: line starts with '#@'\n",
    "            elif line.startswith(\"#@\"):\n",
    "                paper_data[\"authors\"] = line[2:].strip()\n",
    "            # Year: line starts with '#t'\n",
    "            elif line.startswith(\"#t\"):\n",
    "                paper_data[\"year\"] = line[2:].strip()\n",
    "            # Citations: line starts with '#c'\n",
    "            elif line.startswith(\"#c\"):\n",
    "                paper_data[\"citations\"] = line[2:].strip()\n",
    "            # Index: line starts with '#index'\n",
    "            elif line.startswith(\"#index\"):\n",
    "                paper_data[\"index\"] = line[6:].strip()\n",
    "            # Additional comments or description (optional): lines starting with '#!' (can be ignored for the DataFrame)\n",
    "            elif line.startswith(\"#!\"):\n",
    "                continue\n",
    "        \n",
    "        papers.append(paper_data)\n",
    "\n",
    "    # Convert the list of papers into a DataFrame\n",
    "    df = pd.DataFrame(papers)\n",
    "    return df\n",
    "\n",
    "# Path to the file\n",
    "file_path = \"Data/papers.txt\" \n",
    "\n",
    "# Parse the data and create a DataFrame\n",
    "df = parse_papers(file_path)"
   ]
  },
  {
   "cell_type": "code",
   "execution_count": 157,
   "metadata": {},
   "outputs": [],
   "source": [
    "df = pd.read_csv('Data/papers_.csv')"
   ]
  },
  {
   "cell_type": "code",
   "execution_count": 158,
   "metadata": {},
   "outputs": [
    {
     "data": {
      "text/plain": [
       "(629814, 7)"
      ]
     },
     "execution_count": 158,
     "metadata": {},
     "output_type": "execute_result"
    }
   ],
   "source": [
    "df.shape"
   ]
  },
  {
   "cell_type": "markdown",
   "metadata": {},
   "source": [
    "---"
   ]
  },
  {
   "cell_type": "markdown",
   "metadata": {},
   "source": [
    "#### 1.1 Data cleaning"
   ]
  },
  {
   "cell_type": "code",
   "execution_count": 159,
   "metadata": {},
   "outputs": [],
   "source": [
    "df['index'] = df['index'].astype(str)"
   ]
  },
  {
   "cell_type": "code",
   "execution_count": 160,
   "metadata": {},
   "outputs": [],
   "source": [
    "# import the picke file \n",
    "with open('Data/pid_cat_dict.pkl', 'rb') as file:\n",
    "    picke_df = pickle.load(file)\n",
    "\n",
    "picke_df = pd.DataFrame(picke_df.items(), columns=['index', 'categories'])\n",
    "\n",
    "#  Merge the two dataframes\n",
    "df = df.merge(picke_df, on='index', how='left')"
   ]
  },
  {
   "cell_type": "code",
   "execution_count": 161,
   "metadata": {},
   "outputs": [
    {
     "data": {
      "text/html": [
       "<div>\n",
       "<style scoped>\n",
       "    .dataframe tbody tr th:only-of-type {\n",
       "        vertical-align: middle;\n",
       "    }\n",
       "\n",
       "    .dataframe tbody tr th {\n",
       "        vertical-align: top;\n",
       "    }\n",
       "\n",
       "    .dataframe thead th {\n",
       "        text-align: right;\n",
       "    }\n",
       "</style>\n",
       "<table border=\"1\" class=\"dataframe\">\n",
       "  <thead>\n",
       "    <tr style=\"text-align: right;\">\n",
       "      <th></th>\n",
       "      <th>index</th>\n",
       "      <th>categories</th>\n",
       "    </tr>\n",
       "  </thead>\n",
       "  <tbody>\n",
       "    <tr>\n",
       "      <th>0</th>\n",
       "      <td>0</td>\n",
       "      <td>[13, 18]</td>\n",
       "    </tr>\n",
       "    <tr>\n",
       "      <th>1</th>\n",
       "      <td>1</td>\n",
       "      <td>[18, 25]</td>\n",
       "    </tr>\n",
       "    <tr>\n",
       "      <th>2</th>\n",
       "      <td>2</td>\n",
       "      <td>[6, 11]</td>\n",
       "    </tr>\n",
       "    <tr>\n",
       "      <th>3</th>\n",
       "      <td>3</td>\n",
       "      <td>[18]</td>\n",
       "    </tr>\n",
       "    <tr>\n",
       "      <th>4</th>\n",
       "      <td>4</td>\n",
       "      <td>[17, 19]</td>\n",
       "    </tr>\n",
       "  </tbody>\n",
       "</table>\n",
       "</div>"
      ],
      "text/plain": [
       "  index categories\n",
       "0     0   [13, 18]\n",
       "1     1   [18, 25]\n",
       "2     2    [6, 11]\n",
       "3     3       [18]\n",
       "4     4   [17, 19]"
      ]
     },
     "execution_count": 161,
     "metadata": {},
     "output_type": "execute_result"
    }
   ],
   "source": [
    "picke_df.head(5)"
   ]
  },
  {
   "cell_type": "code",
   "execution_count": 162,
   "metadata": {},
   "outputs": [
    {
     "name": "stdout",
     "output_type": "stream",
     "text": [
      "<class 'pandas.core.frame.DataFrame'>\n",
      "RangeIndex: 629814 entries, 0 to 629813\n",
      "Data columns (total 8 columns):\n",
      " #   Column      Non-Null Count   Dtype \n",
      "---  ------      --------------   ----- \n",
      " 0   title       629814 non-null  object\n",
      " 1   authors     603898 non-null  object\n",
      " 2   year        629814 non-null  int64 \n",
      " 3   venue       531220 non-null  object\n",
      " 4   index       629814 non-null  object\n",
      " 5   citations   125372 non-null  object\n",
      " 6   abstract    281080 non-null  object\n",
      " 7   categories  629814 non-null  object\n",
      "dtypes: int64(1), object(7)\n",
      "memory usage: 38.4+ MB\n"
     ]
    }
   ],
   "source": [
    "df.info()"
   ]
  },
  {
   "cell_type": "code",
   "execution_count": 163,
   "metadata": {},
   "outputs": [
    {
     "data": {
      "text/html": [
       "<div>\n",
       "<style scoped>\n",
       "    .dataframe tbody tr th:only-of-type {\n",
       "        vertical-align: middle;\n",
       "    }\n",
       "\n",
       "    .dataframe tbody tr th {\n",
       "        vertical-align: top;\n",
       "    }\n",
       "\n",
       "    .dataframe thead th {\n",
       "        text-align: right;\n",
       "    }\n",
       "</style>\n",
       "<table border=\"1\" class=\"dataframe\">\n",
       "  <thead>\n",
       "    <tr style=\"text-align: right;\">\n",
       "      <th></th>\n",
       "      <th>title</th>\n",
       "      <th>authors</th>\n",
       "      <th>year</th>\n",
       "      <th>venue</th>\n",
       "      <th>index</th>\n",
       "      <th>citations</th>\n",
       "      <th>abstract</th>\n",
       "      <th>categories</th>\n",
       "    </tr>\n",
       "  </thead>\n",
       "  <tbody>\n",
       "    <tr>\n",
       "      <th>0</th>\n",
       "      <td>Automated Deduction in Geometry: 5th Internati...</td>\n",
       "      <td>Hoon Hong,Dongming Wang</td>\n",
       "      <td>2006</td>\n",
       "      <td>NaN</td>\n",
       "      <td>0</td>\n",
       "      <td>NaN</td>\n",
       "      <td>NaN</td>\n",
       "      <td>[13, 18]</td>\n",
       "    </tr>\n",
       "    <tr>\n",
       "      <th>1</th>\n",
       "      <td>A+ Certification Core Hardware (Text &amp; Lab Man...</td>\n",
       "      <td>Charles J. Brooks</td>\n",
       "      <td>2003</td>\n",
       "      <td>NaN</td>\n",
       "      <td>1</td>\n",
       "      <td>NaN</td>\n",
       "      <td>NaN</td>\n",
       "      <td>[18, 25]</td>\n",
       "    </tr>\n",
       "    <tr>\n",
       "      <th>2</th>\n",
       "      <td>Performance engineering in industry: current p...</td>\n",
       "      <td>Ahmed E. Hassan,Parminder Flora</td>\n",
       "      <td>2007</td>\n",
       "      <td>Proceedings of the 6th international workshop ...</td>\n",
       "      <td>2</td>\n",
       "      <td>NaN</td>\n",
       "      <td>This panel session discusses performance engin...</td>\n",
       "      <td>[6, 11]</td>\n",
       "    </tr>\n",
       "    <tr>\n",
       "      <th>3</th>\n",
       "      <td>Dude, You Can Do It! How to Build a Sweeet PC</td>\n",
       "      <td>Darrel Creacy,Carlito Vicencio</td>\n",
       "      <td>2005</td>\n",
       "      <td>NaN</td>\n",
       "      <td>3</td>\n",
       "      <td>NaN</td>\n",
       "      <td>Whether you're frustrated with current PC offe...</td>\n",
       "      <td>[18]</td>\n",
       "    </tr>\n",
       "    <tr>\n",
       "      <th>4</th>\n",
       "      <td>What Every Programmer Needs to Know about Secu...</td>\n",
       "      <td>Neil Daswani,Anita Kesavan</td>\n",
       "      <td>2006</td>\n",
       "      <td>NaN</td>\n",
       "      <td>4</td>\n",
       "      <td>NaN</td>\n",
       "      <td>NaN</td>\n",
       "      <td>[17, 19]</td>\n",
       "    </tr>\n",
       "  </tbody>\n",
       "</table>\n",
       "</div>"
      ],
      "text/plain": [
       "                                               title  \\\n",
       "0  Automated Deduction in Geometry: 5th Internati...   \n",
       "1  A+ Certification Core Hardware (Text & Lab Man...   \n",
       "2  Performance engineering in industry: current p...   \n",
       "3      Dude, You Can Do It! How to Build a Sweeet PC   \n",
       "4  What Every Programmer Needs to Know about Secu...   \n",
       "\n",
       "                           authors  year  \\\n",
       "0          Hoon Hong,Dongming Wang  2006   \n",
       "1                Charles J. Brooks  2003   \n",
       "2  Ahmed E. Hassan,Parminder Flora  2007   \n",
       "3   Darrel Creacy,Carlito Vicencio  2005   \n",
       "4       Neil Daswani,Anita Kesavan  2006   \n",
       "\n",
       "                                               venue index citations  \\\n",
       "0                                                NaN     0       NaN   \n",
       "1                                                NaN     1       NaN   \n",
       "2  Proceedings of the 6th international workshop ...     2       NaN   \n",
       "3                                                NaN     3       NaN   \n",
       "4                                                NaN     4       NaN   \n",
       "\n",
       "                                            abstract categories  \n",
       "0                                                NaN   [13, 18]  \n",
       "1                                                NaN   [18, 25]  \n",
       "2  This panel session discusses performance engin...    [6, 11]  \n",
       "3  Whether you're frustrated with current PC offe...       [18]  \n",
       "4                                                NaN   [17, 19]  "
      ]
     },
     "execution_count": 163,
     "metadata": {},
     "output_type": "execute_result"
    }
   ],
   "source": [
    "df.head(5)"
   ]
  },
  {
   "cell_type": "code",
   "execution_count": 164,
   "metadata": {},
   "outputs": [
    {
     "data": {
      "text/plain": [
       "125372"
      ]
     },
     "execution_count": 164,
     "metadata": {},
     "output_type": "execute_result"
    }
   ],
   "source": [
    "len(df[df['citations'].notnull()])"
   ]
  },
  {
   "cell_type": "markdown",
   "metadata": {},
   "source": [
    "Out of 629814 papers, 125372 have null citations"
   ]
  },
  {
   "cell_type": "code",
   "execution_count": 165,
   "metadata": {},
   "outputs": [
    {
     "data": {
      "text/html": [
       "<div>\n",
       "<style scoped>\n",
       "    .dataframe tbody tr th:only-of-type {\n",
       "        vertical-align: middle;\n",
       "    }\n",
       "\n",
       "    .dataframe tbody tr th {\n",
       "        vertical-align: top;\n",
       "    }\n",
       "\n",
       "    .dataframe thead th {\n",
       "        text-align: right;\n",
       "    }\n",
       "</style>\n",
       "<table border=\"1\" class=\"dataframe\">\n",
       "  <thead>\n",
       "    <tr style=\"text-align: right;\">\n",
       "      <th></th>\n",
       "      <th>title</th>\n",
       "      <th>authors</th>\n",
       "      <th>year</th>\n",
       "      <th>venue</th>\n",
       "      <th>index</th>\n",
       "      <th>citations</th>\n",
       "      <th>abstract</th>\n",
       "      <th>categories</th>\n",
       "    </tr>\n",
       "  </thead>\n",
       "  <tbody>\n",
       "    <tr>\n",
       "      <th>588028</th>\n",
       "      <td>201 principles of software development</td>\n",
       "      <td>Alan M. Davis</td>\n",
       "      <td>1995</td>\n",
       "      <td>NaN</td>\n",
       "      <td>588028</td>\n",
       "      <td>164122;206639;510740;520097</td>\n",
       "      <td>From the Preface If software engineering is re...</td>\n",
       "      <td>[8, 10]</td>\n",
       "    </tr>\n",
       "    <tr>\n",
       "      <th>619912</th>\n",
       "      <td>The architecture of concurrent programs</td>\n",
       "      <td>Per Brinch Hansen</td>\n",
       "      <td>1977</td>\n",
       "      <td>NaN</td>\n",
       "      <td>619912</td>\n",
       "      <td>240173;322192;327623;332514;335280</td>\n",
       "      <td>From the Preface CONCURRENT PROGRAMMING This b...</td>\n",
       "      <td>[22]</td>\n",
       "    </tr>\n",
       "  </tbody>\n",
       "</table>\n",
       "</div>"
      ],
      "text/plain": [
       "                                          title            authors  year  \\\n",
       "588028   201 principles of software development      Alan M. Davis  1995   \n",
       "619912  The architecture of concurrent programs  Per Brinch Hansen  1977   \n",
       "\n",
       "       venue   index                           citations  \\\n",
       "588028   NaN  588028         164122;206639;510740;520097   \n",
       "619912   NaN  619912  240173;322192;327623;332514;335280   \n",
       "\n",
       "                                                 abstract categories  \n",
       "588028  From the Preface If software engineering is re...    [8, 10]  \n",
       "619912  From the Preface CONCURRENT PROGRAMMING This b...       [22]  "
      ]
     },
     "execution_count": 165,
     "metadata": {},
     "output_type": "execute_result"
    }
   ],
   "source": [
    "df[df['citations'].notnull() & df['venue'].isnull()]"
   ]
  },
  {
   "cell_type": "markdown",
   "metadata": {},
   "source": [
    "This suggests that every paper with citations in the dataset also has venue information (except for two papers).\n",
    "\n",
    "\n",
    "This is logical because academic papers that cite other works are typically formal publications (e.g., journal articles, conference papers), and formal publications almost always have venue details. Papers without venue details might be drafts, unpublished works, or non-traditional outputs that don't cite other papers in the dataset."
   ]
  },
  {
   "cell_type": "markdown",
   "metadata": {},
   "source": [
    "---"
   ]
  },
  {
   "cell_type": "markdown",
   "metadata": {},
   "source": [
    "#### 1.2 Encoding"
   ]
  },
  {
   "cell_type": "markdown",
   "metadata": {},
   "source": [
    "One-hot encoded category feature"
   ]
  },
  {
   "cell_type": "code",
   "execution_count": 166,
   "metadata": {},
   "outputs": [],
   "source": [
    "categories_flat = [category for sublist in df['categories'] for category in sublist]\n",
    "unique_categories = sorted(set(categories_flat))\n",
    "\n",
    "for category in unique_categories:\n",
    "    df[f'category_{category}'] = df['categories'].apply(lambda x: 1 if category in x else 0)"
   ]
  },
  {
   "cell_type": "code",
   "execution_count": 167,
   "metadata": {},
   "outputs": [
    {
     "data": {
      "text/plain": [
       "0                                  Hoon Hong,Dongming Wang\n",
       "1                                        Charles J. Brooks\n",
       "2                          Ahmed E. Hassan,Parminder Flora\n",
       "3                           Darrel Creacy,Carlito Vicencio\n",
       "4                               Neil Daswani,Anita Kesavan\n",
       "                                ...                       \n",
       "629809                                                 NaN\n",
       "629810                                                 NaN\n",
       "629811             Manolis Perakakis,Alexandros Potamianos\n",
       "629812                                          V. K. Jain\n",
       "629813    Maryam Shokri,Hamid R. Tizhoosh,Mohamed S. Kamel\n",
       "Name: authors, Length: 629814, dtype: object"
      ]
     },
     "execution_count": 167,
     "metadata": {},
     "output_type": "execute_result"
    }
   ],
   "source": [
    "(df['authors'])"
   ]
  },
  {
   "cell_type": "code",
   "execution_count": 168,
   "metadata": {},
   "outputs": [],
   "source": [
    "# fillna with '' for authors\n",
    "df['authors'] = df['authors'].fillna('')\n",
    "\n",
    "# give the rows which have empty authors\n",
    "df['authors_list'] = df['authors'].apply(lambda x: [author.strip() for author in x.split(\",\")])\n",
    "\n",
    "# Step 2: Check for empty authors\n",
    "empty_authors_df = df[df['authors_list'].apply(lambda x: any(not author for author in x))]"
   ]
  },
  {
   "cell_type": "markdown",
   "metadata": {},
   "source": [
    "This shows that only 290 papers without author had citations"
   ]
  },
  {
   "cell_type": "code",
   "execution_count": 169,
   "metadata": {},
   "outputs": [
    {
     "data": {
      "text/plain": [
       "(290, 44)"
      ]
     },
     "execution_count": 169,
     "metadata": {},
     "output_type": "execute_result"
    }
   ],
   "source": [
    "empty_authors_df[empty_authors_df['citations'].notnull()].shape"
   ]
  },
  {
   "cell_type": "code",
   "execution_count": 170,
   "metadata": {},
   "outputs": [],
   "source": [
    "# sort df by year\n",
    "df = df.sort_values(by='year', ascending=True)"
   ]
  },
  {
   "cell_type": "code",
   "execution_count": 171,
   "metadata": {},
   "outputs": [
    {
     "data": {
      "text/plain": [
       "0"
      ]
     },
     "execution_count": 171,
     "metadata": {},
     "output_type": "execute_result"
    }
   ],
   "source": [
    "len(df[df['year'] == '-1'])"
   ]
  },
  {
   "cell_type": "code",
   "execution_count": 172,
   "metadata": {},
   "outputs": [
    {
     "data": {
      "text/plain": [
       "25916"
      ]
     },
     "execution_count": 172,
     "metadata": {},
     "output_type": "execute_result"
    }
   ],
   "source": [
    "# check for empty authors\n",
    "len(df[df['authors'] == ''])"
   ]
  },
  {
   "cell_type": "code",
   "execution_count": 173,
   "metadata": {},
   "outputs": [
    {
     "data": {
      "text/plain": [
       "98594"
      ]
     },
     "execution_count": 173,
     "metadata": {},
     "output_type": "execute_result"
    }
   ],
   "source": [
    "len(df[df['venue'].isnull()])"
   ]
  },
  {
   "cell_type": "code",
   "execution_count": 174,
   "metadata": {},
   "outputs": [
    {
     "data": {
      "text/html": [
       "<div>\n",
       "<style scoped>\n",
       "    .dataframe tbody tr th:only-of-type {\n",
       "        vertical-align: middle;\n",
       "    }\n",
       "\n",
       "    .dataframe tbody tr th {\n",
       "        vertical-align: top;\n",
       "    }\n",
       "\n",
       "    .dataframe thead th {\n",
       "        text-align: right;\n",
       "    }\n",
       "</style>\n",
       "<table border=\"1\" class=\"dataframe\">\n",
       "  <thead>\n",
       "    <tr style=\"text-align: right;\">\n",
       "      <th></th>\n",
       "      <th>title</th>\n",
       "      <th>authors</th>\n",
       "      <th>year</th>\n",
       "      <th>venue</th>\n",
       "      <th>index</th>\n",
       "      <th>citations</th>\n",
       "      <th>abstract</th>\n",
       "      <th>categories</th>\n",
       "      <th>category_0</th>\n",
       "      <th>category_1</th>\n",
       "      <th>...</th>\n",
       "      <th>category_26</th>\n",
       "      <th>category_27</th>\n",
       "      <th>category_28</th>\n",
       "      <th>category_29</th>\n",
       "      <th>category_30</th>\n",
       "      <th>category_31</th>\n",
       "      <th>category_32</th>\n",
       "      <th>category_33</th>\n",
       "      <th>category_34</th>\n",
       "      <th>authors_list</th>\n",
       "    </tr>\n",
       "  </thead>\n",
       "  <tbody>\n",
       "  </tbody>\n",
       "</table>\n",
       "<p>0 rows × 44 columns</p>\n",
       "</div>"
      ],
      "text/plain": [
       "Empty DataFrame\n",
       "Columns: [title, authors, year, venue, index, citations, abstract, categories, category_0, category_1, category_2, category_3, category_4, category_5, category_6, category_7, category_8, category_9, category_10, category_11, category_12, category_13, category_14, category_15, category_16, category_17, category_18, category_19, category_20, category_21, category_22, category_23, category_24, category_25, category_26, category_27, category_28, category_29, category_30, category_31, category_32, category_33, category_34, authors_list]\n",
       "Index: []\n",
       "\n",
       "[0 rows x 44 columns]"
      ]
     },
     "execution_count": 174,
     "metadata": {},
     "output_type": "execute_result"
    }
   ],
   "source": [
    "df[df['title'].isnull()]"
   ]
  },
  {
   "cell_type": "code",
   "execution_count": 175,
   "metadata": {},
   "outputs": [
    {
     "data": {
      "text/plain": [
       "title                0\n",
       "authors              0\n",
       "year                 0\n",
       "venue            98594\n",
       "index                0\n",
       "citations       504442\n",
       "abstract        348734\n",
       "categories           0\n",
       "category_0           0\n",
       "category_1           0\n",
       "category_2           0\n",
       "category_3           0\n",
       "category_4           0\n",
       "category_5           0\n",
       "category_6           0\n",
       "category_7           0\n",
       "category_8           0\n",
       "category_9           0\n",
       "category_10          0\n",
       "category_11          0\n",
       "category_12          0\n",
       "category_13          0\n",
       "category_14          0\n",
       "category_15          0\n",
       "category_16          0\n",
       "category_17          0\n",
       "category_18          0\n",
       "category_19          0\n",
       "category_20          0\n",
       "category_21          0\n",
       "category_22          0\n",
       "category_23          0\n",
       "category_24          0\n",
       "category_25          0\n",
       "category_26          0\n",
       "category_27          0\n",
       "category_28          0\n",
       "category_29          0\n",
       "category_30          0\n",
       "category_31          0\n",
       "category_32          0\n",
       "category_33          0\n",
       "category_34          0\n",
       "authors_list         0\n",
       "dtype: int64"
      ]
     },
     "execution_count": 175,
     "metadata": {},
     "output_type": "execute_result"
    }
   ],
   "source": [
    "# check for nan \n",
    "df.isna().sum()"
   ]
  },
  {
   "cell_type": "code",
   "execution_count": 176,
   "metadata": {},
   "outputs": [],
   "source": [
    "# extract the index of each of the paper with no year\n",
    "papers_without_year_index = df[df['year'] == '-1']['index'].tolist()\n",
    "# iterate through the papers without year and extract the number of papers which cite them and save in a dataframe\n",
    "papers_without_year_citations = []\n",
    "for index in papers_without_year_index:\n",
    "    papers_without_year_citations.append(df[df['citations'].notnull() & df['citations'].str.contains(index)].shape[0])\n",
    "\n",
    "papers_without_year_citations_df = pd.DataFrame({'index': papers_without_year_index, 'citations': papers_without_year_citations})"
   ]
  },
  {
   "cell_type": "code",
   "execution_count": 177,
   "metadata": {},
   "outputs": [
    {
     "data": {
      "text/html": [
       "<div>\n",
       "<style scoped>\n",
       "    .dataframe tbody tr th:only-of-type {\n",
       "        vertical-align: middle;\n",
       "    }\n",
       "\n",
       "    .dataframe tbody tr th {\n",
       "        vertical-align: top;\n",
       "    }\n",
       "\n",
       "    .dataframe thead th {\n",
       "        text-align: right;\n",
       "    }\n",
       "</style>\n",
       "<table border=\"1\" class=\"dataframe\">\n",
       "  <thead>\n",
       "    <tr style=\"text-align: right;\">\n",
       "      <th></th>\n",
       "      <th>index</th>\n",
       "      <th>citations</th>\n",
       "    </tr>\n",
       "  </thead>\n",
       "  <tbody>\n",
       "  </tbody>\n",
       "</table>\n",
       "</div>"
      ],
      "text/plain": [
       "Empty DataFrame\n",
       "Columns: [index, citations]\n",
       "Index: []"
      ]
     },
     "execution_count": 177,
     "metadata": {},
     "output_type": "execute_result"
    }
   ],
   "source": [
    "papers_without_year_citations_df"
   ]
  },
  {
   "cell_type": "code",
   "execution_count": 178,
   "metadata": {},
   "outputs": [],
   "source": [
    "type(df['year'][10])\n",
    "# transfom the year column to int\n",
    "df['year'] = df['year'].apply(lambda x: int(x) if x != '-1' else -1)"
   ]
  },
  {
   "cell_type": "code",
   "execution_count": 179,
   "metadata": {},
   "outputs": [],
   "source": [
    "def display_for_index(index, ls_columns=None):\n",
    "    if ls_columns:\n",
    "        display(df[df['index'] == index][ls_columns])\n",
    "    else:\n",
    "        display(df[df['index'] == index])"
   ]
  },
  {
   "cell_type": "code",
   "execution_count": 180,
   "metadata": {},
   "outputs": [
    {
     "data": {
      "text/html": [
       "<div>\n",
       "<style scoped>\n",
       "    .dataframe tbody tr th:only-of-type {\n",
       "        vertical-align: middle;\n",
       "    }\n",
       "\n",
       "    .dataframe tbody tr th {\n",
       "        vertical-align: top;\n",
       "    }\n",
       "\n",
       "    .dataframe thead th {\n",
       "        text-align: right;\n",
       "    }\n",
       "</style>\n",
       "<table border=\"1\" class=\"dataframe\">\n",
       "  <thead>\n",
       "    <tr style=\"text-align: right;\">\n",
       "      <th></th>\n",
       "      <th>title</th>\n",
       "      <th>authors</th>\n",
       "      <th>year</th>\n",
       "      <th>venue</th>\n",
       "      <th>index</th>\n",
       "      <th>citations</th>\n",
       "      <th>abstract</th>\n",
       "      <th>categories</th>\n",
       "      <th>category_0</th>\n",
       "      <th>category_1</th>\n",
       "      <th>...</th>\n",
       "      <th>category_26</th>\n",
       "      <th>category_27</th>\n",
       "      <th>category_28</th>\n",
       "      <th>category_29</th>\n",
       "      <th>category_30</th>\n",
       "      <th>category_31</th>\n",
       "      <th>category_32</th>\n",
       "      <th>category_33</th>\n",
       "      <th>category_34</th>\n",
       "      <th>authors_list</th>\n",
       "    </tr>\n",
       "  </thead>\n",
       "  <tbody>\n",
       "    <tr>\n",
       "      <th>3640</th>\n",
       "      <td>Digital Reference</td>\n",
       "      <td>Linda Berube</td>\n",
       "      <td>-1</td>\n",
       "      <td>NaN</td>\n",
       "      <td>3640</td>\n",
       "      <td>NaN</td>\n",
       "      <td>NaN</td>\n",
       "      <td>[15]</td>\n",
       "      <td>0</td>\n",
       "      <td>0</td>\n",
       "      <td>...</td>\n",
       "      <td>0</td>\n",
       "      <td>0</td>\n",
       "      <td>0</td>\n",
       "      <td>0</td>\n",
       "      <td>0</td>\n",
       "      <td>0</td>\n",
       "      <td>0</td>\n",
       "      <td>0</td>\n",
       "      <td>0</td>\n",
       "      <td>[Linda Berube]</td>\n",
       "    </tr>\n",
       "  </tbody>\n",
       "</table>\n",
       "<p>1 rows × 44 columns</p>\n",
       "</div>"
      ],
      "text/plain": [
       "                  title       authors  year venue index citations abstract  \\\n",
       "3640  Digital Reference  Linda Berube    -1   NaN  3640       NaN      NaN   \n",
       "\n",
       "     categories  category_0  category_1  ...  category_26  category_27  \\\n",
       "3640       [15]           0           0  ...            0            0   \n",
       "\n",
       "      category_28  category_29  category_30  category_31  category_32  \\\n",
       "3640            0            0            0            0            0   \n",
       "\n",
       "      category_33  category_34    authors_list  \n",
       "3640            0            0  [Linda Berube]  \n",
       "\n",
       "[1 rows x 44 columns]"
      ]
     },
     "metadata": {},
     "output_type": "display_data"
    },
    {
     "data": {
      "text/html": [
       "<div>\n",
       "<style scoped>\n",
       "    .dataframe tbody tr th:only-of-type {\n",
       "        vertical-align: middle;\n",
       "    }\n",
       "\n",
       "    .dataframe tbody tr th {\n",
       "        vertical-align: top;\n",
       "    }\n",
       "\n",
       "    .dataframe thead th {\n",
       "        text-align: right;\n",
       "    }\n",
       "</style>\n",
       "<table border=\"1\" class=\"dataframe\">\n",
       "  <thead>\n",
       "    <tr style=\"text-align: right;\">\n",
       "      <th></th>\n",
       "      <th>title</th>\n",
       "      <th>authors</th>\n",
       "      <th>year</th>\n",
       "      <th>venue</th>\n",
       "      <th>index</th>\n",
       "      <th>citations</th>\n",
       "      <th>abstract</th>\n",
       "      <th>categories</th>\n",
       "      <th>category_0</th>\n",
       "      <th>category_1</th>\n",
       "      <th>...</th>\n",
       "      <th>category_26</th>\n",
       "      <th>category_27</th>\n",
       "      <th>category_28</th>\n",
       "      <th>category_29</th>\n",
       "      <th>category_30</th>\n",
       "      <th>category_31</th>\n",
       "      <th>category_32</th>\n",
       "      <th>category_33</th>\n",
       "      <th>category_34</th>\n",
       "      <th>authors_list</th>\n",
       "    </tr>\n",
       "  </thead>\n",
       "  <tbody>\n",
       "    <tr>\n",
       "      <th>3640</th>\n",
       "      <td>Digital Reference</td>\n",
       "      <td>Linda Berube</td>\n",
       "      <td>2006</td>\n",
       "      <td>NaN</td>\n",
       "      <td>3640</td>\n",
       "      <td>NaN</td>\n",
       "      <td>NaN</td>\n",
       "      <td>[15]</td>\n",
       "      <td>0</td>\n",
       "      <td>0</td>\n",
       "      <td>...</td>\n",
       "      <td>0</td>\n",
       "      <td>0</td>\n",
       "      <td>0</td>\n",
       "      <td>0</td>\n",
       "      <td>0</td>\n",
       "      <td>0</td>\n",
       "      <td>0</td>\n",
       "      <td>0</td>\n",
       "      <td>0</td>\n",
       "      <td>[Linda Berube]</td>\n",
       "    </tr>\n",
       "  </tbody>\n",
       "</table>\n",
       "<p>1 rows × 44 columns</p>\n",
       "</div>"
      ],
      "text/plain": [
       "                  title       authors  year venue index citations abstract  \\\n",
       "3640  Digital Reference  Linda Berube  2006   NaN  3640       NaN      NaN   \n",
       "\n",
       "     categories  category_0  category_1  ...  category_26  category_27  \\\n",
       "3640       [15]           0           0  ...            0            0   \n",
       "\n",
       "      category_28  category_29  category_30  category_31  category_32  \\\n",
       "3640            0            0            0            0            0   \n",
       "\n",
       "      category_33  category_34    authors_list  \n",
       "3640            0            0  [Linda Berube]  \n",
       "\n",
       "[1 rows x 44 columns]"
      ]
     },
     "metadata": {},
     "output_type": "display_data"
    }
   ],
   "source": [
    "display_for_index('3640')\n",
    "df.loc[df['index'] == '3640', 'year'] = 2006\n",
    "display_for_index('3640')"
   ]
  },
  {
   "cell_type": "code",
   "execution_count": 181,
   "metadata": {},
   "outputs": [
    {
     "data": {
      "text/html": [
       "<div>\n",
       "<style scoped>\n",
       "    .dataframe tbody tr th:only-of-type {\n",
       "        vertical-align: middle;\n",
       "    }\n",
       "\n",
       "    .dataframe tbody tr th {\n",
       "        vertical-align: top;\n",
       "    }\n",
       "\n",
       "    .dataframe thead th {\n",
       "        text-align: right;\n",
       "    }\n",
       "</style>\n",
       "<table border=\"1\" class=\"dataframe\">\n",
       "  <thead>\n",
       "    <tr style=\"text-align: right;\">\n",
       "      <th></th>\n",
       "      <th>title</th>\n",
       "      <th>year</th>\n",
       "    </tr>\n",
       "  </thead>\n",
       "  <tbody>\n",
       "    <tr>\n",
       "      <th>57929</th>\n",
       "      <td>Proceedings of the 15th International Conferen...</td>\n",
       "      <td>-1</td>\n",
       "    </tr>\n",
       "  </tbody>\n",
       "</table>\n",
       "</div>"
      ],
      "text/plain": [
       "                                                   title  year\n",
       "57929  Proceedings of the 15th International Conferen...    -1"
      ]
     },
     "metadata": {},
     "output_type": "display_data"
    },
    {
     "data": {
      "text/html": [
       "<div>\n",
       "<style scoped>\n",
       "    .dataframe tbody tr th:only-of-type {\n",
       "        vertical-align: middle;\n",
       "    }\n",
       "\n",
       "    .dataframe tbody tr th {\n",
       "        vertical-align: top;\n",
       "    }\n",
       "\n",
       "    .dataframe thead th {\n",
       "        text-align: right;\n",
       "    }\n",
       "</style>\n",
       "<table border=\"1\" class=\"dataframe\">\n",
       "  <thead>\n",
       "    <tr style=\"text-align: right;\">\n",
       "      <th></th>\n",
       "      <th>title</th>\n",
       "      <th>authors</th>\n",
       "      <th>year</th>\n",
       "      <th>venue</th>\n",
       "      <th>index</th>\n",
       "      <th>citations</th>\n",
       "      <th>abstract</th>\n",
       "      <th>categories</th>\n",
       "      <th>category_0</th>\n",
       "      <th>category_1</th>\n",
       "      <th>...</th>\n",
       "      <th>category_26</th>\n",
       "      <th>category_27</th>\n",
       "      <th>category_28</th>\n",
       "      <th>category_29</th>\n",
       "      <th>category_30</th>\n",
       "      <th>category_31</th>\n",
       "      <th>category_32</th>\n",
       "      <th>category_33</th>\n",
       "      <th>category_34</th>\n",
       "      <th>authors_list</th>\n",
       "    </tr>\n",
       "  </thead>\n",
       "  <tbody>\n",
       "    <tr>\n",
       "      <th>57929</th>\n",
       "      <td>Proceedings of the 15th International Conferen...</td>\n",
       "      <td></td>\n",
       "      <td>2008</td>\n",
       "      <td>Lecture Notes In Computer Science; Vol. 5374</td>\n",
       "      <td>57929</td>\n",
       "      <td>NaN</td>\n",
       "      <td>NaN</td>\n",
       "      <td>[34]</td>\n",
       "      <td>0</td>\n",
       "      <td>0</td>\n",
       "      <td>...</td>\n",
       "      <td>0</td>\n",
       "      <td>0</td>\n",
       "      <td>0</td>\n",
       "      <td>0</td>\n",
       "      <td>0</td>\n",
       "      <td>0</td>\n",
       "      <td>0</td>\n",
       "      <td>0</td>\n",
       "      <td>1</td>\n",
       "      <td>[]</td>\n",
       "    </tr>\n",
       "  </tbody>\n",
       "</table>\n",
       "<p>1 rows × 44 columns</p>\n",
       "</div>"
      ],
      "text/plain": [
       "                                                   title authors  year  \\\n",
       "57929  Proceedings of the 15th International Conferen...          2008   \n",
       "\n",
       "                                              venue  index citations abstract  \\\n",
       "57929  Lecture Notes In Computer Science; Vol. 5374  57929       NaN      NaN   \n",
       "\n",
       "      categories  category_0  category_1  ...  category_26  category_27  \\\n",
       "57929       [34]           0           0  ...            0            0   \n",
       "\n",
       "       category_28  category_29  category_30  category_31  category_32  \\\n",
       "57929            0            0            0            0            0   \n",
       "\n",
       "       category_33  category_34  authors_list  \n",
       "57929            0            1            []  \n",
       "\n",
       "[1 rows x 44 columns]"
      ]
     },
     "metadata": {},
     "output_type": "display_data"
    }
   ],
   "source": [
    "display_for_index('57929', ['title', 'year'])\n",
    "df.loc[df['index'] == '57929', 'year'] = 2008\n",
    "display_for_index('57929')"
   ]
  },
  {
   "cell_type": "code",
   "execution_count": 182,
   "metadata": {},
   "outputs": [],
   "source": [
    "df.drop(df[df['year'] == -1].index, inplace=True)\n",
    "df.drop(columns=['categories'], inplace=True)"
   ]
  },
  {
   "cell_type": "code",
   "execution_count": 183,
   "metadata": {},
   "outputs": [],
   "source": [
    "df.drop(columns=['authors_list'], inplace=True)\n",
    "df.drop(columns=['authors'], inplace=True)"
   ]
  },
  {
   "cell_type": "code",
   "execution_count": 184,
   "metadata": {},
   "outputs": [],
   "source": [
    "df['venue'] = df['venue'].apply(lambda x: 1 if x else 0)"
   ]
  },
  {
   "cell_type": "code",
   "execution_count": 185,
   "metadata": {},
   "outputs": [],
   "source": [
    "#df.to_pickle('Data/preprocessed_df.pkl')"
   ]
  },
  {
   "cell_type": "code",
   "execution_count": 186,
   "metadata": {},
   "outputs": [
    {
     "data": {
      "text/html": [
       "<div>\n",
       "<style scoped>\n",
       "    .dataframe tbody tr th:only-of-type {\n",
       "        vertical-align: middle;\n",
       "    }\n",
       "\n",
       "    .dataframe tbody tr th {\n",
       "        vertical-align: top;\n",
       "    }\n",
       "\n",
       "    .dataframe thead th {\n",
       "        text-align: right;\n",
       "    }\n",
       "</style>\n",
       "<table border=\"1\" class=\"dataframe\">\n",
       "  <thead>\n",
       "    <tr style=\"text-align: right;\">\n",
       "      <th></th>\n",
       "      <th>title</th>\n",
       "      <th>year</th>\n",
       "      <th>venue</th>\n",
       "      <th>index</th>\n",
       "      <th>citations</th>\n",
       "      <th>abstract</th>\n",
       "      <th>category_0</th>\n",
       "      <th>category_1</th>\n",
       "      <th>category_2</th>\n",
       "      <th>category_3</th>\n",
       "      <th>...</th>\n",
       "      <th>category_25</th>\n",
       "      <th>category_26</th>\n",
       "      <th>category_27</th>\n",
       "      <th>category_28</th>\n",
       "      <th>category_29</th>\n",
       "      <th>category_30</th>\n",
       "      <th>category_31</th>\n",
       "      <th>category_32</th>\n",
       "      <th>category_33</th>\n",
       "      <th>category_34</th>\n",
       "    </tr>\n",
       "  </thead>\n",
       "  <tbody>\n",
       "    <tr>\n",
       "      <th>57929</th>\n",
       "      <td>Proceedings of the 15th International Conferen...</td>\n",
       "      <td>2008</td>\n",
       "      <td>1</td>\n",
       "      <td>57929</td>\n",
       "      <td>NaN</td>\n",
       "      <td>NaN</td>\n",
       "      <td>0</td>\n",
       "      <td>0</td>\n",
       "      <td>0</td>\n",
       "      <td>0</td>\n",
       "      <td>...</td>\n",
       "      <td>0</td>\n",
       "      <td>0</td>\n",
       "      <td>0</td>\n",
       "      <td>0</td>\n",
       "      <td>0</td>\n",
       "      <td>0</td>\n",
       "      <td>0</td>\n",
       "      <td>0</td>\n",
       "      <td>0</td>\n",
       "      <td>1</td>\n",
       "    </tr>\n",
       "    <tr>\n",
       "      <th>3640</th>\n",
       "      <td>Digital Reference</td>\n",
       "      <td>2006</td>\n",
       "      <td>1</td>\n",
       "      <td>3640</td>\n",
       "      <td>NaN</td>\n",
       "      <td>NaN</td>\n",
       "      <td>0</td>\n",
       "      <td>0</td>\n",
       "      <td>0</td>\n",
       "      <td>0</td>\n",
       "      <td>...</td>\n",
       "      <td>0</td>\n",
       "      <td>0</td>\n",
       "      <td>0</td>\n",
       "      <td>0</td>\n",
       "      <td>0</td>\n",
       "      <td>0</td>\n",
       "      <td>0</td>\n",
       "      <td>0</td>\n",
       "      <td>0</td>\n",
       "      <td>0</td>\n",
       "    </tr>\n",
       "    <tr>\n",
       "      <th>447127</th>\n",
       "      <td>Freenet P</td>\n",
       "      <td>1900</td>\n",
       "      <td>1</td>\n",
       "      <td>447127</td>\n",
       "      <td>NaN</td>\n",
       "      <td>NaN</td>\n",
       "      <td>0</td>\n",
       "      <td>0</td>\n",
       "      <td>0</td>\n",
       "      <td>0</td>\n",
       "      <td>...</td>\n",
       "      <td>0</td>\n",
       "      <td>0</td>\n",
       "      <td>0</td>\n",
       "      <td>0</td>\n",
       "      <td>0</td>\n",
       "      <td>0</td>\n",
       "      <td>0</td>\n",
       "      <td>0</td>\n",
       "      <td>0</td>\n",
       "      <td>1</td>\n",
       "    </tr>\n",
       "    <tr>\n",
       "      <th>192455</th>\n",
       "      <td>A linear algebraic theory of complexes</td>\n",
       "      <td>1941</td>\n",
       "      <td>1</td>\n",
       "      <td>192455</td>\n",
       "      <td>NaN</td>\n",
       "      <td>NaN</td>\n",
       "      <td>0</td>\n",
       "      <td>0</td>\n",
       "      <td>0</td>\n",
       "      <td>0</td>\n",
       "      <td>...</td>\n",
       "      <td>0</td>\n",
       "      <td>0</td>\n",
       "      <td>0</td>\n",
       "      <td>0</td>\n",
       "      <td>0</td>\n",
       "      <td>0</td>\n",
       "      <td>0</td>\n",
       "      <td>0</td>\n",
       "      <td>0</td>\n",
       "      <td>0</td>\n",
       "    </tr>\n",
       "    <tr>\n",
       "      <th>185904</th>\n",
       "      <td>The embedding of products and joins of complex...</td>\n",
       "      <td>1947</td>\n",
       "      <td>1</td>\n",
       "      <td>185904</td>\n",
       "      <td>NaN</td>\n",
       "      <td>NaN</td>\n",
       "      <td>0</td>\n",
       "      <td>0</td>\n",
       "      <td>0</td>\n",
       "      <td>0</td>\n",
       "      <td>...</td>\n",
       "      <td>0</td>\n",
       "      <td>0</td>\n",
       "      <td>0</td>\n",
       "      <td>0</td>\n",
       "      <td>0</td>\n",
       "      <td>0</td>\n",
       "      <td>0</td>\n",
       "      <td>0</td>\n",
       "      <td>0</td>\n",
       "      <td>1</td>\n",
       "    </tr>\n",
       "  </tbody>\n",
       "</table>\n",
       "<p>5 rows × 41 columns</p>\n",
       "</div>"
      ],
      "text/plain": [
       "                                                    title  year  venue  \\\n",
       "57929   Proceedings of the 15th International Conferen...  2008      1   \n",
       "3640                                    Digital Reference  2006      1   \n",
       "447127                                          Freenet P  1900      1   \n",
       "192455             A linear algebraic theory of complexes  1941      1   \n",
       "185904  The embedding of products and joins of complex...  1947      1   \n",
       "\n",
       "         index citations abstract  category_0  category_1  category_2  \\\n",
       "57929    57929       NaN      NaN           0           0           0   \n",
       "3640      3640       NaN      NaN           0           0           0   \n",
       "447127  447127       NaN      NaN           0           0           0   \n",
       "192455  192455       NaN      NaN           0           0           0   \n",
       "185904  185904       NaN      NaN           0           0           0   \n",
       "\n",
       "        category_3  ...  category_25  category_26  category_27  category_28  \\\n",
       "57929            0  ...            0            0            0            0   \n",
       "3640             0  ...            0            0            0            0   \n",
       "447127           0  ...            0            0            0            0   \n",
       "192455           0  ...            0            0            0            0   \n",
       "185904           0  ...            0            0            0            0   \n",
       "\n",
       "        category_29  category_30  category_31  category_32  category_33  \\\n",
       "57929             0            0            0            0            0   \n",
       "3640              0            0            0            0            0   \n",
       "447127            0            0            0            0            0   \n",
       "192455            0            0            0            0            0   \n",
       "185904            0            0            0            0            0   \n",
       "\n",
       "        category_34  \n",
       "57929             1  \n",
       "3640              0  \n",
       "447127            1  \n",
       "192455            0  \n",
       "185904            1  \n",
       "\n",
       "[5 rows x 41 columns]"
      ]
     },
     "metadata": {},
     "output_type": "display_data"
    },
    {
     "data": {
      "text/plain": [
       "(None, (629807, 41))"
      ]
     },
     "execution_count": 186,
     "metadata": {},
     "output_type": "execute_result"
    }
   ],
   "source": [
    "display(df.head(5)), df.shape"
   ]
  },
  {
   "cell_type": "markdown",
   "metadata": {},
   "source": [
    "\n",
    "### 2. **Generate Citation Pairs**\n",
    "Create positive and negative pairs for training and testing.\n",
    "create a dataset of `(paper_a, paper_b, label)` where `label = 1` if `paper_a` cites `paper_b` and `0` otherwise."
   ]
  },
  {
   "cell_type": "code",
   "execution_count": 187,
   "metadata": {},
   "outputs": [],
   "source": [
    "# fill all the nan values with 0\n",
    "df.fillna('', inplace=True)"
   ]
  },
  {
   "cell_type": "code",
   "execution_count": 188,
   "metadata": {},
   "outputs": [
    {
     "name": "stdout",
     "output_type": "stream",
     "text": [
      "Training set: 503845 papers, 100297 citations\n",
      "Testing set: 125962 papers, 25075 citations\n",
      "Training pairs: 100000 (Positive: 50000, Negative: 50000)\n",
      "Testing pairs: 20000 (Positive: 10000, Negative: 10000)\n"
     ]
    }
   ],
   "source": [
    "import pandas as pd\n",
    "import random\n",
    "from sklearn.model_selection import train_test_split\n",
    "\n",
    "# Split the data by paper indices, ensuring balanced class distribution (stratify)\n",
    "def split_data_balanced(df, test_size=0.2):\n",
    "    # Create a label column for stratification (0 = no citations, 1 = citations)\n",
    "    df['label'] = df['citations'].apply(lambda x: 1 if pd.notna(x) and x != '' else 0)\n",
    "\n",
    "    # Split the dataset while maintaining the class distribution (stratify by 'label')\n",
    "    train_df, test_df = train_test_split(df, test_size=test_size, stratify=df['label'], random_state=55)\n",
    "    \n",
    "    return train_df, test_df\n",
    "\n",
    "# Optimized function to create positive pairs\n",
    "def create_positive_pairs(df, max_positive):\n",
    "    pairs = []\n",
    "    indices_set = set(df['index'].values)\n",
    "\n",
    "    for _, row in df.iterrows():\n",
    "        if len(pairs) >= max_positive:\n",
    "            break\n",
    "        citing_paper = row['index']\n",
    "        cited_papers = row['citations'].split(';') if row['citations'] else []\n",
    "        valid_cited_papers = [cited for cited in cited_papers if cited in indices_set]\n",
    "        \n",
    "        for cited in valid_cited_papers:\n",
    "            if len(pairs) >= max_positive:\n",
    "                break\n",
    "            pairs.append((citing_paper, cited, 1))\n",
    "\n",
    "    return pairs\n",
    "\n",
    "# Optimized function to create negative pairs\n",
    "def create_negative_pairs(df, max_negative, num_negatives=2):\n",
    "    pairs = []\n",
    "    indices = df['index'].tolist()\n",
    "    indices_set = set(indices)\n",
    "    \n",
    "    while len(pairs) < max_negative:\n",
    "        citing_paper = random.choice(indices)\n",
    "        negative_samples = random.sample(indices, num_negatives)\n",
    "        \n",
    "        for neg in negative_samples:\n",
    "            if len(pairs) >= max_negative:\n",
    "                break\n",
    "            if neg != citing_paper and neg in indices_set:\n",
    "                pairs.append((citing_paper, neg, 0))\n",
    "    \n",
    "    return pairs\n",
    "\n",
    "# Parameters\n",
    "max_pairs_train = 100000\n",
    "max_positive_train = max_pairs_train // 2\n",
    "max_negative_train = max_pairs_train - max_positive_train\n",
    "\n",
    "max_pairs_test = 20000\n",
    "max_positive_test = max_pairs_test // 2\n",
    "max_negative_test = max_pairs_test - max_positive_test\n",
    "# Example dataset split with balanced classes in train and test sets\n",
    "train_df, test_df = split_data_balanced(df, test_size=0.2)\n",
    "print(f\"Training set: {len(train_df)} papers, {train_df['label'].sum()} citations\")\n",
    "print(f\"Testing set: {len(test_df)} papers, {test_df['label'].sum()} citations\")\n",
    "# Generate positive and negative pairs for training, ensuring only training papers are used\n",
    "train_positive_pairs = create_positive_pairs(train_df, max_positive_train)\n",
    "train_negative_pairs = create_negative_pairs(train_df, max_negative_train, num_negatives=2)\n",
    "train_pairs = train_positive_pairs + train_negative_pairs\n",
    "random.shuffle(train_pairs)\n",
    "\n",
    "# Generate positive and negative pairs for testing, ensuring only test papers are used\n",
    "test_positive_pairs = create_positive_pairs(test_df, max_positive_test)\n",
    "test_negative_pairs = create_negative_pairs(test_df, max_negative_test, num_negatives=2)\n",
    "test_pairs = test_positive_pairs + test_negative_pairs\n",
    "random.shuffle(test_pairs)\n",
    "\n",
    "# Convert to DataFrames\n",
    "train_pairs_df = pd.DataFrame(train_pairs, columns=['paper_a', 'paper_b', 'label'])\n",
    "test_pairs_df = pd.DataFrame(test_pairs, columns=['paper_a', 'paper_b', 'label'])\n",
    "\n",
    "# Check distribution\n",
    "print(f\"Training pairs: {len(train_pairs_df)} (Positive: {len([p for p in train_pairs if p[2] == 1])}, Negative: {len([p for p in train_pairs if p[2] == 0])})\")\n",
    "print(f\"Testing pairs: {len(test_pairs_df)} (Positive: {len([p for p in test_pairs if p[2] == 1])}, Negative: {len([p for p in test_pairs if p[2] == 0])})\")"
   ]
  },
  {
   "cell_type": "markdown",
   "metadata": {},
   "source": [
    "This procedure first divides the dataset of paper indices into training and testing sets while maintaining a balanced class distribution based on whether papers have citations. After splitting, it uses these sets to create labeled pairs of papers: positive pairs (where one paper cites the other) and negative pairs (randomly paired papers without citation). This ensures the pairs are generated separately for training and testing, preserving data integrity."
   ]
  },
  {
   "cell_type": "code",
   "execution_count": 189,
   "metadata": {},
   "outputs": [
    {
     "data": {
      "text/html": [
       "<div>\n",
       "<style scoped>\n",
       "    .dataframe tbody tr th:only-of-type {\n",
       "        vertical-align: middle;\n",
       "    }\n",
       "\n",
       "    .dataframe tbody tr th {\n",
       "        vertical-align: top;\n",
       "    }\n",
       "\n",
       "    .dataframe thead th {\n",
       "        text-align: right;\n",
       "    }\n",
       "</style>\n",
       "<table border=\"1\" class=\"dataframe\">\n",
       "  <thead>\n",
       "    <tr style=\"text-align: right;\">\n",
       "      <th></th>\n",
       "      <th>paper_a</th>\n",
       "      <th>paper_b</th>\n",
       "      <th>label</th>\n",
       "    </tr>\n",
       "  </thead>\n",
       "  <tbody>\n",
       "    <tr>\n",
       "      <th>0</th>\n",
       "      <td>563462</td>\n",
       "      <td>311306</td>\n",
       "      <td>0</td>\n",
       "    </tr>\n",
       "    <tr>\n",
       "      <th>1</th>\n",
       "      <td>24</td>\n",
       "      <td>8161</td>\n",
       "      <td>0</td>\n",
       "    </tr>\n",
       "    <tr>\n",
       "      <th>2</th>\n",
       "      <td>138062</td>\n",
       "      <td>363780</td>\n",
       "      <td>0</td>\n",
       "    </tr>\n",
       "    <tr>\n",
       "      <th>3</th>\n",
       "      <td>469118</td>\n",
       "      <td>471134</td>\n",
       "      <td>0</td>\n",
       "    </tr>\n",
       "    <tr>\n",
       "      <th>4</th>\n",
       "      <td>354667</td>\n",
       "      <td>378469</td>\n",
       "      <td>0</td>\n",
       "    </tr>\n",
       "    <tr>\n",
       "      <th>...</th>\n",
       "      <td>...</td>\n",
       "      <td>...</td>\n",
       "      <td>...</td>\n",
       "    </tr>\n",
       "    <tr>\n",
       "      <th>99995</th>\n",
       "      <td>291220</td>\n",
       "      <td>350353</td>\n",
       "      <td>0</td>\n",
       "    </tr>\n",
       "    <tr>\n",
       "      <th>99996</th>\n",
       "      <td>87107</td>\n",
       "      <td>584454</td>\n",
       "      <td>1</td>\n",
       "    </tr>\n",
       "    <tr>\n",
       "      <th>99997</th>\n",
       "      <td>25859</td>\n",
       "      <td>325328</td>\n",
       "      <td>0</td>\n",
       "    </tr>\n",
       "    <tr>\n",
       "      <th>99998</th>\n",
       "      <td>497040</td>\n",
       "      <td>446168</td>\n",
       "      <td>1</td>\n",
       "    </tr>\n",
       "    <tr>\n",
       "      <th>99999</th>\n",
       "      <td>140436</td>\n",
       "      <td>434758</td>\n",
       "      <td>1</td>\n",
       "    </tr>\n",
       "  </tbody>\n",
       "</table>\n",
       "<p>100000 rows × 3 columns</p>\n",
       "</div>"
      ],
      "text/plain": [
       "      paper_a paper_b  label\n",
       "0      563462  311306      0\n",
       "1          24    8161      0\n",
       "2      138062  363780      0\n",
       "3      469118  471134      0\n",
       "4      354667  378469      0\n",
       "...       ...     ...    ...\n",
       "99995  291220  350353      0\n",
       "99996   87107  584454      1\n",
       "99997   25859  325328      0\n",
       "99998  497040  446168      1\n",
       "99999  140436  434758      1\n",
       "\n",
       "[100000 rows x 3 columns]"
      ]
     },
     "execution_count": 189,
     "metadata": {},
     "output_type": "execute_result"
    }
   ],
   "source": [
    "train_pairs_df"
   ]
  },
  {
   "cell_type": "code",
   "execution_count": 190,
   "metadata": {},
   "outputs": [
    {
     "data": {
      "text/html": [
       "<div>\n",
       "<style scoped>\n",
       "    .dataframe tbody tr th:only-of-type {\n",
       "        vertical-align: middle;\n",
       "    }\n",
       "\n",
       "    .dataframe tbody tr th {\n",
       "        vertical-align: top;\n",
       "    }\n",
       "\n",
       "    .dataframe thead th {\n",
       "        text-align: right;\n",
       "    }\n",
       "</style>\n",
       "<table border=\"1\" class=\"dataframe\">\n",
       "  <thead>\n",
       "    <tr style=\"text-align: right;\">\n",
       "      <th></th>\n",
       "      <th>paper_a</th>\n",
       "      <th>paper_b</th>\n",
       "      <th>label</th>\n",
       "    </tr>\n",
       "  </thead>\n",
       "  <tbody>\n",
       "    <tr>\n",
       "      <th>0</th>\n",
       "      <td>413734</td>\n",
       "      <td>624808</td>\n",
       "      <td>1</td>\n",
       "    </tr>\n",
       "    <tr>\n",
       "      <th>1</th>\n",
       "      <td>451321</td>\n",
       "      <td>485424</td>\n",
       "      <td>0</td>\n",
       "    </tr>\n",
       "    <tr>\n",
       "      <th>2</th>\n",
       "      <td>84022</td>\n",
       "      <td>108333</td>\n",
       "      <td>0</td>\n",
       "    </tr>\n",
       "    <tr>\n",
       "      <th>3</th>\n",
       "      <td>300514</td>\n",
       "      <td>530093</td>\n",
       "      <td>1</td>\n",
       "    </tr>\n",
       "    <tr>\n",
       "      <th>4</th>\n",
       "      <td>76997</td>\n",
       "      <td>374102</td>\n",
       "      <td>1</td>\n",
       "    </tr>\n",
       "    <tr>\n",
       "      <th>...</th>\n",
       "      <td>...</td>\n",
       "      <td>...</td>\n",
       "      <td>...</td>\n",
       "    </tr>\n",
       "    <tr>\n",
       "      <th>19995</th>\n",
       "      <td>461019</td>\n",
       "      <td>181031</td>\n",
       "      <td>1</td>\n",
       "    </tr>\n",
       "    <tr>\n",
       "      <th>19996</th>\n",
       "      <td>345364</td>\n",
       "      <td>620780</td>\n",
       "      <td>1</td>\n",
       "    </tr>\n",
       "    <tr>\n",
       "      <th>19997</th>\n",
       "      <td>381284</td>\n",
       "      <td>39594</td>\n",
       "      <td>0</td>\n",
       "    </tr>\n",
       "    <tr>\n",
       "      <th>19998</th>\n",
       "      <td>550416</td>\n",
       "      <td>320912</td>\n",
       "      <td>1</td>\n",
       "    </tr>\n",
       "    <tr>\n",
       "      <th>19999</th>\n",
       "      <td>482138</td>\n",
       "      <td>225111</td>\n",
       "      <td>0</td>\n",
       "    </tr>\n",
       "  </tbody>\n",
       "</table>\n",
       "<p>20000 rows × 3 columns</p>\n",
       "</div>"
      ],
      "text/plain": [
       "      paper_a paper_b  label\n",
       "0      413734  624808      1\n",
       "1      451321  485424      0\n",
       "2       84022  108333      0\n",
       "3      300514  530093      1\n",
       "4       76997  374102      1\n",
       "...       ...     ...    ...\n",
       "19995  461019  181031      1\n",
       "19996  345364  620780      1\n",
       "19997  381284   39594      0\n",
       "19998  550416  320912      1\n",
       "19999  482138  225111      0\n",
       "\n",
       "[20000 rows x 3 columns]"
      ]
     },
     "execution_count": 190,
     "metadata": {},
     "output_type": "execute_result"
    }
   ],
   "source": [
    "test_pairs_df"
   ]
  },
  {
   "cell_type": "code",
   "execution_count": 192,
   "metadata": {},
   "outputs": [],
   "source": [
    "#train_pairs_df.to_pickle('Data/train_pairs_df.pkl')\n",
    "#test_pairs_df.to_pickle('Data/test_pairs_df.pkl')"
   ]
  },
  {
   "cell_type": "code",
   "execution_count": 193,
   "metadata": {},
   "outputs": [],
   "source": [
    "#train_pairs_df = pd.read_pickle('Data/train_pairs_df.pkl')\n",
    "#test_pairs_df = pd.read_pickle('Data/test_pairs_df.pkl')\n",
    "#df = pd.read_pickle('Data/preprocessed_df.pkl')"
   ]
  },
  {
   "cell_type": "markdown",
   "metadata": {},
   "source": [
    "---"
   ]
  },
  {
   "cell_type": "markdown",
   "metadata": {},
   "source": [
    "### 3. **Feature Engineering**\n",
    "\n",
    "For each pair `(paper_a, paper_b)`, generate features:\n"
   ]
  },
  {
   "cell_type": "code",
   "execution_count": 194,
   "metadata": {},
   "outputs": [
    {
     "data": {
      "text/plain": [
       "Index(['title', 'year', 'venue', 'index', 'citations', 'abstract',\n",
       "       'category_0', 'category_1', 'category_2', 'category_3', 'category_4',\n",
       "       'category_5', 'category_6', 'category_7', 'category_8', 'category_9',\n",
       "       'category_10', 'category_11', 'category_12', 'category_13',\n",
       "       'category_14', 'category_15', 'category_16', 'category_17',\n",
       "       'category_18', 'category_19', 'category_20', 'category_21',\n",
       "       'category_22', 'category_23', 'category_24', 'category_25',\n",
       "       'category_26', 'category_27', 'category_28', 'category_29',\n",
       "       'category_30', 'category_31', 'category_32', 'category_33',\n",
       "       'category_34', 'label'],\n",
       "      dtype='object')"
      ]
     },
     "execution_count": 194,
     "metadata": {},
     "output_type": "execute_result"
    }
   ],
   "source": [
    "df.columns"
   ]
  },
  {
   "cell_type": "markdown",
   "metadata": {},
   "source": [
    "prendi n papers tra cui quello da predirre e dai attraverso gli embeddings quale è il più probabile che citi"
   ]
  },
  {
   "cell_type": "code",
   "execution_count": 195,
   "metadata": {},
   "outputs": [],
   "source": [
    "# Merge to get features for paper_a\n",
    "merged_a = train_pairs_df.merge(df, left_on='paper_a', right_on='index', suffixes=('', '_a'))\n",
    "# Merge to get features for paper_b\n",
    "merged_ab = merged_a.merge(df, left_on='paper_b', right_on='index', suffixes=('', '_b'))"
   ]
  },
  {
   "cell_type": "code",
   "execution_count": 196,
   "metadata": {},
   "outputs": [
    {
     "data": {
      "text/plain": [
       "Index(['paper_a', 'paper_b', 'label', 'title', 'year', 'venue', 'index',\n",
       "       'citations', 'abstract', 'category_0', 'category_1', 'category_2',\n",
       "       'category_3', 'category_4', 'category_5', 'category_6', 'category_7',\n",
       "       'category_8', 'category_9', 'category_10', 'category_11', 'category_12',\n",
       "       'category_13', 'category_14', 'category_15', 'category_16',\n",
       "       'category_17', 'category_18', 'category_19', 'category_20',\n",
       "       'category_21', 'category_22', 'category_23', 'category_24',\n",
       "       'category_25', 'category_26', 'category_27', 'category_28',\n",
       "       'category_29', 'category_30', 'category_31', 'category_32',\n",
       "       'category_33', 'category_34', 'label_a'],\n",
       "      dtype='object')"
      ]
     },
     "metadata": {},
     "output_type": "display_data"
    },
    {
     "data": {
      "text/plain": [
       "Index(['paper_a', 'paper_b', 'label', 'title', 'year', 'venue', 'index',\n",
       "       'citations', 'abstract', 'category_0', 'category_1', 'category_2',\n",
       "       'category_3', 'category_4', 'category_5', 'category_6', 'category_7',\n",
       "       'category_8', 'category_9', 'category_10', 'category_11', 'category_12',\n",
       "       'category_13', 'category_14', 'category_15', 'category_16',\n",
       "       'category_17', 'category_18', 'category_19', 'category_20',\n",
       "       'category_21', 'category_22', 'category_23', 'category_24',\n",
       "       'category_25', 'category_26', 'category_27', 'category_28',\n",
       "       'category_29', 'category_30', 'category_31', 'category_32',\n",
       "       'category_33', 'category_34', 'label_a', 'title_b', 'year_b', 'venue_b',\n",
       "       'index_b', 'citations_b', 'abstract_b', 'category_0_b', 'category_1_b',\n",
       "       'category_2_b', 'category_3_b', 'category_4_b', 'category_5_b',\n",
       "       'category_6_b', 'category_7_b', 'category_8_b', 'category_9_b',\n",
       "       'category_10_b', 'category_11_b', 'category_12_b', 'category_13_b',\n",
       "       'category_14_b', 'category_15_b', 'category_16_b', 'category_17_b',\n",
       "       'category_18_b', 'category_19_b', 'category_20_b', 'category_21_b',\n",
       "       'category_22_b', 'category_23_b', 'category_24_b', 'category_25_b',\n",
       "       'category_26_b', 'category_27_b', 'category_28_b', 'category_29_b',\n",
       "       'category_30_b', 'category_31_b', 'category_32_b', 'category_33_b',\n",
       "       'category_34_b', 'label_b'],\n",
       "      dtype='object')"
      ]
     },
     "execution_count": 196,
     "metadata": {},
     "output_type": "execute_result"
    }
   ],
   "source": [
    "display(merged_a.columns)\n",
    "merged_ab.columns"
   ]
  },
  {
   "cell_type": "code",
   "execution_count": 197,
   "metadata": {},
   "outputs": [],
   "source": [
    "from sklearn.feature_extraction.text import TfidfVectorizer\n",
    "from sklearn.metrics.pairwise import cosine_similarity\n",
    "import pandas as pd\n",
    "\n",
    "def prepare_features(pairs_df, df, fit_tfidf=False, tfidf_vectorizer=None):\n",
    "    # Merge pairs_df with df to get features for paper_a\n",
    "    merged_a = pairs_df.merge(df, left_on='paper_a', right_on='index', suffixes=('', '_a'))\n",
    "    merged_ab = merged_a.merge(df, left_on='paper_b', right_on='index', suffixes=('', '_b'))\n",
    "\n",
    "    # Combine the titles for comparison\n",
    "    titles_a = merged_ab['title'].fillna('')  # Handle missing titles in paper_a\n",
    "    titles_b = merged_ab['title_b'].fillna('')  # Handle missing titles in paper_b\n",
    "\n",
    "    if fit_tfidf:\n",
    "        # If fit_tfidf is True, fit the TF-IDF vectorizer on the titles of the training set\n",
    "        tfidf_vectorizer = TfidfVectorizer()\n",
    "        tfidf_vectorizer.fit(titles_a)\n",
    "    \n",
    "    # Transform titles_a and titles_b using the same fitted tfidf_vectorizer\n",
    "    tfidf_matrix_a = tfidf_vectorizer.transform(titles_a)\n",
    "    tfidf_matrix_b = tfidf_vectorizer.transform(titles_b)\n",
    "\n",
    "    # Compute pairwise cosine similarity for aligned pairs\n",
    "    title_similarity = [cosine_similarity(tfidf_matrix_a[i], tfidf_matrix_b[i])[0][0] for i in range(tfidf_matrix_a.shape[0])]\n",
    "\n",
    "    # Assign title similarity scores to the merged DataFrame\n",
    "    merged_ab['title_similarity'] = title_similarity\n",
    "\n",
    "    # Select features for model (same as in the original implementation)\n",
    "    features = merged_ab.drop(columns=['citations', 'citations_b', 'index', 'index_b', 'paper_a', 'paper_b', 'label', 'title', 'title_b', 'abstract', 'abstract_b'])\n",
    "\n",
    "    # Extract labels if they exist in the pairs DataFrame\n",
    "    if 'label' in merged_ab.columns:\n",
    "        labels = merged_ab['label']\n",
    "    else:\n",
    "        labels = None  # For test set or when labels are missing\n",
    "\n",
    "    return features, labels, tfidf_vectorizer, merged_ab\n",
    "\n",
    "# Example usage for train set:\n",
    "train_features, train_labels, tfidf_vectorizer, merged_ab_train = prepare_features(train_pairs_df, df, fit_tfidf=True)\n",
    "\n",
    "# Example usage for test set:\n",
    "test_features, test_labels, _, merged_ab_test = prepare_features(test_pairs_df, df, fit_tfidf=False, tfidf_vectorizer=tfidf_vectorizer)"
   ]
  },
  {
   "cell_type": "code",
   "execution_count": 198,
   "metadata": {},
   "outputs": [
    {
     "data": {
      "text/html": [
       "<div>\n",
       "<style scoped>\n",
       "    .dataframe tbody tr th:only-of-type {\n",
       "        vertical-align: middle;\n",
       "    }\n",
       "\n",
       "    .dataframe tbody tr th {\n",
       "        vertical-align: top;\n",
       "    }\n",
       "\n",
       "    .dataframe thead th {\n",
       "        text-align: right;\n",
       "    }\n",
       "</style>\n",
       "<table border=\"1\" class=\"dataframe\">\n",
       "  <thead>\n",
       "    <tr style=\"text-align: right;\">\n",
       "      <th></th>\n",
       "      <th>year</th>\n",
       "      <th>venue</th>\n",
       "      <th>category_0</th>\n",
       "      <th>category_1</th>\n",
       "      <th>category_2</th>\n",
       "      <th>category_3</th>\n",
       "      <th>category_4</th>\n",
       "      <th>category_5</th>\n",
       "      <th>category_6</th>\n",
       "      <th>category_7</th>\n",
       "      <th>...</th>\n",
       "      <th>category_27_b</th>\n",
       "      <th>category_28_b</th>\n",
       "      <th>category_29_b</th>\n",
       "      <th>category_30_b</th>\n",
       "      <th>category_31_b</th>\n",
       "      <th>category_32_b</th>\n",
       "      <th>category_33_b</th>\n",
       "      <th>category_34_b</th>\n",
       "      <th>label_b</th>\n",
       "      <th>title_similarity</th>\n",
       "    </tr>\n",
       "  </thead>\n",
       "  <tbody>\n",
       "    <tr>\n",
       "      <th>0</th>\n",
       "      <td>2002</td>\n",
       "      <td>1</td>\n",
       "      <td>1</td>\n",
       "      <td>0</td>\n",
       "      <td>0</td>\n",
       "      <td>0</td>\n",
       "      <td>0</td>\n",
       "      <td>1</td>\n",
       "      <td>0</td>\n",
       "      <td>0</td>\n",
       "      <td>...</td>\n",
       "      <td>0</td>\n",
       "      <td>0</td>\n",
       "      <td>0</td>\n",
       "      <td>0</td>\n",
       "      <td>0</td>\n",
       "      <td>0</td>\n",
       "      <td>0</td>\n",
       "      <td>0</td>\n",
       "      <td>1</td>\n",
       "      <td>0.137211</td>\n",
       "    </tr>\n",
       "    <tr>\n",
       "      <th>1</th>\n",
       "      <td>2006</td>\n",
       "      <td>1</td>\n",
       "      <td>0</td>\n",
       "      <td>0</td>\n",
       "      <td>0</td>\n",
       "      <td>0</td>\n",
       "      <td>0</td>\n",
       "      <td>1</td>\n",
       "      <td>0</td>\n",
       "      <td>0</td>\n",
       "      <td>...</td>\n",
       "      <td>0</td>\n",
       "      <td>0</td>\n",
       "      <td>0</td>\n",
       "      <td>0</td>\n",
       "      <td>0</td>\n",
       "      <td>0</td>\n",
       "      <td>0</td>\n",
       "      <td>0</td>\n",
       "      <td>1</td>\n",
       "      <td>0.015544</td>\n",
       "    </tr>\n",
       "    <tr>\n",
       "      <th>2</th>\n",
       "      <td>2009</td>\n",
       "      <td>1</td>\n",
       "      <td>0</td>\n",
       "      <td>0</td>\n",
       "      <td>0</td>\n",
       "      <td>0</td>\n",
       "      <td>0</td>\n",
       "      <td>0</td>\n",
       "      <td>0</td>\n",
       "      <td>0</td>\n",
       "      <td>...</td>\n",
       "      <td>0</td>\n",
       "      <td>0</td>\n",
       "      <td>0</td>\n",
       "      <td>0</td>\n",
       "      <td>0</td>\n",
       "      <td>0</td>\n",
       "      <td>0</td>\n",
       "      <td>0</td>\n",
       "      <td>0</td>\n",
       "      <td>0.000000</td>\n",
       "    </tr>\n",
       "    <tr>\n",
       "      <th>3</th>\n",
       "      <td>1989</td>\n",
       "      <td>1</td>\n",
       "      <td>0</td>\n",
       "      <td>0</td>\n",
       "      <td>0</td>\n",
       "      <td>0</td>\n",
       "      <td>0</td>\n",
       "      <td>0</td>\n",
       "      <td>0</td>\n",
       "      <td>0</td>\n",
       "      <td>...</td>\n",
       "      <td>0</td>\n",
       "      <td>0</td>\n",
       "      <td>0</td>\n",
       "      <td>0</td>\n",
       "      <td>0</td>\n",
       "      <td>0</td>\n",
       "      <td>0</td>\n",
       "      <td>0</td>\n",
       "      <td>0</td>\n",
       "      <td>0.032519</td>\n",
       "    </tr>\n",
       "    <tr>\n",
       "      <th>4</th>\n",
       "      <td>2009</td>\n",
       "      <td>1</td>\n",
       "      <td>0</td>\n",
       "      <td>0</td>\n",
       "      <td>0</td>\n",
       "      <td>0</td>\n",
       "      <td>0</td>\n",
       "      <td>0</td>\n",
       "      <td>0</td>\n",
       "      <td>0</td>\n",
       "      <td>...</td>\n",
       "      <td>0</td>\n",
       "      <td>0</td>\n",
       "      <td>0</td>\n",
       "      <td>0</td>\n",
       "      <td>0</td>\n",
       "      <td>0</td>\n",
       "      <td>0</td>\n",
       "      <td>0</td>\n",
       "      <td>0</td>\n",
       "      <td>0.000000</td>\n",
       "    </tr>\n",
       "  </tbody>\n",
       "</table>\n",
       "<p>5 rows × 77 columns</p>\n",
       "</div>"
      ],
      "text/plain": [
       "   year  venue  category_0  category_1  category_2  category_3  category_4  \\\n",
       "0  2002      1           1           0           0           0           0   \n",
       "1  2006      1           0           0           0           0           0   \n",
       "2  2009      1           0           0           0           0           0   \n",
       "3  1989      1           0           0           0           0           0   \n",
       "4  2009      1           0           0           0           0           0   \n",
       "\n",
       "   category_5  category_6  category_7  ...  category_27_b  category_28_b  \\\n",
       "0           1           0           0  ...              0              0   \n",
       "1           1           0           0  ...              0              0   \n",
       "2           0           0           0  ...              0              0   \n",
       "3           0           0           0  ...              0              0   \n",
       "4           0           0           0  ...              0              0   \n",
       "\n",
       "   category_29_b  category_30_b  category_31_b  category_32_b  category_33_b  \\\n",
       "0              0              0              0              0              0   \n",
       "1              0              0              0              0              0   \n",
       "2              0              0              0              0              0   \n",
       "3              0              0              0              0              0   \n",
       "4              0              0              0              0              0   \n",
       "\n",
       "   category_34_b  label_b  title_similarity  \n",
       "0              0        1          0.137211  \n",
       "1              0        1          0.015544  \n",
       "2              0        0          0.000000  \n",
       "3              0        0          0.032519  \n",
       "4              0        0          0.000000  \n",
       "\n",
       "[5 rows x 77 columns]"
      ]
     },
     "metadata": {},
     "output_type": "display_data"
    },
    {
     "data": {
      "text/plain": [
       "0    0\n",
       "1    0\n",
       "2    0\n",
       "3    0\n",
       "4    0\n",
       "Name: label, dtype: int64"
      ]
     },
     "metadata": {},
     "output_type": "display_data"
    }
   ],
   "source": [
    "display(train_features.head())\n",
    "display(train_labels.head())"
   ]
  },
  {
   "cell_type": "code",
   "execution_count": 199,
   "metadata": {},
   "outputs": [
    {
     "data": {
      "text/plain": [
       "Index(['year', 'venue', 'category_0', 'category_1', 'category_2', 'category_3',\n",
       "       'category_4', 'category_5', 'category_6', 'category_7', 'category_8',\n",
       "       'category_9', 'category_10', 'category_11', 'category_12',\n",
       "       'category_13', 'category_14', 'category_15', 'category_16',\n",
       "       'category_17', 'category_18', 'category_19', 'category_20',\n",
       "       'category_21', 'category_22', 'category_23', 'category_24',\n",
       "       'category_25', 'category_26', 'category_27', 'category_28',\n",
       "       'category_29', 'category_30', 'category_31', 'category_32',\n",
       "       'category_33', 'category_34', 'label_a', 'year_b', 'venue_b',\n",
       "       'category_0_b', 'category_1_b', 'category_2_b', 'category_3_b',\n",
       "       'category_4_b', 'category_5_b', 'category_6_b', 'category_7_b',\n",
       "       'category_8_b', 'category_9_b', 'category_10_b', 'category_11_b',\n",
       "       'category_12_b', 'category_13_b', 'category_14_b', 'category_15_b',\n",
       "       'category_16_b', 'category_17_b', 'category_18_b', 'category_19_b',\n",
       "       'category_20_b', 'category_21_b', 'category_22_b', 'category_23_b',\n",
       "       'category_24_b', 'category_25_b', 'category_26_b', 'category_27_b',\n",
       "       'category_28_b', 'category_29_b', 'category_30_b', 'category_31_b',\n",
       "       'category_32_b', 'category_33_b', 'category_34_b', 'label_b',\n",
       "       'title_similarity'],\n",
       "      dtype='object')"
      ]
     },
     "execution_count": 199,
     "metadata": {},
     "output_type": "execute_result"
    }
   ],
   "source": [
    "train_features.columns"
   ]
  },
  {
   "cell_type": "code",
   "execution_count": 218,
   "metadata": {},
   "outputs": [],
   "source": [
    "#merged_ab_train.to_pickle('Data/train_dataset_title_sim.pkl')\n",
    "#merged_ab_test.to_pickle('Data/test_dataset_title_sim.pkl')\n",
    "train_data = merged_ab_train.copy()\n",
    "test_data = merged_ab_test.copy()"
   ]
  },
  {
   "cell_type": "markdown",
   "metadata": {},
   "source": [
    "`Feature engineering procedure has been done in the other notebooks more in details`"
   ]
  },
  {
   "cell_type": "markdown",
   "metadata": {},
   "source": [
    "### 4. **Prepare Data for Training**"
   ]
  },
  {
   "cell_type": "code",
   "execution_count": 219,
   "metadata": {},
   "outputs": [],
   "source": [
    "from sklearn.preprocessing import StandardScaler\n",
    "\n",
    "#train_data = pd.read_pickle('Data/train_dataset_title_sim.pkl')\n",
    "#test_data = pd.read_pickle('Data/test_dataset_title_sim.pkl')\n",
    "\n",
    "X_train_raw = train_data.drop(columns=['title', 'title_b', 'abstract', 'abstract_b', 'citations', 'citations_b', 'index', 'index_b', 'label'])\n",
    "y_train = train_data['label']\n",
    "X_test_raw = test_data.drop(columns=['title', 'title_b', 'abstract', 'abstract_b', 'citations', 'citations_b', 'index', 'index_b', 'label'])\n",
    "y_test = test_data['label']\n",
    "\n",
    "# Standardize features\n",
    "scaler = StandardScaler()\n",
    "X_train = scaler.fit_transform(X_train_raw)\n",
    "X_test = scaler.transform(X_test_raw)\n",
    "X_train = pd.DataFrame(X_train, columns=X_train_raw.columns)\n",
    "X_test = pd.DataFrame(X_test, columns=X_test_raw.columns)"
   ]
  },
  {
   "cell_type": "markdown",
   "metadata": {},
   "source": [
    "Performed features scaling using Standardscaler (in this case was not really necessary because Random Forests are based on decision trees, which split data based on feature thresholds rather than calculating distances or gradients)."
   ]
  },
  {
   "cell_type": "code",
   "execution_count": 220,
   "metadata": {},
   "outputs": [
    {
     "data": {
      "text/plain": [
       "label\n",
       "0    50000\n",
       "1    50000\n",
       "Name: count, dtype: int64"
      ]
     },
     "execution_count": 220,
     "metadata": {},
     "output_type": "execute_result"
    }
   ],
   "source": [
    "y_train.value_counts()"
   ]
  },
  {
   "cell_type": "code",
   "execution_count": 221,
   "metadata": {},
   "outputs": [
    {
     "data": {
      "text/plain": [
       "label\n",
       "1    10000\n",
       "0    10000\n",
       "Name: count, dtype: int64"
      ]
     },
     "execution_count": 221,
     "metadata": {},
     "output_type": "execute_result"
    }
   ],
   "source": [
    "y_test.value_counts()"
   ]
  },
  {
   "cell_type": "markdown",
   "metadata": {},
   "source": [
    "- Feature Correlation Matrix\n",
    "\n",
    "Identifying Relationships Between Features and the Target Variable to Improve Model Performance and Interpretability"
   ]
  },
  {
   "cell_type": "code",
   "execution_count": 222,
   "metadata": {},
   "outputs": [
    {
     "data": {
      "image/png": "[encoded data removed]",
      "text/plain": [
       "<Figure size 1200x1000 with 2 Axes>"
      ]
     },
     "metadata": {},
     "output_type": "display_data"
    }
   ],
   "source": [
    "import seaborn as sns\n",
    "correlation_features = train_data[['label', 'year', 'year_b'] + \n",
    "                                  [f'category_{i}' for i in range(35)] +\n",
    "                                  [f'category_{i}_b' for i in range(35)]]\n",
    "\n",
    "# Compute the correlation matrix\n",
    "correlation_matrix = correlation_features.corr()\n",
    "\n",
    "# Visualize the correlation matrix\n",
    "plt.figure(figsize=(12, 10))\n",
    "sns.heatmap(correlation_matrix, annot=False, cmap='coolwarm', fmt='.2f', cbar=True)\n",
    "plt.title('Feature Correlation Matrix')\n",
    "plt.show()"
   ]
  },
  {
   "cell_type": "code",
   "execution_count": 223,
   "metadata": {},
   "outputs": [
    {
     "data": {
      "text/plain": [
       "label            1.000000\n",
       "year             0.136766\n",
       "category_17      0.059758\n",
       "category_17_b    0.056547\n",
       "category_29_b    0.054628\n",
       "                   ...   \n",
       "category_26     -0.038343\n",
       "category_18     -0.043591\n",
       "category_26_b   -0.044798\n",
       "category_25     -0.114108\n",
       "year_b          -0.257220\n",
       "Name: label, Length: 73, dtype: float64"
      ]
     },
     "execution_count": 223,
     "metadata": {},
     "output_type": "execute_result"
    }
   ],
   "source": [
    "correlation_matrix['label'].sort_values(ascending=False)"
   ]
  },
  {
   "cell_type": "code",
   "execution_count": 224,
   "metadata": {},
   "outputs": [
    {
     "data": {
      "text/plain": [
       "0    0\n",
       "1    0\n",
       "2    0\n",
       "3    0\n",
       "4    0\n",
       "Name: label, dtype: int64"
      ]
     },
     "execution_count": 224,
     "metadata": {},
     "output_type": "execute_result"
    }
   ],
   "source": [
    "y_train.head(5)"
   ]
  },
  {
   "cell_type": "markdown",
   "metadata": {},
   "source": [
    "### 5. **Train a Model**\n",
    "\n",
    "Random Forest model trainign procedure:"
   ]
  },
  {
   "cell_type": "code",
   "execution_count": 225,
   "metadata": {},
   "outputs": [
    {
     "data": {
      "text/html": [
       "<div>\n",
       "<style scoped>\n",
       "    .dataframe tbody tr th:only-of-type {\n",
       "        vertical-align: middle;\n",
       "    }\n",
       "\n",
       "    .dataframe tbody tr th {\n",
       "        vertical-align: top;\n",
       "    }\n",
       "\n",
       "    .dataframe thead th {\n",
       "        text-align: right;\n",
       "    }\n",
       "</style>\n",
       "<table border=\"1\" class=\"dataframe\">\n",
       "  <thead>\n",
       "    <tr style=\"text-align: right;\">\n",
       "      <th></th>\n",
       "      <th>paper_a</th>\n",
       "      <th>paper_b</th>\n",
       "      <th>year</th>\n",
       "      <th>venue</th>\n",
       "      <th>category_0</th>\n",
       "      <th>category_1</th>\n",
       "      <th>category_2</th>\n",
       "      <th>category_3</th>\n",
       "      <th>category_4</th>\n",
       "      <th>category_5</th>\n",
       "      <th>...</th>\n",
       "      <th>category_27_b</th>\n",
       "      <th>category_28_b</th>\n",
       "      <th>category_29_b</th>\n",
       "      <th>category_30_b</th>\n",
       "      <th>category_31_b</th>\n",
       "      <th>category_32_b</th>\n",
       "      <th>category_33_b</th>\n",
       "      <th>category_34_b</th>\n",
       "      <th>label_b</th>\n",
       "      <th>title_similarity</th>\n",
       "    </tr>\n",
       "  </thead>\n",
       "  <tbody>\n",
       "    <tr>\n",
       "      <th>0</th>\n",
       "      <td>1.348769</td>\n",
       "      <td>-0.089376</td>\n",
       "      <td>0.400971</td>\n",
       "      <td>0.0</td>\n",
       "      <td>2.367124</td>\n",
       "      <td>-0.374032</td>\n",
       "      <td>-0.24902</td>\n",
       "      <td>-0.235438</td>\n",
       "      <td>-0.169007</td>\n",
       "      <td>3.224486</td>\n",
       "      <td>...</td>\n",
       "      <td>-0.038759</td>\n",
       "      <td>-0.034806</td>\n",
       "      <td>-0.164509</td>\n",
       "      <td>-0.068938</td>\n",
       "      <td>-0.084921</td>\n",
       "      <td>-0.097517</td>\n",
       "      <td>-0.094008</td>\n",
       "      <td>-0.620935</td>\n",
       "      <td>1.385781</td>\n",
       "      <td>0.610439</td>\n",
       "    </tr>\n",
       "    <tr>\n",
       "      <th>1</th>\n",
       "      <td>-1.677500</td>\n",
       "      <td>-1.803036</td>\n",
       "      <td>0.867315</td>\n",
       "      <td>0.0</td>\n",
       "      <td>-0.422454</td>\n",
       "      <td>-0.374032</td>\n",
       "      <td>-0.24902</td>\n",
       "      <td>-0.235438</td>\n",
       "      <td>-0.169007</td>\n",
       "      <td>3.224486</td>\n",
       "      <td>...</td>\n",
       "      <td>-0.038759</td>\n",
       "      <td>-0.034806</td>\n",
       "      <td>-0.164509</td>\n",
       "      <td>-0.068938</td>\n",
       "      <td>-0.084921</td>\n",
       "      <td>-0.097517</td>\n",
       "      <td>-0.094008</td>\n",
       "      <td>-0.620935</td>\n",
       "      <td>1.385781</td>\n",
       "      <td>-0.376518</td>\n",
       "    </tr>\n",
       "    <tr>\n",
       "      <th>2</th>\n",
       "      <td>-0.936087</td>\n",
       "      <td>0.207256</td>\n",
       "      <td>1.217073</td>\n",
       "      <td>0.0</td>\n",
       "      <td>-0.422454</td>\n",
       "      <td>-0.374032</td>\n",
       "      <td>-0.24902</td>\n",
       "      <td>-0.235438</td>\n",
       "      <td>-0.169007</td>\n",
       "      <td>-0.310127</td>\n",
       "      <td>...</td>\n",
       "      <td>-0.038759</td>\n",
       "      <td>-0.034806</td>\n",
       "      <td>-0.164509</td>\n",
       "      <td>-0.068938</td>\n",
       "      <td>-0.084921</td>\n",
       "      <td>-0.097517</td>\n",
       "      <td>-0.094008</td>\n",
       "      <td>-0.620935</td>\n",
       "      <td>-0.721615</td>\n",
       "      <td>-0.502607</td>\n",
       "    </tr>\n",
       "    <tr>\n",
       "      <th>3</th>\n",
       "      <td>0.842040</td>\n",
       "      <td>0.814121</td>\n",
       "      <td>-1.114647</td>\n",
       "      <td>0.0</td>\n",
       "      <td>-0.422454</td>\n",
       "      <td>-0.374032</td>\n",
       "      <td>-0.24902</td>\n",
       "      <td>-0.235438</td>\n",
       "      <td>-0.169007</td>\n",
       "      <td>-0.310127</td>\n",
       "      <td>...</td>\n",
       "      <td>-0.038759</td>\n",
       "      <td>-0.034806</td>\n",
       "      <td>-0.164509</td>\n",
       "      <td>-0.068938</td>\n",
       "      <td>-0.084921</td>\n",
       "      <td>-0.097517</td>\n",
       "      <td>-0.094008</td>\n",
       "      <td>-0.620935</td>\n",
       "      <td>-0.721615</td>\n",
       "      <td>-0.238814</td>\n",
       "    </tr>\n",
       "    <tr>\n",
       "      <th>4</th>\n",
       "      <td>0.227315</td>\n",
       "      <td>0.290292</td>\n",
       "      <td>1.217073</td>\n",
       "      <td>0.0</td>\n",
       "      <td>-0.422454</td>\n",
       "      <td>-0.374032</td>\n",
       "      <td>-0.24902</td>\n",
       "      <td>-0.235438</td>\n",
       "      <td>-0.169007</td>\n",
       "      <td>-0.310127</td>\n",
       "      <td>...</td>\n",
       "      <td>-0.038759</td>\n",
       "      <td>-0.034806</td>\n",
       "      <td>-0.164509</td>\n",
       "      <td>-0.068938</td>\n",
       "      <td>-0.084921</td>\n",
       "      <td>-0.097517</td>\n",
       "      <td>-0.094008</td>\n",
       "      <td>-0.620935</td>\n",
       "      <td>-0.721615</td>\n",
       "      <td>-0.502607</td>\n",
       "    </tr>\n",
       "  </tbody>\n",
       "</table>\n",
       "<p>5 rows × 79 columns</p>\n",
       "</div>"
      ],
      "text/plain": [
       "    paper_a   paper_b      year  venue  category_0  category_1  category_2  \\\n",
       "0  1.348769 -0.089376  0.400971    0.0    2.367124   -0.374032    -0.24902   \n",
       "1 -1.677500 -1.803036  0.867315    0.0   -0.422454   -0.374032    -0.24902   \n",
       "2 -0.936087  0.207256  1.217073    0.0   -0.422454   -0.374032    -0.24902   \n",
       "3  0.842040  0.814121 -1.114647    0.0   -0.422454   -0.374032    -0.24902   \n",
       "4  0.227315  0.290292  1.217073    0.0   -0.422454   -0.374032    -0.24902   \n",
       "\n",
       "   category_3  category_4  category_5  ...  category_27_b  category_28_b  \\\n",
       "0   -0.235438   -0.169007    3.224486  ...      -0.038759      -0.034806   \n",
       "1   -0.235438   -0.169007    3.224486  ...      -0.038759      -0.034806   \n",
       "2   -0.235438   -0.169007   -0.310127  ...      -0.038759      -0.034806   \n",
       "3   -0.235438   -0.169007   -0.310127  ...      -0.038759      -0.034806   \n",
       "4   -0.235438   -0.169007   -0.310127  ...      -0.038759      -0.034806   \n",
       "\n",
       "   category_29_b  category_30_b  category_31_b  category_32_b  category_33_b  \\\n",
       "0      -0.164509      -0.068938      -0.084921      -0.097517      -0.094008   \n",
       "1      -0.164509      -0.068938      -0.084921      -0.097517      -0.094008   \n",
       "2      -0.164509      -0.068938      -0.084921      -0.097517      -0.094008   \n",
       "3      -0.164509      -0.068938      -0.084921      -0.097517      -0.094008   \n",
       "4      -0.164509      -0.068938      -0.084921      -0.097517      -0.094008   \n",
       "\n",
       "   category_34_b   label_b  title_similarity  \n",
       "0      -0.620935  1.385781          0.610439  \n",
       "1      -0.620935  1.385781         -0.376518  \n",
       "2      -0.620935 -0.721615         -0.502607  \n",
       "3      -0.620935 -0.721615         -0.238814  \n",
       "4      -0.620935 -0.721615         -0.502607  \n",
       "\n",
       "[5 rows x 79 columns]"
      ]
     },
     "execution_count": 225,
     "metadata": {},
     "output_type": "execute_result"
    }
   ],
   "source": [
    "X_train.head(5)"
   ]
  },
  {
   "cell_type": "code",
   "execution_count": 226,
   "metadata": {},
   "outputs": [
    {
     "data": {
      "text/plain": [
       "Index(['paper_a', 'paper_b', 'year', 'venue', 'category_0', 'category_1',\n",
       "       'category_2', 'category_3', 'category_4', 'category_5', 'category_6',\n",
       "       'category_7', 'category_8', 'category_9', 'category_10', 'category_11',\n",
       "       'category_12', 'category_13', 'category_14', 'category_15',\n",
       "       'category_16', 'category_17', 'category_18', 'category_19',\n",
       "       'category_20', 'category_21', 'category_22', 'category_23',\n",
       "       'category_24', 'category_25', 'category_26', 'category_27',\n",
       "       'category_28', 'category_29', 'category_30', 'category_31',\n",
       "       'category_32', 'category_33', 'category_34', 'label_a', 'year_b',\n",
       "       'venue_b', 'category_0_b', 'category_1_b', 'category_2_b',\n",
       "       'category_3_b', 'category_4_b', 'category_5_b', 'category_6_b',\n",
       "       'category_7_b', 'category_8_b', 'category_9_b', 'category_10_b',\n",
       "       'category_11_b', 'category_12_b', 'category_13_b', 'category_14_b',\n",
       "       'category_15_b', 'category_16_b', 'category_17_b', 'category_18_b',\n",
       "       'category_19_b', 'category_20_b', 'category_21_b', 'category_22_b',\n",
       "       'category_23_b', 'category_24_b', 'category_25_b', 'category_26_b',\n",
       "       'category_27_b', 'category_28_b', 'category_29_b', 'category_30_b',\n",
       "       'category_31_b', 'category_32_b', 'category_33_b', 'category_34_b',\n",
       "       'label_b', 'title_similarity'],\n",
       "      dtype='object')"
      ]
     },
     "execution_count": 226,
     "metadata": {},
     "output_type": "execute_result"
    }
   ],
   "source": [
    "X_train.columns"
   ]
  },
  {
   "cell_type": "code",
   "execution_count": 227,
   "metadata": {},
   "outputs": [],
   "source": [
    "X_train = X_train.drop(columns=['paper_a', 'paper_b'])\n",
    "X_test = X_test.drop(columns=['paper_a', 'paper_b'])"
   ]
  },
  {
   "cell_type": "code",
   "execution_count": 228,
   "metadata": {},
   "outputs": [
    {
     "name": "stdout",
     "output_type": "stream",
     "text": [
      "Accuracy: 0.9295\n",
      "Classification Report:\n",
      "               precision    recall  f1-score   support\n",
      "\n",
      "           0       0.96      0.89      0.93     10000\n",
      "           1       0.90      0.97      0.93     10000\n",
      "\n",
      "    accuracy                           0.93     20000\n",
      "   macro avg       0.93      0.93      0.93     20000\n",
      "weighted avg       0.93      0.93      0.93     20000\n",
      "\n"
     ]
    }
   ],
   "source": [
    "from sklearn.ensemble import RandomForestClassifier\n",
    "from sklearn.metrics import accuracy_score, classification_report\n",
    "\n",
    "# Train the model\n",
    "clf = RandomForestClassifier(random_state=55)\n",
    "clf.fit(X_train, y_train)\n",
    "\n",
    "# Predict and evaluate\n",
    "y_pred = clf.predict(X_test)\n",
    "print(\"Accuracy:\", accuracy_score(y_test, y_pred))\n",
    "print(\"Classification Report:\\n\", classification_report(y_test, y_pred))"
   ]
  },
  {
   "cell_type": "code",
   "execution_count": 229,
   "metadata": {},
   "outputs": [
    {
     "data": {
      "image/png": "[encoded data removed]",
      "text/plain": [
       "<Figure size 800x600 with 2 Axes>"
      ]
     },
     "metadata": {},
     "output_type": "display_data"
    }
   ],
   "source": [
    "from sklearn.metrics import confusion_matrix\n",
    "import matplotlib.pyplot as plt\n",
    "\n",
    "cm = confusion_matrix(y_test, y_pred)\n",
    "plt.figure(figsize=(8, 6))\n",
    "sns.heatmap(cm, annot=True, cmap='Blues', fmt='g')\n",
    "plt.xlabel('Predicted labels')\n",
    "plt.ylabel('True labels')\n",
    "plt.title('Confusion Matrix')\n",
    "plt.show()"
   ]
  },
  {
   "cell_type": "code",
   "execution_count": 230,
   "metadata": {},
   "outputs": [
    {
     "data": {
      "text/plain": [
       "array([[8914, 1086],\n",
       "       [ 324, 9676]])"
      ]
     },
     "execution_count": 230,
     "metadata": {},
     "output_type": "execute_result"
    }
   ],
   "source": [
    "cm"
   ]
  },
  {
   "cell_type": "markdown",
   "metadata": {},
   "source": [
    "### 6. **Evaluation and Interpretation**\n",
    "\n",
    "- **Feature Importance**: Check which features contribute most:"
   ]
  },
  {
   "cell_type": "code",
   "execution_count": 231,
   "metadata": {},
   "outputs": [
    {
     "data": {
      "image/png": "[encoded data removed]",
      "text/plain": [
       "<Figure size 1000x600 with 1 Axes>"
      ]
     },
     "metadata": {},
     "output_type": "display_data"
    }
   ],
   "source": [
    "import matplotlib.pyplot as plt\n",
    "feature_importances = clf.feature_importances_\n",
    "indices = np.argsort(feature_importances)[::-1]\n",
    "selected_features = [X_train.columns[i] for i in indices if feature_importances[i] > 0.001]\n",
    "selected_importances = [feature_importances[i] for i in indices if feature_importances[i] > 0.001]\n",
    "\n",
    "plt.figure(figsize=(10, 6))\n",
    "plt.bar(selected_features, selected_importances)\n",
    "plt.xticks(rotation=90)\n",
    "plt.xlabel('Features')\n",
    "plt.ylabel('Importance')\n",
    "plt.title('Feature Importance')\n",
    "plt.show()"
   ]
  },
  {
   "cell_type": "code",
   "execution_count": 232,
   "metadata": {},
   "outputs": [
    {
     "data": {
      "text/html": [
       "<div>\n",
       "<style scoped>\n",
       "    .dataframe tbody tr th:only-of-type {\n",
       "        vertical-align: middle;\n",
       "    }\n",
       "\n",
       "    .dataframe tbody tr th {\n",
       "        vertical-align: top;\n",
       "    }\n",
       "\n",
       "    .dataframe thead th {\n",
       "        text-align: right;\n",
       "    }\n",
       "</style>\n",
       "<table border=\"1\" class=\"dataframe\">\n",
       "  <thead>\n",
       "    <tr style=\"text-align: right;\">\n",
       "      <th></th>\n",
       "      <th>paper_a</th>\n",
       "      <th>paper_b</th>\n",
       "      <th>label</th>\n",
       "    </tr>\n",
       "  </thead>\n",
       "  <tbody>\n",
       "    <tr>\n",
       "      <th>0</th>\n",
       "      <td>413734</td>\n",
       "      <td>624808</td>\n",
       "      <td>1</td>\n",
       "    </tr>\n",
       "    <tr>\n",
       "      <th>1</th>\n",
       "      <td>451321</td>\n",
       "      <td>485424</td>\n",
       "      <td>0</td>\n",
       "    </tr>\n",
       "    <tr>\n",
       "      <th>2</th>\n",
       "      <td>84022</td>\n",
       "      <td>108333</td>\n",
       "      <td>0</td>\n",
       "    </tr>\n",
       "    <tr>\n",
       "      <th>3</th>\n",
       "      <td>300514</td>\n",
       "      <td>530093</td>\n",
       "      <td>1</td>\n",
       "    </tr>\n",
       "    <tr>\n",
       "      <th>4</th>\n",
       "      <td>76997</td>\n",
       "      <td>374102</td>\n",
       "      <td>1</td>\n",
       "    </tr>\n",
       "    <tr>\n",
       "      <th>...</th>\n",
       "      <td>...</td>\n",
       "      <td>...</td>\n",
       "      <td>...</td>\n",
       "    </tr>\n",
       "    <tr>\n",
       "      <th>19995</th>\n",
       "      <td>461019</td>\n",
       "      <td>181031</td>\n",
       "      <td>1</td>\n",
       "    </tr>\n",
       "    <tr>\n",
       "      <th>19996</th>\n",
       "      <td>345364</td>\n",
       "      <td>620780</td>\n",
       "      <td>1</td>\n",
       "    </tr>\n",
       "    <tr>\n",
       "      <th>19997</th>\n",
       "      <td>381284</td>\n",
       "      <td>39594</td>\n",
       "      <td>0</td>\n",
       "    </tr>\n",
       "    <tr>\n",
       "      <th>19998</th>\n",
       "      <td>550416</td>\n",
       "      <td>320912</td>\n",
       "      <td>1</td>\n",
       "    </tr>\n",
       "    <tr>\n",
       "      <th>19999</th>\n",
       "      <td>482138</td>\n",
       "      <td>225111</td>\n",
       "      <td>0</td>\n",
       "    </tr>\n",
       "  </tbody>\n",
       "</table>\n",
       "<p>20000 rows × 3 columns</p>\n",
       "</div>"
      ],
      "text/plain": [
       "      paper_a paper_b  label\n",
       "0      413734  624808      1\n",
       "1      451321  485424      0\n",
       "2       84022  108333      0\n",
       "3      300514  530093      1\n",
       "4       76997  374102      1\n",
       "...       ...     ...    ...\n",
       "19995  461019  181031      1\n",
       "19996  345364  620780      1\n",
       "19997  381284   39594      0\n",
       "19998  550416  320912      1\n",
       "19999  482138  225111      0\n",
       "\n",
       "[20000 rows x 3 columns]"
      ]
     },
     "execution_count": 232,
     "metadata": {},
     "output_type": "execute_result"
    }
   ],
   "source": [
    "test_pairs_df"
   ]
  },
  {
   "cell_type": "code",
   "execution_count": 233,
   "metadata": {},
   "outputs": [
    {
     "data": {
      "text/html": [
       "<div>\n",
       "<style scoped>\n",
       "    .dataframe tbody tr th:only-of-type {\n",
       "        vertical-align: middle;\n",
       "    }\n",
       "\n",
       "    .dataframe tbody tr th {\n",
       "        vertical-align: top;\n",
       "    }\n",
       "\n",
       "    .dataframe thead th {\n",
       "        text-align: right;\n",
       "    }\n",
       "</style>\n",
       "<table border=\"1\" class=\"dataframe\">\n",
       "  <thead>\n",
       "    <tr style=\"text-align: right;\">\n",
       "      <th></th>\n",
       "      <th>paper_a</th>\n",
       "      <th>paper_b</th>\n",
       "      <th>label</th>\n",
       "    </tr>\n",
       "  </thead>\n",
       "  <tbody>\n",
       "    <tr>\n",
       "      <th>0</th>\n",
       "      <td>563462</td>\n",
       "      <td>311306</td>\n",
       "      <td>0</td>\n",
       "    </tr>\n",
       "    <tr>\n",
       "      <th>1</th>\n",
       "      <td>24</td>\n",
       "      <td>8161</td>\n",
       "      <td>0</td>\n",
       "    </tr>\n",
       "    <tr>\n",
       "      <th>2</th>\n",
       "      <td>138062</td>\n",
       "      <td>363780</td>\n",
       "      <td>0</td>\n",
       "    </tr>\n",
       "    <tr>\n",
       "      <th>3</th>\n",
       "      <td>469118</td>\n",
       "      <td>471134</td>\n",
       "      <td>0</td>\n",
       "    </tr>\n",
       "    <tr>\n",
       "      <th>4</th>\n",
       "      <td>354667</td>\n",
       "      <td>378469</td>\n",
       "      <td>0</td>\n",
       "    </tr>\n",
       "    <tr>\n",
       "      <th>...</th>\n",
       "      <td>...</td>\n",
       "      <td>...</td>\n",
       "      <td>...</td>\n",
       "    </tr>\n",
       "    <tr>\n",
       "      <th>99995</th>\n",
       "      <td>291220</td>\n",
       "      <td>350353</td>\n",
       "      <td>0</td>\n",
       "    </tr>\n",
       "    <tr>\n",
       "      <th>99996</th>\n",
       "      <td>87107</td>\n",
       "      <td>584454</td>\n",
       "      <td>1</td>\n",
       "    </tr>\n",
       "    <tr>\n",
       "      <th>99997</th>\n",
       "      <td>25859</td>\n",
       "      <td>325328</td>\n",
       "      <td>0</td>\n",
       "    </tr>\n",
       "    <tr>\n",
       "      <th>99998</th>\n",
       "      <td>497040</td>\n",
       "      <td>446168</td>\n",
       "      <td>1</td>\n",
       "    </tr>\n",
       "    <tr>\n",
       "      <th>99999</th>\n",
       "      <td>140436</td>\n",
       "      <td>434758</td>\n",
       "      <td>1</td>\n",
       "    </tr>\n",
       "  </tbody>\n",
       "</table>\n",
       "<p>100000 rows × 3 columns</p>\n",
       "</div>"
      ],
      "text/plain": [
       "      paper_a paper_b  label\n",
       "0      563462  311306      0\n",
       "1          24    8161      0\n",
       "2      138062  363780      0\n",
       "3      469118  471134      0\n",
       "4      354667  378469      0\n",
       "...       ...     ...    ...\n",
       "99995  291220  350353      0\n",
       "99996   87107  584454      1\n",
       "99997   25859  325328      0\n",
       "99998  497040  446168      1\n",
       "99999  140436  434758      1\n",
       "\n",
       "[100000 rows x 3 columns]"
      ]
     },
     "execution_count": 233,
     "metadata": {},
     "output_type": "execute_result"
    }
   ],
   "source": [
    "train_pairs_df"
   ]
  },
  {
   "cell_type": "code",
   "execution_count": 234,
   "metadata": {},
   "outputs": [],
   "source": [
    "assert len(set(train_df['index']).intersection(set(test_df['index']))) == 0, \"Data leakage detected!\""
   ]
  },
  {
   "cell_type": "code",
   "execution_count": 238,
   "metadata": {},
   "outputs": [
    {
     "name": "stdout",
     "output_type": "stream",
     "text": [
      "Sampled pair: paper_a=138738, paper_b=27280\n",
      "Expected Label: 1\n",
      "Predicted Label: 1\n",
      "\n",
      "The prediction matches the expected label.\n",
      "Sampled pair: paper_a=587736, paper_b=178121\n",
      "Expected Label: 0\n",
      "Predicted Label: 1\n",
      "\n",
      "The prediction does not match the expected label.\n",
      "Sampled pair: paper_a=352303, paper_b=296627\n",
      "Expected Label: 1\n",
      "Predicted Label: 1\n",
      "\n",
      "The prediction matches the expected label.\n",
      "Sampled pair: paper_a=571232, paper_b=94457\n",
      "Expected Label: 1\n",
      "Predicted Label: 1\n",
      "\n",
      "The prediction matches the expected label.\n",
      "Sampled pair: paper_a=6385, paper_b=436965\n",
      "Expected Label: 0\n",
      "Predicted Label: 0\n",
      "\n",
      "The prediction matches the expected label.\n",
      "Sampled pair: paper_a=615746, paper_b=423929\n",
      "Expected Label: 0\n",
      "Predicted Label: 1\n",
      "\n",
      "The prediction does not match the expected label.\n",
      "Sampled pair: paper_a=23215, paper_b=256810\n",
      "Expected Label: 1\n",
      "Predicted Label: 1\n",
      "\n",
      "The prediction matches the expected label.\n",
      "Sampled pair: paper_a=218455, paper_b=19153\n",
      "Expected Label: 0\n",
      "Predicted Label: 1\n",
      "\n",
      "The prediction does not match the expected label.\n",
      "Sampled pair: paper_a=343783, paper_b=518710\n",
      "Expected Label: 0\n",
      "Predicted Label: 1\n",
      "\n",
      "The prediction does not match the expected label.\n",
      "Sampled pair: paper_a=55493, paper_b=196256\n",
      "Expected Label: 0\n",
      "Predicted Label: 1\n",
      "\n",
      "The prediction does not match the expected label.\n",
      "Sampled pair: paper_a=334844, paper_b=479943\n",
      "Expected Label: 1\n",
      "Predicted Label: 1\n",
      "\n",
      "The prediction matches the expected label.\n",
      "Sampled pair: paper_a=582034, paper_b=416657\n",
      "Expected Label: 0\n",
      "Predicted Label: 1\n",
      "\n",
      "The prediction does not match the expected label.\n",
      "Sampled pair: paper_a=560864, paper_b=486373\n",
      "Expected Label: 1\n",
      "Predicted Label: 1\n",
      "\n",
      "The prediction matches the expected label.\n",
      "Sampled pair: paper_a=48081, paper_b=248919\n",
      "Expected Label: 1\n",
      "Predicted Label: 1\n",
      "\n",
      "The prediction matches the expected label.\n",
      "Sampled pair: paper_a=103149, paper_b=517247\n",
      "Expected Label: 1\n",
      "Predicted Label: 0\n",
      "\n",
      "The prediction does not match the expected label.\n",
      "Sampled pair: paper_a=800, paper_b=550746\n",
      "Expected Label: 0\n",
      "Predicted Label: 1\n",
      "\n",
      "The prediction does not match the expected label.\n",
      "Sampled pair: paper_a=334561, paper_b=229046\n",
      "Expected Label: 1\n",
      "Predicted Label: 1\n",
      "\n",
      "The prediction matches the expected label.\n",
      "Sampled pair: paper_a=223015, paper_b=477952\n",
      "Expected Label: 1\n",
      "Predicted Label: 1\n",
      "\n",
      "The prediction matches the expected label.\n",
      "Sampled pair: paper_a=232460, paper_b=611578\n",
      "Expected Label: 0\n",
      "Predicted Label: 1\n",
      "\n",
      "The prediction does not match the expected label.\n",
      "Sampled pair: paper_a=469398, paper_b=149669\n",
      "Expected Label: 1\n",
      "Predicted Label: 1\n",
      "\n",
      "The prediction matches the expected label.\n"
     ]
    }
   ],
   "source": [
    "def predict_citation_dynamic(test_pairs_df, df, clf, tfidf_vectorizer, X_train):\n",
    "    # Randomly sample a row from test_pairs_df\n",
    "    sampled_pair = test_pairs_df.sample(1).iloc[0]\n",
    "    paper_a = sampled_pair['paper_a']\n",
    "    paper_b = sampled_pair['paper_b']\n",
    "    expected_label = sampled_pair['label']\n",
    "\n",
    "    # Extract features for paper_a\n",
    "    paper_a_data = df[df['index'] == paper_a].iloc[0]\n",
    "    paper_a_features = paper_a_data.drop(['citations', 'index', 'title', 'abstract'])\n",
    "\n",
    "    # Extract features for paper_b\n",
    "    paper_b_data = df[df['index'] == paper_b].iloc[0]\n",
    "    paper_b_features = paper_b_data.drop(['citations', 'index', 'title', 'abstract'])\n",
    "\n",
    "    # Add suffix \"_b\" to paper_b features\n",
    "    paper_b_features = paper_b_features.rename(lambda x: f\"{x}_b\")\n",
    "\n",
    "    # Compute title similarity\n",
    "    title_similarity = cosine_similarity(\n",
    "        tfidf_vectorizer.transform([paper_a_data['title']]), \n",
    "        tfidf_vectorizer.transform([paper_b_data['title']])\n",
    "    )[0][0]\n",
    "\n",
    "    # Create the feature vector for both paper_a and paper_b\n",
    "    feature_vector = {\n",
    "        **paper_a_features.to_dict(),\n",
    "        **paper_b_features.to_dict(),\n",
    "        'title_similarity': title_similarity\n",
    "    }\n",
    "\n",
    "    # Ensure the feature vector is ordered the same way as the training data (X_train columns)\n",
    "    feature_vector = {key: feature_vector.get(key, 0) for key in X_train.columns}\n",
    "\n",
    "    # Prepare the final feature vector for prediction (convert to list of values)\n",
    "    final_feature_vector = [float(value) for value in feature_vector.values()]\n",
    "\n",
    "    # Convert to DataFrame to ensure proper alignment of feature names\n",
    "    feature_df = pd.DataFrame([final_feature_vector], columns=X_train.columns)\n",
    "\n",
    "    # Make prediction using the classifier\n",
    "    prediction = clf.predict(feature_df)  # Pass the DataFrame with correct feature names\n",
    "\n",
    "    # Print details for debugging\n",
    "    print(f\"Sampled pair: paper_a={paper_a}, paper_b={paper_b}\")\n",
    "    print(f\"Expected Label: {expected_label}\")\n",
    "    print(f\"Predicted Label: {prediction[0]}\\n\")\n",
    "\n",
    "    # Return the result\n",
    "    return prediction[0], expected_label\n",
    "\n",
    "# Usage example:\n",
    "# Sample 5 rows with label 1 and 5 with label 0\n",
    "positive_samples = test_pairs_df[test_pairs_df['label'] == 1].sample(10)\n",
    "negative_samples = test_pairs_df[test_pairs_df['label'] == 0].sample(10)\n",
    "# Use pd.concat instead of append\n",
    "sampled_test_pairs = pd.concat([positive_samples, negative_samples])\n",
    "\n",
    "for _, row in sampled_test_pairs.iterrows():\n",
    "    predicted_label, expected_label = predict_citation_dynamic(test_pairs_df, df, clf, tfidf_vectorizer, X_train)\n",
    "    if predicted_label == expected_label:\n",
    "        print(\"The prediction matches the expected label.\")\n",
    "    else:\n",
    "        print(\"The prediction does not match the expected label.\")\n"
   ]
  }
 ],
 "metadata": {
  "kernelspec": {
   "display_name": ".venv",
   "language": "python",
   "name": "python3"
  },
  "language_info": {
   "codemirror_mode": {
    "name": "ipython",
    "version": 3
   },
   "file_extension": ".py",
   "mimetype": "text/x-python",
   "name": "python",
   "nbconvert_exporter": "python",
   "pygments_lexer": "ipython3",
   "version": "3.12.8"
  }
 },
 "nbformat": 4,
 "nbformat_minor": 2
}
